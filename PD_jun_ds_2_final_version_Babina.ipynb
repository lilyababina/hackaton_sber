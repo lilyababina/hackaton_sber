{
 "cells": [
  {
   "cell_type": "markdown",
   "metadata": {
    "id": "qb9mY_HmN913"
   },
   "source": [
    "# Домашнее задание для Junior DS по разработке PD модели"
   ]
  },
  {
   "cell_type": "markdown",
   "metadata": {
    "id": "NbqnB_V8N915"
   },
   "source": [
    "<b>Задание:</b> Необходиом разработать модель предсказания дефолта. Даны финансовые данные 32 395 компаний (выручка, активы, пассивы и т.д). Результат будет оцениваться на скрытой выборке из 200 компаний по метрике качества accuracy_score\n",
    "\n",
    "<b>Цель задания</b> научиться / показать знания в разработке моделей оценки риска - probability of default. Задание приближено к реальному, данные синтетические. Лидерборд для оценки собственного решения и геймификации процесса обучения. Первое место в лидерборде не явлется целью. Цель - правильно разарботанная модель, удовлетворяющая требованиям банковской системы. В случае возникновения вопросов, сотрудники блока Риски готовы проконсультировать и дать обратную связь на модель (телеграм чат).\n",
    "\n",
    "<b>Метрика качества</b> accuracy_score вычисляется, как ( True positive + True negative ) / Total. Если сабмит-файл, не правильного формата или неверное количество строк, метрика будет = 0."
   ]
  },
  {
   "cell_type": "markdown",
   "metadata": {
    "id": "EJ9_SMqyN916"
   },
   "source": [
    "### Импортируем библиотеки"
   ]
  },
  {
   "cell_type": "code",
   "execution_count": 6735,
   "metadata": {
    "id": "Vo4g-4Y5N917"
   },
   "outputs": [],
   "source": [
    "import pandas as pd\n",
    "import numpy as np\n",
    "from sklearn.metrics import f1_score\n",
    "from matplotlib import pyplot as plt\n",
    "import seaborn as sns\n",
    "from sklearn.preprocessing import StandardScaler\n",
    "from sklearn.model_selection import cross_val_score\n",
    "from sklearn.model_selection import train_test_split\n",
    "from sklearn.linear_model import LogisticRegression\n",
    "from sklearn.metrics import accuracy_score\n",
    "from sklearn.preprocessing import StandardScaler, MinMaxScaler\n",
    "from sklearn.metrics import roc_auc_score\n",
    "from sklearn.datasets import make_friedman1\n",
    "from sklearn.feature_selection import RFE\n",
    "from sklearn.svm import SVR\n",
    "from sklearn.ensemble import RandomForestClassifier\n",
    "from sklearn.model_selection import StratifiedKFold\n",
    "from sklearn.model_selection import GridSearchCV\n",
    "import warnings\n",
    "warnings.simplefilter('ignore')\n",
    "warnings.filterwarnings('ignore')"
   ]
  },
  {
   "cell_type": "code",
   "execution_count": 6737,
   "metadata": {},
   "outputs": [],
   "source": [
    "#Функция для модификации столбца датафрейма после рассчета woe \n",
    "def change_column_woe_new(df1, col, dic):\n",
    "    df1[col] = df1[col].astype(str)\n",
    "    df1[col] = list(df1[col].map(dic))\n",
    "    df1[col] = df1[col].astype(float)"
   ]
  },
  {
   "cell_type": "code",
   "execution_count": 6738,
   "metadata": {},
   "outputs": [],
   "source": [
    "#Функция рассчета woe iv для признака\n",
    "def calc_woe_iv(df_tr, col) :\n",
    "    df = pd.DataFrame(columns = ['values','total','good','bad','event_rate','non_event_rate','per_total_events','per_total_non_events','WOE','IV'])\n",
    "    df['values'] = df_tr[col].unique()\n",
    "    df.set_index('values',inplace = True)\n",
    "    \n",
    "    values = df_tr[col].unique()\n",
    "    total_dict = dict(df_tr.groupby(col).size())\n",
    "    col_target_dict = dict(df_tr.groupby([col,'default_12m']).size())\n",
    "    target_count = dict(df_tr.groupby(['default_12m']).size())\n",
    "    \n",
    "    for value in values :\n",
    "        df.loc[value]['total'] = total_dict[value]\n",
    "        if (value,1) in col_target_dict:\n",
    "            df.loc[value]['good'] = col_target_dict[(value,1)]\n",
    "        else :\n",
    "            df.loc[value]['good'] = 0\n",
    "        \n",
    "        if (value,0) in col_target_dict:\n",
    "            df.loc[value]['bad'] = col_target_dict[(value,0)]\n",
    "        else :\n",
    "            df.loc[value]['bad'] = 0\n",
    "            \n",
    "        if df.loc[value]['bad'] == 0 :\n",
    "            df = df.drop([value])\n",
    "        \n",
    "    df['event_rate'] = df['good']/df['total']\n",
    "    df['non_event_rate'] = df['bad']/df['total']\n",
    "    \n",
    "    df['per_total_events'] = df['good']/target_count[1]\n",
    "    df['per_total_non_events'] = df['bad']/target_count[0]\n",
    "    \n",
    "    df['WOE'] = np.log(df.per_total_events.astype('float64')/df.per_total_non_events.astype('float64'))\n",
    "    df['IV'] = (df['per_total_events'] - df['per_total_non_events']) * df['WOE']\n",
    "    \n",
    "    return df "
   ]
  },
  {
   "cell_type": "code",
   "execution_count": 6740,
   "metadata": {},
   "outputs": [],
   "source": [
    "#функция замены значений на woe df1(с пропусками)\n",
    "def change_data_with_nan(df):\n",
    "    bins1 = [-np.inf,35, 50, np.inf]\n",
    "    labels1 = [ '1', '2', '3']\n",
    "    df['bus_age_bin'] = pd.cut(df['bus_age'], bins = bins1, labels = labels1)\n",
    "    change_column_woe_new(df, 'bus_age_bin', dict01)\n",
    "    \n",
    "    bins2 = [-np.inf, 46, 103, np.inf]\n",
    "    labels2 = [ '1', '2', '3']\n",
    "    df['ogrn_age_bin'] = pd.cut(df['ogrn_age'], bins = bins2, labels = labels2)\n",
    "    change_column_woe_new(df, 'ogrn_age_bin', dict02)\n",
    "    \n",
    "    bins3 = [-np.inf, 3, 16,  np.inf]\n",
    "    labels3 = [ '1', '2', '3']\n",
    "    df['head_actual_age_bin'] = pd.cut(df['head_actual_age'], bins = bins3, labels = labels3)\n",
    "    change_column_woe_new(df,'head_actual_age_bin', dict03)\n",
    "    \n",
    "    df['ul_staff_range_bin'] = df['ul_staff_range']\n",
    "    df.loc[df['ul_staff_range_bin']==2, 'ul_staff_range_bin'] = 3\n",
    "    df.loc[df['ul_staff_range_bin']==1, 'ul_staff_range_bin'] = 0.017748\n",
    "    df.loc[df['ul_staff_range_bin']==3, 'ul_staff_range_bin'] = -0.714560\n",
    "    \n",
    "    bins5 = [-np.inf,40000,  np.inf]\n",
    "    labels5 = [ '1', '2']\n",
    "    df['ul_capital_sum_bin'] = pd.cut(df['ul_capital_sum'], bins = bins5, labels = labels5)\n",
    "    change_column_woe_new(df, 'ul_capital_sum_bin', dict05)\n",
    "    \n",
    "    bins6 = [-np.inf,1, 4,  np.inf]\n",
    "    labels6 = [ '1', '2', '3']\n",
    "    df['ul_founders_cnt_bin'] = pd.cut(df['ul_founders_cnt'], bins = bins6, labels = labels6)\n",
    "    change_column_woe_new(df, 'ul_founders_cnt_bin', dict06)\n",
    "    df.drop(columns = ['bus_age', 'ogrn_age', 'head_actual_age', 'ul_staff_range', 'ul_capital_sum', 'ul_founders_cnt'], inplace = True)\n",
    "    "
   ]
  },
  {
   "cell_type": "code",
   "execution_count": 6741,
   "metadata": {},
   "outputs": [],
   "source": [
    "#функция замены значений на woe df1(без пропусков)\n",
    "def change_data(df):\n",
    "    \n",
    "    df['CAP_AS_bin'] = pd.cut(df['CAP_AS'], bins = bins12, labels = labels12)\n",
    "    change_column_woe_new(df, 'CAP_AS_bin', dict12)\n",
    "   \n",
    "    df['LIQ_ABS_bin'] = pd.cut(df['LIQ_ABS'], bins = bins15, labels = labels15)\n",
    "    change_column_woe_new(df, 'LIQ_ABS_bin', dict15)\n",
    "    \n",
    "    df['LIQ_QUIK_bin'] = pd.cut(df['LIQ_QUIK'], bins = bins16, labels = labels16)\n",
    "    change_column_woe_new(df, 'LIQ_QUIK_bin', dict16)\n",
    "\n",
    "    df['coeff_likv_bin'] = pd.cut(df['coeff_likv'], bins = bins18, labels = labels18)\n",
    "    change_column_woe_new(df, 'coeff_likv_bin', dict18)\n",
    "\n",
    "    df['ar_revenue_bin'] = pd.cut(df['ar_revenue'], bins = bins20, labels = labels20)\n",
    "    change_column_woe_new(df, 'ar_revenue_bin', dict20)\n",
    "    \n",
    "    df['ar_selling_expenses_bin'] = pd.cut(df['ar_selling_expenses'], bins = bins23, labels = labels23)\n",
    "    change_column_woe_new(df, 'ar_selling_expenses_bin', dict23)\n",
    "\n",
    "    df['ar_profit_before_tax_bin'] = pd.cut(df['ar_profit_before_tax'], bins = bins27, labels = labels27)\n",
    "    change_column_woe_new(df, 'ar_profit_before_tax_bin', dict27)\n",
    "\n",
    "    df['ar_taxes_bin'] = pd.cut(df['ar_taxes'], bins = bins28, labels = labels28)\n",
    "    change_column_woe_new(df, 'ar_taxes_bin', dict28)\n",
    "\n",
    "    df['bus_age_bin'] = pd.cut(df['bus_age'], bins = bins44, labels = labels44)\n",
    "    change_column_woe_new(df, 'bus_age_bin', dict44)\n",
    "\n",
    "    df['ul_capital_sum_bin'] = pd.cut(df['ul_capital_sum'], bins = bins48, labels = labels48)\n",
    "    change_column_woe_new(df, 'ul_capital_sum_bin', dict48)\n",
    "\n",
    "    df['ul_founders_cnt_bin'] = pd.cut(df['ul_founders_cnt'], bins = bins49, labels = labels49)\n",
    "    change_column_woe_new(df, 'ul_founders_cnt_bin', dict49)\n",
    "\n",
    "    df['head_actual_age_bin'] = pd.cut(df['head_actual_age'], bins = bins46, labels = labels46)\n",
    "    change_column_woe_new(df, 'head_actual_age_bin', dict46)\n",
    "\n",
    "    \n",
    "    df.drop(columns = [ 'CAP_AS', 'LIQ_ABS', 'LIQ_QUIK',\n",
    "                        'coeff_likv', 'ar_revenue', 'ar_total_expenses', 'ar_sale_cost',\n",
    "                      'ar_selling_expenses', 'ar_management_expenses', 'ar_sale_profit',  \n",
    "                      'ar_balance_of_rvns_and_expns', 'ar_profit_before_tax', 'ar_taxes', \n",
    "                      'ar_other_profit_and_losses', 'ar_net_profit', 'ab_immobilized_assets', \n",
    "                       'ab_mobile_current_assets', 'ab_inventory', 'ab_accounts_receivable', \n",
    "                       'ab_other_current_assets','ab_cash_and_securities', 'ab_losses',\n",
    "                       'ab_own_capital', 'ab_borrowed_capital','ab_long_term_liabilities', \n",
    "                       'ab_short_term_borrowing', 'ab_accounts_payable', \n",
    "                 'ab_other_borrowings', 'bus_age', \n",
    "                      'ogrn_age', 'ul_staff_range', 'head_actual_age', \n",
    "                       'ul_capital_sum', 'ul_founders_cnt' , 'rashody', \n",
    "                       'oborotnie_activy' , 'activy_vsego','kratkosrochn_obyazatel',\n",
    "                       'dolgosrochn_obyazat'], inplace = True)"
   ]
  },
  {
   "cell_type": "markdown",
   "metadata": {
    "id": "4k8ndBMHN92A"
   },
   "source": [
    "### Подгружаем данные"
   ]
  },
  {
   "cell_type": "code",
   "execution_count": 6744,
   "metadata": {
    "id": "XwbL4T6rN92G"
   },
   "outputs": [],
   "source": [
    "train_df = pd.read_csv('https://raw.githubusercontent.com/BKHV/ds-test/master/PD-data-train.csv', sep=';')\n",
    "test_df = pd.read_csv('https://raw.githubusercontent.com/BKHV/ds-test/master/PD-data-test.csv', sep=';')\n",
    "desc_df = pd.read_csv('https://raw.githubusercontent.com/BKHV/ds-test/master/PD-data-desc.csv', sep=';')"
   ]
  },
  {
   "cell_type": "markdown",
   "metadata": {
    "id": "mjpgRpCaiHZK"
   },
   "source": [
    "Описание данных"
   ]
  },
  {
   "cell_type": "code",
   "execution_count": 6745,
   "metadata": {
    "id": "0EDh0CFViHZK",
    "outputId": "7271b16c-af1b-47fe-dd79-1179f49cad18"
   },
   "outputs": [
    {
     "data": {
      "text/html": [
       "<div>\n",
       "<style scoped>\n",
       "    .dataframe tbody tr th:only-of-type {\n",
       "        vertical-align: middle;\n",
       "    }\n",
       "\n",
       "    .dataframe tbody tr th {\n",
       "        vertical-align: top;\n",
       "    }\n",
       "\n",
       "    .dataframe thead th {\n",
       "        text-align: right;\n",
       "    }\n",
       "</style>\n",
       "<table border=\"1\" class=\"dataframe\">\n",
       "  <thead>\n",
       "    <tr style=\"text-align: right;\">\n",
       "      <th></th>\n",
       "      <th>field</th>\n",
       "      <th>desc_eng</th>\n",
       "      <th>desc_rus</th>\n",
       "    </tr>\n",
       "  </thead>\n",
       "  <tbody>\n",
       "    <tr>\n",
       "      <th>0</th>\n",
       "      <td>ar_revenue</td>\n",
       "      <td>Sales revenue (at the end of the last year)</td>\n",
       "      <td>Выручка от реализации (на конец последнего года)</td>\n",
       "    </tr>\n",
       "    <tr>\n",
       "      <th>1</th>\n",
       "      <td>ar_total_expenses</td>\n",
       "      <td>Total expenses for the last year</td>\n",
       "      <td>Общие расходы за последний год</td>\n",
       "    </tr>\n",
       "  </tbody>\n",
       "</table>\n",
       "</div>"
      ],
      "text/plain": [
       "               field                                     desc_eng  \\\n",
       "0         ar_revenue  Sales revenue (at the end of the last year)   \n",
       "1  ar_total_expenses             Total expenses for the last year   \n",
       "\n",
       "                                           desc_rus  \n",
       "0  Выручка от реализации (на конец последнего года)  \n",
       "1                    Общие расходы за последний год  "
      ]
     },
     "execution_count": 6745,
     "metadata": {},
     "output_type": "execute_result"
    }
   ],
   "source": [
    "desc_df.head(2)"
   ]
  },
  {
   "cell_type": "markdown",
   "metadata": {
    "id": "An6p1hDkN92J"
   },
   "source": [
    "Семплы и размеры выборок"
   ]
  },
  {
   "cell_type": "code",
   "execution_count": 6746,
   "metadata": {
    "colab": {
     "base_uri": "https://localhost:8080/",
     "height": 211
    },
    "id": "FDqOr3Du8C1Y",
    "outputId": "5fa6016a-6113-459c-a67e-9fd3d2fff623"
   },
   "outputs": [
    {
     "data": {
      "text/html": [
       "<div>\n",
       "<style scoped>\n",
       "    .dataframe tbody tr th:only-of-type {\n",
       "        vertical-align: middle;\n",
       "    }\n",
       "\n",
       "    .dataframe tbody tr th {\n",
       "        vertical-align: top;\n",
       "    }\n",
       "\n",
       "    .dataframe thead th {\n",
       "        text-align: right;\n",
       "    }\n",
       "</style>\n",
       "<table border=\"1\" class=\"dataframe\">\n",
       "  <thead>\n",
       "    <tr style=\"text-align: right;\">\n",
       "      <th></th>\n",
       "      <th>record_id</th>\n",
       "      <th>ar_revenue</th>\n",
       "      <th>ar_total_expenses</th>\n",
       "      <th>ar_sale_cost</th>\n",
       "      <th>ar_selling_expenses</th>\n",
       "      <th>ar_management_expenses</th>\n",
       "      <th>ar_sale_profit</th>\n",
       "      <th>ar_balance_of_rvns_and_expns</th>\n",
       "      <th>ar_profit_before_tax</th>\n",
       "      <th>ar_taxes</th>\n",
       "      <th>...</th>\n",
       "      <th>adr_actual_age</th>\n",
       "      <th>head_actual_age</th>\n",
       "      <th>cap_actual_age</th>\n",
       "      <th>ul_staff_range</th>\n",
       "      <th>ul_capital_sum</th>\n",
       "      <th>ul_founders_cnt</th>\n",
       "      <th>ul_branch_cnt</th>\n",
       "      <th>ul_strategic_flg</th>\n",
       "      <th>ul_systematizing_flg</th>\n",
       "      <th>default_12m</th>\n",
       "    </tr>\n",
       "  </thead>\n",
       "  <tbody>\n",
       "    <tr>\n",
       "      <th>0</th>\n",
       "      <td>7</td>\n",
       "      <td>52996000.0</td>\n",
       "      <td>48344000.0</td>\n",
       "      <td>48344000.0</td>\n",
       "      <td>0.0</td>\n",
       "      <td>0.0</td>\n",
       "      <td>4652000.0</td>\n",
       "      <td>-2608000.0</td>\n",
       "      <td>2044000.0</td>\n",
       "      <td>846000.0</td>\n",
       "      <td>...</td>\n",
       "      <td>3</td>\n",
       "      <td>3</td>\n",
       "      <td>3</td>\n",
       "      <td>[1-100]</td>\n",
       "      <td>50000.0</td>\n",
       "      <td>2</td>\n",
       "      <td>0</td>\n",
       "      <td>0</td>\n",
       "      <td>0</td>\n",
       "      <td>0</td>\n",
       "    </tr>\n",
       "    <tr>\n",
       "      <th>1</th>\n",
       "      <td>13</td>\n",
       "      <td>NaN</td>\n",
       "      <td>NaN</td>\n",
       "      <td>NaN</td>\n",
       "      <td>NaN</td>\n",
       "      <td>NaN</td>\n",
       "      <td>NaN</td>\n",
       "      <td>NaN</td>\n",
       "      <td>NaN</td>\n",
       "      <td>NaN</td>\n",
       "      <td>...</td>\n",
       "      <td>12</td>\n",
       "      <td>12</td>\n",
       "      <td>12</td>\n",
       "      <td>[1-100]</td>\n",
       "      <td>10000.0</td>\n",
       "      <td>5</td>\n",
       "      <td>0</td>\n",
       "      <td>0</td>\n",
       "      <td>0</td>\n",
       "      <td>0</td>\n",
       "    </tr>\n",
       "  </tbody>\n",
       "</table>\n",
       "<p>2 rows × 37 columns</p>\n",
       "</div>"
      ],
      "text/plain": [
       "   record_id  ar_revenue  ar_total_expenses  ar_sale_cost  \\\n",
       "0          7  52996000.0         48344000.0    48344000.0   \n",
       "1         13         NaN                NaN           NaN   \n",
       "\n",
       "   ar_selling_expenses  ar_management_expenses  ar_sale_profit  \\\n",
       "0                  0.0                     0.0       4652000.0   \n",
       "1                  NaN                     NaN             NaN   \n",
       "\n",
       "   ar_balance_of_rvns_and_expns  ar_profit_before_tax  ar_taxes  ...  \\\n",
       "0                    -2608000.0             2044000.0  846000.0  ...   \n",
       "1                           NaN                   NaN       NaN  ...   \n",
       "\n",
       "   adr_actual_age  head_actual_age  cap_actual_age  ul_staff_range  \\\n",
       "0               3                3               3         [1-100]   \n",
       "1              12               12              12         [1-100]   \n",
       "\n",
       "   ul_capital_sum  ul_founders_cnt  ul_branch_cnt  ul_strategic_flg  \\\n",
       "0         50000.0                2              0                 0   \n",
       "1         10000.0                5              0                 0   \n",
       "\n",
       "   ul_systematizing_flg  default_12m  \n",
       "0                     0            0  \n",
       "1                     0            0  \n",
       "\n",
       "[2 rows x 37 columns]"
      ]
     },
     "execution_count": 6746,
     "metadata": {},
     "output_type": "execute_result"
    }
   ],
   "source": [
    "train_df.head(2)"
   ]
  },
  {
   "cell_type": "code",
   "execution_count": 6747,
   "metadata": {},
   "outputs": [
    {
     "data": {
      "text/html": [
       "<div>\n",
       "<style scoped>\n",
       "    .dataframe tbody tr th:only-of-type {\n",
       "        vertical-align: middle;\n",
       "    }\n",
       "\n",
       "    .dataframe tbody tr th {\n",
       "        vertical-align: top;\n",
       "    }\n",
       "\n",
       "    .dataframe thead th {\n",
       "        text-align: right;\n",
       "    }\n",
       "</style>\n",
       "<table border=\"1\" class=\"dataframe\">\n",
       "  <thead>\n",
       "    <tr style=\"text-align: right;\">\n",
       "      <th></th>\n",
       "      <th>record_id</th>\n",
       "      <th>ar_revenue</th>\n",
       "      <th>ar_total_expenses</th>\n",
       "      <th>ar_sale_cost</th>\n",
       "      <th>ar_selling_expenses</th>\n",
       "      <th>ar_management_expenses</th>\n",
       "      <th>ar_sale_profit</th>\n",
       "      <th>ar_balance_of_rvns_and_expns</th>\n",
       "      <th>ar_profit_before_tax</th>\n",
       "      <th>ar_taxes</th>\n",
       "      <th>...</th>\n",
       "      <th>ogrn_age</th>\n",
       "      <th>adr_actual_age</th>\n",
       "      <th>head_actual_age</th>\n",
       "      <th>cap_actual_age</th>\n",
       "      <th>ul_staff_range</th>\n",
       "      <th>ul_capital_sum</th>\n",
       "      <th>ul_founders_cnt</th>\n",
       "      <th>ul_branch_cnt</th>\n",
       "      <th>ul_strategic_flg</th>\n",
       "      <th>ul_systematizing_flg</th>\n",
       "    </tr>\n",
       "  </thead>\n",
       "  <tbody>\n",
       "    <tr>\n",
       "      <th>0</th>\n",
       "      <td>196</td>\n",
       "      <td>39103000.0</td>\n",
       "      <td>38913000.0</td>\n",
       "      <td>38913000.0</td>\n",
       "      <td>0.0</td>\n",
       "      <td>0.0</td>\n",
       "      <td>190000.0</td>\n",
       "      <td>141000.0</td>\n",
       "      <td>331000.0</td>\n",
       "      <td>284000.0</td>\n",
       "      <td>...</td>\n",
       "      <td>135</td>\n",
       "      <td>3</td>\n",
       "      <td>3</td>\n",
       "      <td>3</td>\n",
       "      <td>[1-100]</td>\n",
       "      <td>100000.0</td>\n",
       "      <td>1</td>\n",
       "      <td>0</td>\n",
       "      <td>0</td>\n",
       "      <td>0</td>\n",
       "    </tr>\n",
       "    <tr>\n",
       "      <th>1</th>\n",
       "      <td>1196</td>\n",
       "      <td>NaN</td>\n",
       "      <td>NaN</td>\n",
       "      <td>NaN</td>\n",
       "      <td>NaN</td>\n",
       "      <td>NaN</td>\n",
       "      <td>NaN</td>\n",
       "      <td>NaN</td>\n",
       "      <td>NaN</td>\n",
       "      <td>NaN</td>\n",
       "      <td>...</td>\n",
       "      <td>138</td>\n",
       "      <td>5</td>\n",
       "      <td>5</td>\n",
       "      <td>5</td>\n",
       "      <td>[1-100]</td>\n",
       "      <td>100000.0</td>\n",
       "      <td>1</td>\n",
       "      <td>0</td>\n",
       "      <td>0</td>\n",
       "      <td>0</td>\n",
       "    </tr>\n",
       "  </tbody>\n",
       "</table>\n",
       "<p>2 rows × 36 columns</p>\n",
       "</div>"
      ],
      "text/plain": [
       "   record_id  ar_revenue  ar_total_expenses  ar_sale_cost  \\\n",
       "0        196  39103000.0         38913000.0    38913000.0   \n",
       "1       1196         NaN                NaN           NaN   \n",
       "\n",
       "   ar_selling_expenses  ar_management_expenses  ar_sale_profit  \\\n",
       "0                  0.0                     0.0        190000.0   \n",
       "1                  NaN                     NaN             NaN   \n",
       "\n",
       "   ar_balance_of_rvns_and_expns  ar_profit_before_tax  ar_taxes  ...  \\\n",
       "0                      141000.0              331000.0  284000.0  ...   \n",
       "1                           NaN                   NaN       NaN  ...   \n",
       "\n",
       "   ogrn_age  adr_actual_age  head_actual_age  cap_actual_age  ul_staff_range  \\\n",
       "0       135               3                3               3         [1-100]   \n",
       "1       138               5                5               5         [1-100]   \n",
       "\n",
       "   ul_capital_sum  ul_founders_cnt  ul_branch_cnt  ul_strategic_flg  \\\n",
       "0        100000.0                1              0                 0   \n",
       "1        100000.0                1              0                 0   \n",
       "\n",
       "   ul_systematizing_flg  \n",
       "0                     0  \n",
       "1                     0  \n",
       "\n",
       "[2 rows x 36 columns]"
      ]
     },
     "execution_count": 6747,
     "metadata": {},
     "output_type": "execute_result"
    }
   ],
   "source": [
    "test_df.head(2)"
   ]
  },
  {
   "cell_type": "code",
   "execution_count": 6748,
   "metadata": {},
   "outputs": [
    {
     "data": {
      "text/plain": [
       "(32395, 37)"
      ]
     },
     "execution_count": 6748,
     "metadata": {},
     "output_type": "execute_result"
    }
   ],
   "source": [
    "train_df.shape"
   ]
  },
  {
   "cell_type": "code",
   "execution_count": 6749,
   "metadata": {},
   "outputs": [
    {
     "data": {
      "text/plain": [
       "(32395, 37)"
      ]
     },
     "execution_count": 6749,
     "metadata": {},
     "output_type": "execute_result"
    }
   ],
   "source": [
    "train_df.shape"
   ]
  },
  {
   "cell_type": "markdown",
   "metadata": {},
   "source": [
    "Количество разных типов фичей"
   ]
  },
  {
   "cell_type": "code",
   "execution_count": 6750,
   "metadata": {},
   "outputs": [
    {
     "data": {
      "text/plain": [
       "float64    25\n",
       "int64      11\n",
       "object      1\n",
       "dtype: int64"
      ]
     },
     "execution_count": 6750,
     "metadata": {},
     "output_type": "execute_result"
    }
   ],
   "source": [
    "train_df.dtypes.value_counts()"
   ]
  },
  {
   "cell_type": "markdown",
   "metadata": {},
   "source": [
    "Уровень дефолт-рейта в выборке = 6,4546%"
   ]
  },
  {
   "cell_type": "code",
   "execution_count": 6751,
   "metadata": {},
   "outputs": [
    {
     "data": {
      "text/plain": [
       "0.06454699799351751"
      ]
     },
     "execution_count": 6751,
     "metadata": {},
     "output_type": "execute_result"
    }
   ],
   "source": [
    "train_df['default_12m'].values.mean()"
   ]
  },
  {
   "cell_type": "markdown",
   "metadata": {},
   "source": [
    "32395 уникальных наблюдений"
   ]
  },
  {
   "cell_type": "code",
   "execution_count": 6752,
   "metadata": {},
   "outputs": [
    {
     "data": {
      "text/plain": [
       "32395"
      ]
     },
     "execution_count": 6752,
     "metadata": {},
     "output_type": "execute_result"
    }
   ],
   "source": [
    "train_df.record_id.nunique()"
   ]
  },
  {
   "cell_type": "markdown",
   "metadata": {},
   "source": [
    "### Строим бэйзлайн модель c 3-ми фичами"
   ]
  },
  {
   "cell_type": "code",
   "execution_count": 6753,
   "metadata": {},
   "outputs": [
    {
     "data": {
      "text/html": [
       "<div>\n",
       "<style scoped>\n",
       "    .dataframe tbody tr th:only-of-type {\n",
       "        vertical-align: middle;\n",
       "    }\n",
       "\n",
       "    .dataframe tbody tr th {\n",
       "        vertical-align: top;\n",
       "    }\n",
       "\n",
       "    .dataframe thead th {\n",
       "        text-align: right;\n",
       "    }\n",
       "</style>\n",
       "<table border=\"1\" class=\"dataframe\">\n",
       "  <thead>\n",
       "    <tr style=\"text-align: right;\">\n",
       "      <th></th>\n",
       "      <th>bus_age</th>\n",
       "      <th>ul_capital_sum</th>\n",
       "      <th>ul_founders_cnt</th>\n",
       "      <th>default_12m</th>\n",
       "    </tr>\n",
       "  </thead>\n",
       "  <tbody>\n",
       "    <tr>\n",
       "      <th>0</th>\n",
       "      <td>198</td>\n",
       "      <td>50000.0</td>\n",
       "      <td>2</td>\n",
       "      <td>0</td>\n",
       "    </tr>\n",
       "    <tr>\n",
       "      <th>1</th>\n",
       "      <td>256</td>\n",
       "      <td>10000.0</td>\n",
       "      <td>5</td>\n",
       "      <td>0</td>\n",
       "    </tr>\n",
       "    <tr>\n",
       "      <th>2</th>\n",
       "      <td>33</td>\n",
       "      <td>10000.0</td>\n",
       "      <td>2</td>\n",
       "      <td>0</td>\n",
       "    </tr>\n",
       "    <tr>\n",
       "      <th>3</th>\n",
       "      <td>185</td>\n",
       "      <td>300000.0</td>\n",
       "      <td>1</td>\n",
       "      <td>0</td>\n",
       "    </tr>\n",
       "    <tr>\n",
       "      <th>4</th>\n",
       "      <td>220</td>\n",
       "      <td>10000.0</td>\n",
       "      <td>2</td>\n",
       "      <td>0</td>\n",
       "    </tr>\n",
       "  </tbody>\n",
       "</table>\n",
       "</div>"
      ],
      "text/plain": [
       "   bus_age  ul_capital_sum  ul_founders_cnt  default_12m\n",
       "0      198         50000.0                2            0\n",
       "1      256         10000.0                5            0\n",
       "2       33         10000.0                2            0\n",
       "3      185        300000.0                1            0\n",
       "4      220         10000.0                2            0"
      ]
     },
     "execution_count": 6753,
     "metadata": {},
     "output_type": "execute_result"
    }
   ],
   "source": [
    "features = ['bus_age','ul_capital_sum', 'ul_founders_cnt']\n",
    "features_df = train_df.loc[:,features]\n",
    "features_df['default_12m'] = train_df['default_12m']\n",
    "features_df.head()"
   ]
  },
  {
   "cell_type": "markdown",
   "metadata": {},
   "source": [
    "Построим карту коллеряций"
   ]
  },
  {
   "cell_type": "code",
   "execution_count": 6754,
   "metadata": {},
   "outputs": [
    {
     "data": {
      "text/html": [
       "<div>\n",
       "<style scoped>\n",
       "    .dataframe tbody tr th:only-of-type {\n",
       "        vertical-align: middle;\n",
       "    }\n",
       "\n",
       "    .dataframe tbody tr th {\n",
       "        vertical-align: top;\n",
       "    }\n",
       "\n",
       "    .dataframe thead th {\n",
       "        text-align: right;\n",
       "    }\n",
       "</style>\n",
       "<table border=\"1\" class=\"dataframe\">\n",
       "  <thead>\n",
       "    <tr style=\"text-align: right;\">\n",
       "      <th></th>\n",
       "      <th>bus_age</th>\n",
       "      <th>ul_capital_sum</th>\n",
       "      <th>ul_founders_cnt</th>\n",
       "      <th>default_12m</th>\n",
       "    </tr>\n",
       "  </thead>\n",
       "  <tbody>\n",
       "    <tr>\n",
       "      <th>bus_age</th>\n",
       "      <td>1.000000</td>\n",
       "      <td>0.066929</td>\n",
       "      <td>0.209451</td>\n",
       "      <td>-0.109389</td>\n",
       "    </tr>\n",
       "    <tr>\n",
       "      <th>ul_capital_sum</th>\n",
       "      <td>0.066929</td>\n",
       "      <td>1.000000</td>\n",
       "      <td>0.029165</td>\n",
       "      <td>-0.019452</td>\n",
       "    </tr>\n",
       "    <tr>\n",
       "      <th>ul_founders_cnt</th>\n",
       "      <td>0.209451</td>\n",
       "      <td>0.029165</td>\n",
       "      <td>1.000000</td>\n",
       "      <td>-0.023244</td>\n",
       "    </tr>\n",
       "    <tr>\n",
       "      <th>default_12m</th>\n",
       "      <td>-0.109389</td>\n",
       "      <td>-0.019452</td>\n",
       "      <td>-0.023244</td>\n",
       "      <td>1.000000</td>\n",
       "    </tr>\n",
       "  </tbody>\n",
       "</table>\n",
       "</div>"
      ],
      "text/plain": [
       "                  bus_age  ul_capital_sum  ul_founders_cnt  default_12m\n",
       "bus_age          1.000000        0.066929         0.209451    -0.109389\n",
       "ul_capital_sum   0.066929        1.000000         0.029165    -0.019452\n",
       "ul_founders_cnt  0.209451        0.029165         1.000000    -0.023244\n",
       "default_12m     -0.109389       -0.019452        -0.023244     1.000000"
      ]
     },
     "execution_count": 6754,
     "metadata": {},
     "output_type": "execute_result"
    }
   ],
   "source": [
    "features_df.corr()"
   ]
  },
  {
   "cell_type": "markdown",
   "metadata": {},
   "source": [
    "Валидация результата"
   ]
  },
  {
   "cell_type": "code",
   "execution_count": 6755,
   "metadata": {},
   "outputs": [
    {
     "data": {
      "text/plain": [
       "0.6483643068016243"
      ]
     },
     "execution_count": 6755,
     "metadata": {},
     "output_type": "execute_result"
    }
   ],
   "source": [
    "X_train, X_test, y_train, y_test = train_test_split(features_df.drop('default_12m',axis=1),\n",
    "                                                    features_df['default_12m'],\n",
    "                                                    random_state=42, shuffle=True)\n",
    "\n",
    "logit = LogisticRegression(C=1,solver='lbfgs',max_iter=1000)\n",
    "cv_baseline = cross_val_score(logit, X_train, y_train, cv=5, scoring='roc_auc').mean()\n",
    "cv_baseline"
   ]
  },
  {
   "cell_type": "markdown",
   "metadata": {},
   "source": [
    "ROC/AUC бэйзлайн модели - 64,83%"
   ]
  },
  {
   "cell_type": "markdown",
   "metadata": {},
   "source": [
    "# Анализ данных и работа с признаками"
   ]
  },
  {
   "cell_type": "markdown",
   "metadata": {},
   "source": [
    "В датафрейме train_df есть 5805 дубликатов. Удалим их"
   ]
  },
  {
   "cell_type": "code",
   "execution_count": 6756,
   "metadata": {},
   "outputs": [
    {
     "data": {
      "text/plain": [
       "32395"
      ]
     },
     "execution_count": 6756,
     "metadata": {},
     "output_type": "execute_result"
    }
   ],
   "source": [
    "c = ['ar_revenue', 'ar_total_expenses', 'ar_sale_cost',\n",
    "       'ar_selling_expenses', 'ar_management_expenses', 'ar_sale_profit',\n",
    "       'ar_balance_of_rvns_and_expns', 'ar_profit_before_tax', 'ar_taxes',\n",
    "       'ar_other_profit_and_losses', 'ar_net_profit', 'ab_immobilized_assets',\n",
    "       'ab_mobile_current_assets', 'ab_inventory', 'ab_accounts_receivable',\n",
    "       'ab_other_current_assets', 'ab_cash_and_securities', 'ab_losses',\n",
    "       'ab_own_capital', 'ab_borrowed_capital', 'ab_long_term_liabilities',\n",
    "       'ab_short_term_borrowing', 'ab_accounts_payable', 'ab_other_borrowings',\n",
    "       'bus_age', 'ogrn_age', 'adr_actual_age', 'head_actual_age',\n",
    "       'cap_actual_age', 'ul_staff_range', 'ul_capital_sum', 'ul_founders_cnt',\n",
    "       'ul_branch_cnt', 'ul_strategic_flg', 'ul_systematizing_flg',\n",
    "       'default_12m']\n",
    "train_df = train_df.drop_duplicates(c)\n",
    "26590+5805"
   ]
  },
  {
   "cell_type": "code",
   "execution_count": 6757,
   "metadata": {},
   "outputs": [
    {
     "data": {
      "text/plain": [
       "(26590, 37)"
      ]
     },
     "execution_count": 6757,
     "metadata": {},
     "output_type": "execute_result"
    }
   ],
   "source": [
    "train_df.shape"
   ]
  },
  {
   "cell_type": "markdown",
   "metadata": {},
   "source": [
    "'ul_staff_range' - категориальный признак"
   ]
  },
  {
   "cell_type": "code",
   "execution_count": 6758,
   "metadata": {},
   "outputs": [
    {
     "data": {
      "text/plain": [
       "[1-100]      23737\n",
       "(100-500]     2519\n",
       "> 500          334\n",
       "Name: ul_staff_range, dtype: int64"
      ]
     },
     "execution_count": 6758,
     "metadata": {},
     "output_type": "execute_result"
    }
   ],
   "source": [
    "train_df['ul_staff_range'].value_counts()"
   ]
  },
  {
   "cell_type": "code",
   "execution_count": 6759,
   "metadata": {},
   "outputs": [
    {
     "data": {
      "text/plain": [
       "[1-100]      184\n",
       "(100-500]     12\n",
       "> 500          4\n",
       "Name: ul_staff_range, dtype: int64"
      ]
     },
     "execution_count": 6759,
     "metadata": {},
     "output_type": "execute_result"
    }
   ],
   "source": [
    "test_df['ul_staff_range'].value_counts()"
   ]
  },
  {
   "cell_type": "code",
   "execution_count": 6760,
   "metadata": {},
   "outputs": [],
   "source": [
    "# категориальный признак\n",
    "train_df.loc[train_df['ul_staff_range'] == '[1-100]', 'ul_staff_range'] = 1\n",
    "train_df.loc[train_df['ul_staff_range'] == '(100-500]', 'ul_staff_range'] = 2 \n",
    "train_df.loc[train_df['ul_staff_range'] == '> 500', 'ul_staff_range'] = 3\n",
    "\n",
    "test_df.loc[test_df['ul_staff_range'] == '[1-100]', 'ul_staff_range'] = 1\n",
    "test_df.loc[test_df['ul_staff_range'] == '(100-500]', 'ul_staff_range'] = 2 \n",
    "test_df.loc[test_df['ul_staff_range'] == '> 500', 'ul_staff_range'] = 3\n",
    "test_df['ul_staff_range'] = test_df['ul_staff_range'].astype(int)\n",
    "train_df['ul_staff_range'] = train_df['ul_staff_range'].astype(int)"
   ]
  },
  {
   "cell_type": "markdown",
   "metadata": {},
   "source": [
    "'ul_systematizing_flg' - в train_df и test_df во всех строчках значения равны нулю. Можно удалить столбец\n",
    "'ul_strategic_flg' - в train_df 3 значения отличных от нуля, а в test_df все значения нули, Так же можно удалить \n",
    "'ul_branch_cnt' - в test_df все значения нули, в train_df около 300 значений, отличных от нуля, Так же можно удалить"
   ]
  },
  {
   "cell_type": "code",
   "execution_count": 6761,
   "metadata": {},
   "outputs": [
    {
     "data": {
      "text/plain": [
       "0    26587\n",
       "1        3\n",
       "Name: ul_strategic_flg, dtype: int64"
      ]
     },
     "execution_count": 6761,
     "metadata": {},
     "output_type": "execute_result"
    }
   ],
   "source": [
    "train_df['ul_strategic_flg'].value_counts(dropna = False)"
   ]
  },
  {
   "cell_type": "code",
   "execution_count": 6762,
   "metadata": {},
   "outputs": [
    {
     "data": {
      "text/plain": [
       "0    200\n",
       "Name: ul_strategic_flg, dtype: int64"
      ]
     },
     "execution_count": 6762,
     "metadata": {},
     "output_type": "execute_result"
    }
   ],
   "source": [
    "test_df['ul_strategic_flg'].value_counts(dropna = False)"
   ]
  },
  {
   "cell_type": "code",
   "execution_count": 6763,
   "metadata": {},
   "outputs": [
    {
     "data": {
      "text/plain": [
       "0     26278\n",
       "1       206\n",
       "2        40\n",
       "3        19\n",
       "5        11\n",
       "4        11\n",
       "6         7\n",
       "10        6\n",
       "8         5\n",
       "12        3\n",
       "20        2\n",
       "11        1\n",
       "17        1\n",
       "Name: ul_branch_cnt, dtype: int64"
      ]
     },
     "execution_count": 6763,
     "metadata": {},
     "output_type": "execute_result"
    }
   ],
   "source": [
    "train_df['ul_branch_cnt'].value_counts(dropna = False)"
   ]
  },
  {
   "cell_type": "code",
   "execution_count": 6764,
   "metadata": {},
   "outputs": [
    {
     "data": {
      "text/plain": [
       "0    200\n",
       "Name: ul_branch_cnt, dtype: int64"
      ]
     },
     "execution_count": 6764,
     "metadata": {},
     "output_type": "execute_result"
    }
   ],
   "source": [
    "test_df['ul_branch_cnt'].value_counts(dropna = False)"
   ]
  },
  {
   "cell_type": "code",
   "execution_count": 6765,
   "metadata": {},
   "outputs": [],
   "source": [
    "train_df.drop(columns = ['ul_systematizing_flg', 'ul_strategic_flg', 'ul_branch_cnt'], inplace = True)\n",
    "test_df.drop(columns = ['ul_systematizing_flg', 'ul_strategic_flg', 'ul_branch_cnt'], inplace = True)"
   ]
  },
  {
   "cell_type": "markdown",
   "metadata": {},
   "source": [
    "head_actual_age\t, cap_actual_age , adr_actual_age дублируют друг друга и в train_df и test_df в  - удаляем два признака"
   ]
  },
  {
   "cell_type": "code",
   "execution_count": 6766,
   "metadata": {},
   "outputs": [
    {
     "data": {
      "text/plain": [
       "(26590, 34)"
      ]
     },
     "execution_count": 6766,
     "metadata": {},
     "output_type": "execute_result"
    }
   ],
   "source": [
    "train_df[train_df['head_actual_age']==train_df['cap_actual_age']].shape"
   ]
  },
  {
   "cell_type": "code",
   "execution_count": 6767,
   "metadata": {},
   "outputs": [
    {
     "data": {
      "text/plain": [
       "(200, 33)"
      ]
     },
     "execution_count": 6767,
     "metadata": {},
     "output_type": "execute_result"
    }
   ],
   "source": [
    "test_df[test_df['head_actual_age']==test_df['cap_actual_age']].shape"
   ]
  },
  {
   "cell_type": "code",
   "execution_count": 6768,
   "metadata": {},
   "outputs": [
    {
     "data": {
      "text/plain": [
       "(26590, 34)"
      ]
     },
     "execution_count": 6768,
     "metadata": {},
     "output_type": "execute_result"
    }
   ],
   "source": [
    "train_df[train_df['head_actual_age']==train_df['adr_actual_age']].shape"
   ]
  },
  {
   "cell_type": "code",
   "execution_count": 6769,
   "metadata": {},
   "outputs": [
    {
     "data": {
      "text/plain": [
       "(200, 33)"
      ]
     },
     "execution_count": 6769,
     "metadata": {},
     "output_type": "execute_result"
    }
   ],
   "source": [
    "test_df[test_df['head_actual_age']==test_df['adr_actual_age']].shape"
   ]
  },
  {
   "cell_type": "code",
   "execution_count": 6770,
   "metadata": {},
   "outputs": [
    {
     "data": {
      "text/plain": [
       "(26590, 34)"
      ]
     },
     "execution_count": 6770,
     "metadata": {},
     "output_type": "execute_result"
    }
   ],
   "source": [
    "train_df.shape"
   ]
  },
  {
   "cell_type": "code",
   "execution_count": 6771,
   "metadata": {},
   "outputs": [],
   "source": [
    "train_df.drop(columns = ['cap_actual_age', 'adr_actual_age'], inplace = True)\n",
    "test_df.drop(columns = ['cap_actual_age', 'adr_actual_age'], inplace = True)"
   ]
  },
  {
   "cell_type": "markdown",
   "metadata": {},
   "source": [
    "Обратим внимание на пропуски по столбцам с финансовыми показателями. Есть 10215 записей с пропусками в 24 столбцах в датафрейме train_df , и 118 записей в test_df\n",
    "Разделим каждый из датафреймов на 2 части:\n",
    "часть train_df1 и test_df1 - где есть пропуски,\n",
    "часть train_df2 и test_df2 - где пропусков нет\n",
    "Далее будем работать уже с 2 частями по отдельности"
   ]
  },
  {
   "cell_type": "code",
   "execution_count": 6772,
   "metadata": {},
   "outputs": [
    {
     "data": {
      "text/plain": [
       "NaN            10215\n",
       "0.0              380\n",
       "12318000.0        12\n",
       "162663000.0       11\n",
       "104513000.0       10\n",
       "               ...  \n",
       "295829000.0        1\n",
       "480378000.0        1\n",
       "4704000.0          1\n",
       "296299000.0        1\n",
       "587183000.0        1\n",
       "Name: ar_revenue, Length: 12894, dtype: int64"
      ]
     },
     "execution_count": 6772,
     "metadata": {},
     "output_type": "execute_result"
    }
   ],
   "source": [
    "train_df['ar_revenue'].value_counts(dropna=False)"
   ]
  },
  {
   "cell_type": "code",
   "execution_count": 6773,
   "metadata": {},
   "outputs": [
    {
     "data": {
      "text/plain": [
       "NaN           118\n",
       "0.0             7\n",
       "8373000.0       1\n",
       "25234000.0      1\n",
       "13383000.0      1\n",
       "             ... \n",
       "39103000.0      1\n",
       "59875000.0      1\n",
       "58896000.0      1\n",
       "25262000.0      1\n",
       "140000.0        1\n",
       "Name: ar_revenue, Length: 77, dtype: int64"
      ]
     },
     "execution_count": 6773,
     "metadata": {},
     "output_type": "execute_result"
    }
   ],
   "source": [
    "test_df['ar_revenue'].value_counts(dropna=False)"
   ]
  },
  {
   "cell_type": "code",
   "execution_count": 6774,
   "metadata": {},
   "outputs": [
    {
     "data": {
      "text/plain": [
       "record_id                           0\n",
       "ar_revenue                      10215\n",
       "ar_total_expenses               10215\n",
       "ar_sale_cost                    10215\n",
       "ar_selling_expenses             10215\n",
       "ar_management_expenses          10215\n",
       "ar_sale_profit                  10215\n",
       "ar_balance_of_rvns_and_expns    10215\n",
       "ar_profit_before_tax            10215\n",
       "ar_taxes                        10215\n",
       "ar_other_profit_and_losses      10215\n",
       "ar_net_profit                   10215\n",
       "ab_immobilized_assets           10215\n",
       "ab_mobile_current_assets        10215\n",
       "ab_inventory                    10215\n",
       "ab_accounts_receivable          10215\n",
       "ab_other_current_assets         10215\n",
       "ab_cash_and_securities          10215\n",
       "ab_losses                       10215\n",
       "ab_own_capital                  10215\n",
       "ab_borrowed_capital             10215\n",
       "ab_long_term_liabilities        10215\n",
       "ab_short_term_borrowing         10215\n",
       "ab_accounts_payable             10215\n",
       "ab_other_borrowings             10215\n",
       "bus_age                             0\n",
       "ogrn_age                            0\n",
       "head_actual_age                     0\n",
       "ul_staff_range                      0\n",
       "ul_capital_sum                      0\n",
       "ul_founders_cnt                     0\n",
       "default_12m                         0\n",
       "dtype: int64"
      ]
     },
     "execution_count": 6774,
     "metadata": {},
     "output_type": "execute_result"
    }
   ],
   "source": [
    "len(train_df) - train_df.count()"
   ]
  },
  {
   "cell_type": "code",
   "execution_count": 6775,
   "metadata": {},
   "outputs": [],
   "source": [
    "#train_df1 - часть df где  пропуски\n",
    "train_df1 = train_df[train_df['ar_revenue'].isnull()]\n",
    "train_df2 = train_df[train_df['ar_revenue'].notnull()]\n",
    "\n",
    "test_df1 = test_df[test_df['ar_revenue'].isnull()]\n",
    "test_df2 = test_df[test_df['ar_revenue'].notnull()]"
   ]
  },
  {
   "cell_type": "code",
   "execution_count": 6776,
   "metadata": {},
   "outputs": [
    {
     "name": "stdout",
     "output_type": "stream",
     "text": [
      "0\n",
      "0\n"
     ]
    }
   ],
   "source": [
    "print(train_df2.shape[0] + train_df1.shape[0] - train_df.shape[0])\n",
    "print(test_df2.shape[0] + test_df1.shape[0] - test_df.shape[0])"
   ]
  },
  {
   "cell_type": "markdown",
   "metadata": {},
   "source": [
    "# df1"
   ]
  },
  {
   "cell_type": "markdown",
   "metadata": {},
   "source": [
    "Оставим только столбцы без пропусков"
   ]
  },
  {
   "cell_type": "code",
   "execution_count": 6777,
   "metadata": {},
   "outputs": [],
   "source": [
    "col_for_del =['ar_revenue', 'ar_total_expenses', 'ar_sale_cost',\n",
    "       'ar_selling_expenses', 'ar_management_expenses', 'ar_sale_profit',\n",
    "       'ar_balance_of_rvns_and_expns', 'ar_profit_before_tax', 'ar_taxes',\n",
    "       'ar_other_profit_and_losses', 'ar_net_profit', 'ab_immobilized_assets',\n",
    "       'ab_mobile_current_assets', 'ab_inventory', 'ab_accounts_receivable',\n",
    "       'ab_other_current_assets', 'ab_cash_and_securities', 'ab_losses',\n",
    "       'ab_own_capital', 'ab_borrowed_capital', 'ab_long_term_liabilities',\n",
    "       'ab_short_term_borrowing', 'ab_accounts_payable', 'ab_other_borrowings']"
   ]
  },
  {
   "cell_type": "code",
   "execution_count": 6778,
   "metadata": {},
   "outputs": [],
   "source": [
    "test_df1.drop(columns = col_for_del, inplace = True)\n",
    "train_df1.drop(columns = col_for_del, inplace = True)\n",
    "train_df1.drop(columns = ['record_id'], inplace = True)"
   ]
  },
  {
   "cell_type": "code",
   "execution_count": 6779,
   "metadata": {},
   "outputs": [
    {
     "data": {
      "text/html": [
       "<div>\n",
       "<style scoped>\n",
       "    .dataframe tbody tr th:only-of-type {\n",
       "        vertical-align: middle;\n",
       "    }\n",
       "\n",
       "    .dataframe tbody tr th {\n",
       "        vertical-align: top;\n",
       "    }\n",
       "\n",
       "    .dataframe thead th {\n",
       "        text-align: right;\n",
       "    }\n",
       "</style>\n",
       "<table border=\"1\" class=\"dataframe\">\n",
       "  <thead>\n",
       "    <tr style=\"text-align: right;\">\n",
       "      <th></th>\n",
       "      <th>bus_age</th>\n",
       "      <th>ogrn_age</th>\n",
       "      <th>head_actual_age</th>\n",
       "      <th>ul_staff_range</th>\n",
       "      <th>ul_capital_sum</th>\n",
       "      <th>ul_founders_cnt</th>\n",
       "      <th>default_12m</th>\n",
       "    </tr>\n",
       "  </thead>\n",
       "  <tbody>\n",
       "    <tr>\n",
       "      <th>count</th>\n",
       "      <td>10215.000000</td>\n",
       "      <td>10215.000000</td>\n",
       "      <td>10215.000000</td>\n",
       "      <td>10215.000000</td>\n",
       "      <td>1.021500e+04</td>\n",
       "      <td>10215.000000</td>\n",
       "      <td>10215.000000</td>\n",
       "    </tr>\n",
       "    <tr>\n",
       "      <th>mean</th>\n",
       "      <td>91.391483</td>\n",
       "      <td>75.833872</td>\n",
       "      <td>14.088693</td>\n",
       "      <td>1.038767</td>\n",
       "      <td>6.683238e+05</td>\n",
       "      <td>5.474596</td>\n",
       "      <td>0.102301</td>\n",
       "    </tr>\n",
       "    <tr>\n",
       "      <th>std</th>\n",
       "      <td>71.594633</td>\n",
       "      <td>45.095162</td>\n",
       "      <td>9.378940</td>\n",
       "      <td>0.230070</td>\n",
       "      <td>1.649400e+07</td>\n",
       "      <td>58.603881</td>\n",
       "      <td>0.303058</td>\n",
       "    </tr>\n",
       "    <tr>\n",
       "      <th>min</th>\n",
       "      <td>0.000000</td>\n",
       "      <td>0.000000</td>\n",
       "      <td>1.000000</td>\n",
       "      <td>1.000000</td>\n",
       "      <td>0.000000e+00</td>\n",
       "      <td>1.000000</td>\n",
       "      <td>0.000000</td>\n",
       "    </tr>\n",
       "    <tr>\n",
       "      <th>25%</th>\n",
       "      <td>35.000000</td>\n",
       "      <td>35.000000</td>\n",
       "      <td>5.000000</td>\n",
       "      <td>1.000000</td>\n",
       "      <td>1.000000e+04</td>\n",
       "      <td>1.000000</td>\n",
       "      <td>0.000000</td>\n",
       "    </tr>\n",
       "    <tr>\n",
       "      <th>50%</th>\n",
       "      <td>73.000000</td>\n",
       "      <td>72.000000</td>\n",
       "      <td>13.000000</td>\n",
       "      <td>1.000000</td>\n",
       "      <td>1.000000e+04</td>\n",
       "      <td>1.000000</td>\n",
       "      <td>0.000000</td>\n",
       "    </tr>\n",
       "    <tr>\n",
       "      <th>75%</th>\n",
       "      <td>128.000000</td>\n",
       "      <td>123.000000</td>\n",
       "      <td>24.000000</td>\n",
       "      <td>1.000000</td>\n",
       "      <td>2.275000e+04</td>\n",
       "      <td>2.000000</td>\n",
       "      <td>0.000000</td>\n",
       "    </tr>\n",
       "    <tr>\n",
       "      <th>max</th>\n",
       "      <td>921.000000</td>\n",
       "      <td>147.000000</td>\n",
       "      <td>33.000000</td>\n",
       "      <td>3.000000</td>\n",
       "      <td>1.584979e+09</td>\n",
       "      <td>998.000000</td>\n",
       "      <td>1.000000</td>\n",
       "    </tr>\n",
       "  </tbody>\n",
       "</table>\n",
       "</div>"
      ],
      "text/plain": [
       "            bus_age      ogrn_age  head_actual_age  ul_staff_range  \\\n",
       "count  10215.000000  10215.000000     10215.000000    10215.000000   \n",
       "mean      91.391483     75.833872        14.088693        1.038767   \n",
       "std       71.594633     45.095162         9.378940        0.230070   \n",
       "min        0.000000      0.000000         1.000000        1.000000   \n",
       "25%       35.000000     35.000000         5.000000        1.000000   \n",
       "50%       73.000000     72.000000        13.000000        1.000000   \n",
       "75%      128.000000    123.000000        24.000000        1.000000   \n",
       "max      921.000000    147.000000        33.000000        3.000000   \n",
       "\n",
       "       ul_capital_sum  ul_founders_cnt   default_12m  \n",
       "count    1.021500e+04     10215.000000  10215.000000  \n",
       "mean     6.683238e+05         5.474596      0.102301  \n",
       "std      1.649400e+07        58.603881      0.303058  \n",
       "min      0.000000e+00         1.000000      0.000000  \n",
       "25%      1.000000e+04         1.000000      0.000000  \n",
       "50%      1.000000e+04         1.000000      0.000000  \n",
       "75%      2.275000e+04         2.000000      0.000000  \n",
       "max      1.584979e+09       998.000000      1.000000  "
      ]
     },
     "execution_count": 6779,
     "metadata": {},
     "output_type": "execute_result"
    }
   ],
   "source": [
    "train_df1.describe()"
   ]
  },
  {
   "cell_type": "markdown",
   "metadata": {},
   "source": [
    "Разобьем датафрейм train_df1 на тестовую и валидационную часть"
   ]
  },
  {
   "cell_type": "code",
   "execution_count": 6780,
   "metadata": {},
   "outputs": [],
   "source": [
    "X_train1, X_test1, y_train1, y_test1 = train_test_split(train_df1.drop('default_12m',axis=1),\n",
    "                                                    train_df1['default_12m'],\n",
    "                                                    random_state=42, shuffle=True)"
   ]
  },
  {
   "cell_type": "markdown",
   "metadata": {},
   "source": [
    "Перед обучением модели логистической регрессии необходимо выполнить преобразование признаков.\n",
    "Можно делать нормализацию, стандартизацию и тд\n",
    "В данном случае будем делать биннинг с рассчетом WOE и IV.\n",
    "К сожалению, библиотек, которые делают эти операции от и до , я не нашла.\n",
    "Поэтому использовала функцию для рассчета WOE и IV и дальше подбирала интервалы для разбиения следующим образом:\n",
    "    - максимальное значение IV для интервала\n",
    "    - линейная зависимость значения WOE от номера интервала разбиения\n",
    "Это необходимо, чтобы не обрабатывать выборсы, чтобы убрать нелинейную зависимость признака и сделать модеть интерпретируемой"
   ]
  },
  {
   "cell_type": "code",
   "execution_count": 6781,
   "metadata": {},
   "outputs": [],
   "source": [
    "train_df1_train = X_train1\n",
    "train_df1_train['default_12m'] = y_train1"
   ]
  },
  {
   "cell_type": "markdown",
   "metadata": {},
   "source": [
    "Binning"
   ]
  },
  {
   "cell_type": "code",
   "execution_count": 6782,
   "metadata": {},
   "outputs": [
    {
     "data": {
      "text/plain": [
       "<AxesSubplot:>"
      ]
     },
     "execution_count": 6782,
     "metadata": {},
     "output_type": "execute_result"
    },
    {
     "data": {
      "image/png": "[encoded data removed]",
      "text/plain": [
       "<Figure size 432x288 with 1 Axes>"
      ]
     },
     "metadata": {},
     "output_type": "display_data"
    }
   ],
   "source": [
    "train_df1_train[train_df1_train['default_12m']==0]['bus_age'].hist(bins = 10)\n",
    "train_df1_train[train_df1_train['default_12m']==1]['bus_age'].hist(bins = 10)"
   ]
  },
  {
   "cell_type": "code",
   "execution_count": 6783,
   "metadata": {},
   "outputs": [
    {
     "data": {
      "text/html": [
       "<div>\n",
       "<style scoped>\n",
       "    .dataframe tbody tr th:only-of-type {\n",
       "        vertical-align: middle;\n",
       "    }\n",
       "\n",
       "    .dataframe tbody tr th {\n",
       "        vertical-align: top;\n",
       "    }\n",
       "\n",
       "    .dataframe thead th {\n",
       "        text-align: right;\n",
       "    }\n",
       "</style>\n",
       "<table border=\"1\" class=\"dataframe\">\n",
       "  <thead>\n",
       "    <tr style=\"text-align: right;\">\n",
       "      <th></th>\n",
       "      <th>total</th>\n",
       "      <th>good</th>\n",
       "      <th>bad</th>\n",
       "      <th>event_rate</th>\n",
       "      <th>non_event_rate</th>\n",
       "      <th>per_total_events</th>\n",
       "      <th>per_total_non_events</th>\n",
       "      <th>WOE</th>\n",
       "      <th>IV</th>\n",
       "    </tr>\n",
       "    <tr>\n",
       "      <th>values</th>\n",
       "      <th></th>\n",
       "      <th></th>\n",
       "      <th></th>\n",
       "      <th></th>\n",
       "      <th></th>\n",
       "      <th></th>\n",
       "      <th></th>\n",
       "      <th></th>\n",
       "      <th></th>\n",
       "    </tr>\n",
       "  </thead>\n",
       "  <tbody>\n",
       "    <tr>\n",
       "      <th>2</th>\n",
       "      <td>855</td>\n",
       "      <td>122</td>\n",
       "      <td>733</td>\n",
       "      <td>0.14269</td>\n",
       "      <td>0.85731</td>\n",
       "      <td>0.155612</td>\n",
       "      <td>0.106587</td>\n",
       "      <td>0.378404</td>\n",
       "      <td>0.0185513</td>\n",
       "    </tr>\n",
       "    <tr>\n",
       "      <th>3</th>\n",
       "      <td>4920</td>\n",
       "      <td>311</td>\n",
       "      <td>4609</td>\n",
       "      <td>0.0632114</td>\n",
       "      <td>0.936789</td>\n",
       "      <td>0.396684</td>\n",
       "      <td>0.670205</td>\n",
       "      <td>-0.524445</td>\n",
       "      <td>0.143447</td>\n",
       "    </tr>\n",
       "    <tr>\n",
       "      <th>1</th>\n",
       "      <td>1886</td>\n",
       "      <td>351</td>\n",
       "      <td>1535</td>\n",
       "      <td>0.186108</td>\n",
       "      <td>0.813892</td>\n",
       "      <td>0.447704</td>\n",
       "      <td>0.223208</td>\n",
       "      <td>0.696029</td>\n",
       "      <td>0.156256</td>\n",
       "    </tr>\n",
       "  </tbody>\n",
       "</table>\n",
       "</div>"
      ],
      "text/plain": [
       "       total good   bad event_rate non_event_rate per_total_events  \\\n",
       "values                                                               \n",
       "2        855  122   733    0.14269        0.85731         0.155612   \n",
       "3       4920  311  4609  0.0632114       0.936789         0.396684   \n",
       "1       1886  351  1535   0.186108       0.813892         0.447704   \n",
       "\n",
       "       per_total_non_events       WOE         IV  \n",
       "values                                            \n",
       "2                  0.106587  0.378404  0.0185513  \n",
       "3                  0.670205 -0.524445   0.143447  \n",
       "1                  0.223208  0.696029   0.156256  "
      ]
     },
     "execution_count": 6783,
     "metadata": {},
     "output_type": "execute_result"
    }
   ],
   "source": [
    "bins = [-np.inf,35, 50, np.inf]\n",
    "labels = [ '1', '2', '3']\n",
    "train_df1_train['bus_age_bin'] = pd.cut(train_df1_train['bus_age'], bins = bins, labels = labels)\n",
    "d1 =calc_woe_iv(train_df1_train, 'bus_age_bin')\n",
    "d1"
   ]
  },
  {
   "cell_type": "code",
   "execution_count": 6784,
   "metadata": {},
   "outputs": [
    {
     "data": {
      "text/plain": [
       "[<matplotlib.lines.Line2D at 0x15f12a850>]"
      ]
     },
     "execution_count": 6784,
     "metadata": {},
     "output_type": "execute_result"
    },
    {
     "data": {
      "image/png": "[encoded data removed]",
      "text/plain": [
       "<Figure size 432x288 with 1 Axes>"
      ]
     },
     "metadata": {},
     "output_type": "display_data"
    }
   ],
   "source": [
    "dict01 = {'1': 0.696029, '2': 0.378404, '3':-0.524445 }\n",
    "plt.plot([1, 2, 3], [0.696029, 0.378404,-0.524445 ])"
   ]
  },
  {
   "cell_type": "code",
   "execution_count": 6785,
   "metadata": {},
   "outputs": [
    {
     "data": {
      "text/plain": [
       "<AxesSubplot:>"
      ]
     },
     "execution_count": 6785,
     "metadata": {},
     "output_type": "execute_result"
    },
    {
     "data": {
      "image/png": "[encoded data removed]",
      "text/plain": [
       "<Figure size 432x288 with 1 Axes>"
      ]
     },
     "metadata": {},
     "output_type": "display_data"
    }
   ],
   "source": [
    "train_df1_train[train_df1_train['default_12m']==0]['ogrn_age'].hist(bins = 10)\n",
    "train_df1_train[train_df1_train['default_12m']==1]['ogrn_age'].hist(bins = 10)"
   ]
  },
  {
   "cell_type": "code",
   "execution_count": 6786,
   "metadata": {},
   "outputs": [
    {
     "data": {
      "text/html": [
       "<div>\n",
       "<style scoped>\n",
       "    .dataframe tbody tr th:only-of-type {\n",
       "        vertical-align: middle;\n",
       "    }\n",
       "\n",
       "    .dataframe tbody tr th {\n",
       "        vertical-align: top;\n",
       "    }\n",
       "\n",
       "    .dataframe thead th {\n",
       "        text-align: right;\n",
       "    }\n",
       "</style>\n",
       "<table border=\"1\" class=\"dataframe\">\n",
       "  <thead>\n",
       "    <tr style=\"text-align: right;\">\n",
       "      <th></th>\n",
       "      <th>total</th>\n",
       "      <th>good</th>\n",
       "      <th>bad</th>\n",
       "      <th>event_rate</th>\n",
       "      <th>non_event_rate</th>\n",
       "      <th>per_total_events</th>\n",
       "      <th>per_total_non_events</th>\n",
       "      <th>WOE</th>\n",
       "      <th>IV</th>\n",
       "    </tr>\n",
       "    <tr>\n",
       "      <th>values</th>\n",
       "      <th></th>\n",
       "      <th></th>\n",
       "      <th></th>\n",
       "      <th></th>\n",
       "      <th></th>\n",
       "      <th></th>\n",
       "      <th></th>\n",
       "      <th></th>\n",
       "      <th></th>\n",
       "    </tr>\n",
       "  </thead>\n",
       "  <tbody>\n",
       "    <tr>\n",
       "      <th>1</th>\n",
       "      <td>2596</td>\n",
       "      <td>457</td>\n",
       "      <td>2139</td>\n",
       "      <td>0.17604</td>\n",
       "      <td>0.82396</td>\n",
       "      <td>0.582908</td>\n",
       "      <td>0.311037</td>\n",
       "      <td>0.628118</td>\n",
       "      <td>0.170767</td>\n",
       "    </tr>\n",
       "    <tr>\n",
       "      <th>2</th>\n",
       "      <td>2576</td>\n",
       "      <td>205</td>\n",
       "      <td>2371</td>\n",
       "      <td>0.0795807</td>\n",
       "      <td>0.920419</td>\n",
       "      <td>0.26148</td>\n",
       "      <td>0.344772</td>\n",
       "      <td>-0.276528</td>\n",
       "      <td>0.0230328</td>\n",
       "    </tr>\n",
       "    <tr>\n",
       "      <th>3</th>\n",
       "      <td>2489</td>\n",
       "      <td>122</td>\n",
       "      <td>2367</td>\n",
       "      <td>0.0490157</td>\n",
       "      <td>0.950984</td>\n",
       "      <td>0.155612</td>\n",
       "      <td>0.344191</td>\n",
       "      <td>-0.793829</td>\n",
       "      <td>0.149699</td>\n",
       "    </tr>\n",
       "  </tbody>\n",
       "</table>\n",
       "</div>"
      ],
      "text/plain": [
       "       total good   bad event_rate non_event_rate per_total_events  \\\n",
       "values                                                               \n",
       "1       2596  457  2139    0.17604        0.82396         0.582908   \n",
       "2       2576  205  2371  0.0795807       0.920419          0.26148   \n",
       "3       2489  122  2367  0.0490157       0.950984         0.155612   \n",
       "\n",
       "       per_total_non_events       WOE         IV  \n",
       "values                                            \n",
       "1                  0.311037  0.628118   0.170767  \n",
       "2                  0.344772 -0.276528  0.0230328  \n",
       "3                  0.344191 -0.793829   0.149699  "
      ]
     },
     "execution_count": 6786,
     "metadata": {},
     "output_type": "execute_result"
    }
   ],
   "source": [
    "bins = [-np.inf, 46, 103, np.inf]\n",
    "labels = [ '1', '2', '3']\n",
    "train_df1_train['ogrn_age_bin'] = pd.cut(train_df1_train['ogrn_age'], bins = bins, labels = labels)\n",
    "d2 =calc_woe_iv(train_df1_train,'ogrn_age_bin')\n",
    "d2"
   ]
  },
  {
   "cell_type": "code",
   "execution_count": 6787,
   "metadata": {},
   "outputs": [
    {
     "data": {
      "text/plain": [
       "[<matplotlib.lines.Line2D at 0x15f75d910>]"
      ]
     },
     "execution_count": 6787,
     "metadata": {},
     "output_type": "execute_result"
    },
    {
     "data": {
      "image/png": "[encoded data removed]",
      "text/plain": [
       "<Figure size 432x288 with 1 Axes>"
      ]
     },
     "metadata": {},
     "output_type": "display_data"
    }
   ],
   "source": [
    "dict02 = {'1': 0.628118, '2': -0.276528, '3':-0.793829 }\n",
    "plt.plot([1, 2, 3], [0.628118, -0.276528,  -0.793829])"
   ]
  },
  {
   "cell_type": "code",
   "execution_count": 6788,
   "metadata": {},
   "outputs": [
    {
     "data": {
      "text/plain": [
       "<AxesSubplot:>"
      ]
     },
     "execution_count": 6788,
     "metadata": {},
     "output_type": "execute_result"
    },
    {
     "data": {
      "image/png": "[encoded data removed]",
      "text/plain": [
       "<Figure size 432x288 with 1 Axes>"
      ]
     },
     "metadata": {},
     "output_type": "display_data"
    }
   ],
   "source": [
    "train_df1_train[train_df1_train['default_12m']==0]['head_actual_age'].hist(bins = 10)\n",
    "train_df1_train[train_df1_train['default_12m']==1]['head_actual_age'].hist(bins = 10)"
   ]
  },
  {
   "cell_type": "code",
   "execution_count": 6789,
   "metadata": {},
   "outputs": [
    {
     "data": {
      "text/html": [
       "<div>\n",
       "<style scoped>\n",
       "    .dataframe tbody tr th:only-of-type {\n",
       "        vertical-align: middle;\n",
       "    }\n",
       "\n",
       "    .dataframe tbody tr th {\n",
       "        vertical-align: top;\n",
       "    }\n",
       "\n",
       "    .dataframe thead th {\n",
       "        text-align: right;\n",
       "    }\n",
       "</style>\n",
       "<table border=\"1\" class=\"dataframe\">\n",
       "  <thead>\n",
       "    <tr style=\"text-align: right;\">\n",
       "      <th></th>\n",
       "      <th>total</th>\n",
       "      <th>good</th>\n",
       "      <th>bad</th>\n",
       "      <th>event_rate</th>\n",
       "      <th>non_event_rate</th>\n",
       "      <th>per_total_events</th>\n",
       "      <th>per_total_non_events</th>\n",
       "      <th>WOE</th>\n",
       "      <th>IV</th>\n",
       "    </tr>\n",
       "    <tr>\n",
       "      <th>values</th>\n",
       "      <th></th>\n",
       "      <th></th>\n",
       "      <th></th>\n",
       "      <th></th>\n",
       "      <th></th>\n",
       "      <th></th>\n",
       "      <th></th>\n",
       "      <th></th>\n",
       "      <th></th>\n",
       "    </tr>\n",
       "  </thead>\n",
       "  <tbody>\n",
       "    <tr>\n",
       "      <th>2</th>\n",
       "      <td>3327</td>\n",
       "      <td>358</td>\n",
       "      <td>2969</td>\n",
       "      <td>0.107604</td>\n",
       "      <td>0.892396</td>\n",
       "      <td>0.456633</td>\n",
       "      <td>0.431729</td>\n",
       "      <td>0.056081</td>\n",
       "      <td>0.00139663</td>\n",
       "    </tr>\n",
       "    <tr>\n",
       "      <th>1</th>\n",
       "      <td>1252</td>\n",
       "      <td>171</td>\n",
       "      <td>1081</td>\n",
       "      <td>0.136581</td>\n",
       "      <td>0.863419</td>\n",
       "      <td>0.218112</td>\n",
       "      <td>0.157191</td>\n",
       "      <td>0.327551</td>\n",
       "      <td>0.0199549</td>\n",
       "    </tr>\n",
       "    <tr>\n",
       "      <th>3</th>\n",
       "      <td>3082</td>\n",
       "      <td>255</td>\n",
       "      <td>2827</td>\n",
       "      <td>0.0827385</td>\n",
       "      <td>0.917262</td>\n",
       "      <td>0.325255</td>\n",
       "      <td>0.41108</td>\n",
       "      <td>-0.234179</td>\n",
       "      <td>0.0200985</td>\n",
       "    </tr>\n",
       "  </tbody>\n",
       "</table>\n",
       "</div>"
      ],
      "text/plain": [
       "       total good   bad event_rate non_event_rate per_total_events  \\\n",
       "values                                                               \n",
       "2       3327  358  2969   0.107604       0.892396         0.456633   \n",
       "1       1252  171  1081   0.136581       0.863419         0.218112   \n",
       "3       3082  255  2827  0.0827385       0.917262         0.325255   \n",
       "\n",
       "       per_total_non_events       WOE          IV  \n",
       "values                                             \n",
       "2                  0.431729  0.056081  0.00139663  \n",
       "1                  0.157191  0.327551   0.0199549  \n",
       "3                   0.41108 -0.234179   0.0200985  "
      ]
     },
     "execution_count": 6789,
     "metadata": {},
     "output_type": "execute_result"
    }
   ],
   "source": [
    "bins = [-np.inf, 3, 16,  np.inf]\n",
    "labels = [ '1', '2', '3']\n",
    "train_df1_train['head_actual_age_bin'] = pd.cut(train_df1_train['head_actual_age'], bins = bins, labels = labels)\n",
    "d3 =calc_woe_iv(train_df1_train,'head_actual_age_bin')\n",
    "d3"
   ]
  },
  {
   "cell_type": "code",
   "execution_count": 6790,
   "metadata": {},
   "outputs": [
    {
     "data": {
      "text/plain": [
       "[<matplotlib.lines.Line2D at 0x1612f2760>]"
      ]
     },
     "execution_count": 6790,
     "metadata": {},
     "output_type": "execute_result"
    },
    {
     "data": {
      "image/png": "[encoded data removed]",
      "text/plain": [
       "<Figure size 432x288 with 1 Axes>"
      ]
     },
     "metadata": {},
     "output_type": "display_data"
    }
   ],
   "source": [
    "dict03 = {'1': 0.327551, '2': 0.056081, '3':-0.234179}\n",
    "plt.plot([1, 2, 3], [0.327551, 0.056081, -0.234179])"
   ]
  },
  {
   "cell_type": "code",
   "execution_count": 6791,
   "metadata": {},
   "outputs": [
    {
     "data": {
      "text/plain": [
       "<AxesSubplot:>"
      ]
     },
     "execution_count": 6791,
     "metadata": {},
     "output_type": "execute_result"
    },
    {
     "data": {
      "image/png": "[encoded data removed]",
      "text/plain": [
       "<Figure size 432x288 with 1 Axes>"
      ]
     },
     "metadata": {},
     "output_type": "display_data"
    }
   ],
   "source": [
    "train_df1_train[train_df1_train['default_12m']==0]['ul_staff_range'].hist(bins = 10)\n",
    "train_df1_train[train_df1_train['default_12m']==1]['ul_staff_range'].hist(bins = 10)"
   ]
  },
  {
   "cell_type": "code",
   "execution_count": 6792,
   "metadata": {},
   "outputs": [
    {
     "data": {
      "text/plain": [
       "1    7415\n",
       "2     181\n",
       "3      65\n",
       "Name: ul_staff_range, dtype: int64"
      ]
     },
     "execution_count": 6792,
     "metadata": {},
     "output_type": "execute_result"
    }
   ],
   "source": [
    "train_df1_train['ul_staff_range'].value_counts()"
   ]
  },
  {
   "cell_type": "code",
   "execution_count": 6793,
   "metadata": {},
   "outputs": [
    {
     "data": {
      "text/html": [
       "<div>\n",
       "<style scoped>\n",
       "    .dataframe tbody tr th:only-of-type {\n",
       "        vertical-align: middle;\n",
       "    }\n",
       "\n",
       "    .dataframe tbody tr th {\n",
       "        vertical-align: top;\n",
       "    }\n",
       "\n",
       "    .dataframe thead th {\n",
       "        text-align: right;\n",
       "    }\n",
       "</style>\n",
       "<table border=\"1\" class=\"dataframe\">\n",
       "  <thead>\n",
       "    <tr style=\"text-align: right;\">\n",
       "      <th></th>\n",
       "      <th>total</th>\n",
       "      <th>good</th>\n",
       "      <th>bad</th>\n",
       "      <th>event_rate</th>\n",
       "      <th>non_event_rate</th>\n",
       "      <th>per_total_events</th>\n",
       "      <th>per_total_non_events</th>\n",
       "      <th>WOE</th>\n",
       "      <th>IV</th>\n",
       "    </tr>\n",
       "    <tr>\n",
       "      <th>values</th>\n",
       "      <th></th>\n",
       "      <th></th>\n",
       "      <th></th>\n",
       "      <th></th>\n",
       "      <th></th>\n",
       "      <th></th>\n",
       "      <th></th>\n",
       "      <th></th>\n",
       "      <th></th>\n",
       "    </tr>\n",
       "  </thead>\n",
       "  <tbody>\n",
       "    <tr>\n",
       "      <th>1</th>\n",
       "      <td>7415</td>\n",
       "      <td>771</td>\n",
       "      <td>6644</td>\n",
       "      <td>0.103978</td>\n",
       "      <td>0.896022</td>\n",
       "      <td>0.983418</td>\n",
       "      <td>0.966119</td>\n",
       "      <td>0.017748</td>\n",
       "      <td>0.000307024</td>\n",
       "    </tr>\n",
       "    <tr>\n",
       "      <th>3</th>\n",
       "      <td>246</td>\n",
       "      <td>13</td>\n",
       "      <td>233</td>\n",
       "      <td>0.0528455</td>\n",
       "      <td>0.947154</td>\n",
       "      <td>0.0165816</td>\n",
       "      <td>0.0338811</td>\n",
       "      <td>-0.714560</td>\n",
       "      <td>0.0123615</td>\n",
       "    </tr>\n",
       "  </tbody>\n",
       "</table>\n",
       "</div>"
      ],
      "text/plain": [
       "       total good   bad event_rate non_event_rate per_total_events  \\\n",
       "values                                                               \n",
       "1       7415  771  6644   0.103978       0.896022         0.983418   \n",
       "3        246   13   233  0.0528455       0.947154        0.0165816   \n",
       "\n",
       "       per_total_non_events       WOE           IV  \n",
       "values                                              \n",
       "1                  0.966119  0.017748  0.000307024  \n",
       "3                 0.0338811 -0.714560    0.0123615  "
      ]
     },
     "execution_count": 6793,
     "metadata": {},
     "output_type": "execute_result"
    }
   ],
   "source": [
    "train_df1_train['ul_staff_range_bin'] = train_df1_train['ul_staff_range']\n",
    "train_df1_train.loc[train_df1_train['ul_staff_range_bin']==2, 'ul_staff_range_bin'] = 3\n",
    "d4 =calc_woe_iv(train_df1_train, 'ul_staff_range_bin')\n",
    "d4"
   ]
  },
  {
   "cell_type": "code",
   "execution_count": 6794,
   "metadata": {},
   "outputs": [
    {
     "data": {
      "text/plain": [
       "<AxesSubplot:>"
      ]
     },
     "execution_count": 6794,
     "metadata": {},
     "output_type": "execute_result"
    },
    {
     "data": {
      "image/png": "[encoded data removed]",
      "text/plain": [
       "<Figure size 432x288 with 1 Axes>"
      ]
     },
     "metadata": {},
     "output_type": "display_data"
    }
   ],
   "source": [
    "train_df1_train[train_df1_train['default_12m']==0]['ul_capital_sum'].hist(bins = 5)\n",
    "train_df1_train[train_df1_train['default_12m']==1]['ul_capital_sum'].hist(bins = 5)"
   ]
  },
  {
   "cell_type": "code",
   "execution_count": 6795,
   "metadata": {},
   "outputs": [
    {
     "data": {
      "text/html": [
       "<div>\n",
       "<style scoped>\n",
       "    .dataframe tbody tr th:only-of-type {\n",
       "        vertical-align: middle;\n",
       "    }\n",
       "\n",
       "    .dataframe tbody tr th {\n",
       "        vertical-align: top;\n",
       "    }\n",
       "\n",
       "    .dataframe thead th {\n",
       "        text-align: right;\n",
       "    }\n",
       "</style>\n",
       "<table border=\"1\" class=\"dataframe\">\n",
       "  <thead>\n",
       "    <tr style=\"text-align: right;\">\n",
       "      <th></th>\n",
       "      <th>total</th>\n",
       "      <th>good</th>\n",
       "      <th>bad</th>\n",
       "      <th>event_rate</th>\n",
       "      <th>non_event_rate</th>\n",
       "      <th>per_total_events</th>\n",
       "      <th>per_total_non_events</th>\n",
       "      <th>WOE</th>\n",
       "      <th>IV</th>\n",
       "    </tr>\n",
       "    <tr>\n",
       "      <th>values</th>\n",
       "      <th></th>\n",
       "      <th></th>\n",
       "      <th></th>\n",
       "      <th></th>\n",
       "      <th></th>\n",
       "      <th></th>\n",
       "      <th></th>\n",
       "      <th></th>\n",
       "      <th></th>\n",
       "    </tr>\n",
       "  </thead>\n",
       "  <tbody>\n",
       "    <tr>\n",
       "      <th>1</th>\n",
       "      <td>6076</td>\n",
       "      <td>671</td>\n",
       "      <td>5405</td>\n",
       "      <td>0.110434</td>\n",
       "      <td>0.889566</td>\n",
       "      <td>0.855867</td>\n",
       "      <td>0.785953</td>\n",
       "      <td>0.085218</td>\n",
       "      <td>0.00595796</td>\n",
       "    </tr>\n",
       "    <tr>\n",
       "      <th>2</th>\n",
       "      <td>1585</td>\n",
       "      <td>113</td>\n",
       "      <td>1472</td>\n",
       "      <td>0.0712934</td>\n",
       "      <td>0.928707</td>\n",
       "      <td>0.144133</td>\n",
       "      <td>0.214047</td>\n",
       "      <td>-0.395461</td>\n",
       "      <td>0.0276483</td>\n",
       "    </tr>\n",
       "  </tbody>\n",
       "</table>\n",
       "</div>"
      ],
      "text/plain": [
       "       total good   bad event_rate non_event_rate per_total_events  \\\n",
       "values                                                               \n",
       "1       6076  671  5405   0.110434       0.889566         0.855867   \n",
       "2       1585  113  1472  0.0712934       0.928707         0.144133   \n",
       "\n",
       "       per_total_non_events       WOE          IV  \n",
       "values                                             \n",
       "1                  0.785953  0.085218  0.00595796  \n",
       "2                  0.214047 -0.395461   0.0276483  "
      ]
     },
     "execution_count": 6795,
     "metadata": {},
     "output_type": "execute_result"
    }
   ],
   "source": [
    "bins = [-np.inf,40000,  np.inf]\n",
    "labels = [ '1', '2']\n",
    "train_df1_train['ul_capital_sum_bin'] = pd.cut(train_df1_train['ul_capital_sum'], bins = bins, labels = labels)\n",
    "d5 =calc_woe_iv(train_df1_train, 'ul_capital_sum_bin')\n",
    "d5"
   ]
  },
  {
   "cell_type": "code",
   "execution_count": 6796,
   "metadata": {},
   "outputs": [],
   "source": [
    "dict05 = {'1': 0.085218, '2': -0.395461 }"
   ]
  },
  {
   "cell_type": "code",
   "execution_count": 6797,
   "metadata": {},
   "outputs": [
    {
     "data": {
      "text/plain": [
       "<AxesSubplot:ylabel='Frequency'>"
      ]
     },
     "execution_count": 6797,
     "metadata": {},
     "output_type": "execute_result"
    },
    {
     "data": {
      "image/png": "[encoded data removed]",
      "text/plain": [
       "<Figure size 432x288 with 1 Axes>"
      ]
     },
     "metadata": {},
     "output_type": "display_data"
    }
   ],
   "source": [
    "train_df1_train[train_df1_train['default_12m']==0]['ul_founders_cnt'].plot.hist(bins = 10)"
   ]
  },
  {
   "cell_type": "code",
   "execution_count": 6798,
   "metadata": {},
   "outputs": [
    {
     "data": {
      "text/plain": [
       "<AxesSubplot:ylabel='Frequency'>"
      ]
     },
     "execution_count": 6798,
     "metadata": {},
     "output_type": "execute_result"
    },
    {
     "data": {
      "image/png": "[encoded data removed]",
      "text/plain": [
       "<Figure size 432x288 with 1 Axes>"
      ]
     },
     "metadata": {},
     "output_type": "display_data"
    }
   ],
   "source": [
    "train_df1_train[train_df1_train['default_12m']==1]['ul_founders_cnt'].plot.hist(bins = 10)"
   ]
  },
  {
   "cell_type": "code",
   "execution_count": 6799,
   "metadata": {},
   "outputs": [
    {
     "data": {
      "text/html": [
       "<div>\n",
       "<style scoped>\n",
       "    .dataframe tbody tr th:only-of-type {\n",
       "        vertical-align: middle;\n",
       "    }\n",
       "\n",
       "    .dataframe tbody tr th {\n",
       "        vertical-align: top;\n",
       "    }\n",
       "\n",
       "    .dataframe thead th {\n",
       "        text-align: right;\n",
       "    }\n",
       "</style>\n",
       "<table border=\"1\" class=\"dataframe\">\n",
       "  <thead>\n",
       "    <tr style=\"text-align: right;\">\n",
       "      <th></th>\n",
       "      <th>total</th>\n",
       "      <th>good</th>\n",
       "      <th>bad</th>\n",
       "      <th>event_rate</th>\n",
       "      <th>non_event_rate</th>\n",
       "      <th>per_total_events</th>\n",
       "      <th>per_total_non_events</th>\n",
       "      <th>WOE</th>\n",
       "      <th>IV</th>\n",
       "    </tr>\n",
       "    <tr>\n",
       "      <th>values</th>\n",
       "      <th></th>\n",
       "      <th></th>\n",
       "      <th></th>\n",
       "      <th></th>\n",
       "      <th></th>\n",
       "      <th></th>\n",
       "      <th></th>\n",
       "      <th></th>\n",
       "      <th></th>\n",
       "    </tr>\n",
       "  </thead>\n",
       "  <tbody>\n",
       "    <tr>\n",
       "      <th>1</th>\n",
       "      <td>4510</td>\n",
       "      <td>548</td>\n",
       "      <td>3962</td>\n",
       "      <td>0.121508</td>\n",
       "      <td>0.878492</td>\n",
       "      <td>0.69898</td>\n",
       "      <td>0.576123</td>\n",
       "      <td>0.193300</td>\n",
       "      <td>0.0237481</td>\n",
       "    </tr>\n",
       "    <tr>\n",
       "      <th>2</th>\n",
       "      <td>2879</td>\n",
       "      <td>225</td>\n",
       "      <td>2654</td>\n",
       "      <td>0.0781521</td>\n",
       "      <td>0.921848</td>\n",
       "      <td>0.28699</td>\n",
       "      <td>0.385924</td>\n",
       "      <td>-0.296194</td>\n",
       "      <td>0.0293038</td>\n",
       "    </tr>\n",
       "    <tr>\n",
       "      <th>3</th>\n",
       "      <td>272</td>\n",
       "      <td>11</td>\n",
       "      <td>261</td>\n",
       "      <td>0.0404412</td>\n",
       "      <td>0.959559</td>\n",
       "      <td>0.0140306</td>\n",
       "      <td>0.0379526</td>\n",
       "      <td>-0.995096</td>\n",
       "      <td>0.0238047</td>\n",
       "    </tr>\n",
       "  </tbody>\n",
       "</table>\n",
       "</div>"
      ],
      "text/plain": [
       "       total good   bad event_rate non_event_rate per_total_events  \\\n",
       "values                                                               \n",
       "1       4510  548  3962   0.121508       0.878492          0.69898   \n",
       "2       2879  225  2654  0.0781521       0.921848          0.28699   \n",
       "3        272   11   261  0.0404412       0.959559        0.0140306   \n",
       "\n",
       "       per_total_non_events       WOE         IV  \n",
       "values                                            \n",
       "1                  0.576123  0.193300  0.0237481  \n",
       "2                  0.385924 -0.296194  0.0293038  \n",
       "3                 0.0379526 -0.995096  0.0238047  "
      ]
     },
     "execution_count": 6799,
     "metadata": {},
     "output_type": "execute_result"
    }
   ],
   "source": [
    "bins = [-np.inf,1, 4,  np.inf]\n",
    "labels = [ '1', '2', '3']\n",
    "train_df1_train['ul_founders_cnt_bin'] = pd.cut(train_df1_train['ul_founders_cnt'], bins = bins, labels = labels)\n",
    "d6 = calc_woe_iv(train_df1_train, 'ul_founders_cnt_bin')\n",
    "d6"
   ]
  },
  {
   "cell_type": "code",
   "execution_count": 6800,
   "metadata": {},
   "outputs": [
    {
     "data": {
      "text/plain": [
       "[<matplotlib.lines.Line2D at 0x161099850>]"
      ]
     },
     "execution_count": 6800,
     "metadata": {},
     "output_type": "execute_result"
    },
    {
     "data": {
      "image/png": "[encoded data removed]",
      "text/plain": [
       "<Figure size 432x288 with 1 Axes>"
      ]
     },
     "metadata": {},
     "output_type": "display_data"
    }
   ],
   "source": [
    "dict06 = {'1': 0.193300, '2': -0.296194, '3':-0.995096}\n",
    "plt.plot([1, 2, 3], [0.193300, -0.296194, -0.995096 ])"
   ]
  },
  {
   "cell_type": "markdown",
   "metadata": {},
   "source": [
    "Применим функцию биннинга и замены значений на woe для тренировочного и валидационного датафреймов"
   ]
  },
  {
   "cell_type": "code",
   "execution_count": 6801,
   "metadata": {},
   "outputs": [],
   "source": [
    "change_data_with_nan(X_train1)\n",
    "change_data_with_nan(X_test1)"
   ]
  },
  {
   "cell_type": "code",
   "execution_count": 6802,
   "metadata": {},
   "outputs": [
    {
     "data": {
      "text/html": [
       "<div>\n",
       "<style scoped>\n",
       "    .dataframe tbody tr th:only-of-type {\n",
       "        vertical-align: middle;\n",
       "    }\n",
       "\n",
       "    .dataframe tbody tr th {\n",
       "        vertical-align: top;\n",
       "    }\n",
       "\n",
       "    .dataframe thead th {\n",
       "        text-align: right;\n",
       "    }\n",
       "</style>\n",
       "<table border=\"1\" class=\"dataframe\">\n",
       "  <thead>\n",
       "    <tr style=\"text-align: right;\">\n",
       "      <th></th>\n",
       "      <th>default_12m</th>\n",
       "      <th>bus_age_bin</th>\n",
       "      <th>ogrn_age_bin</th>\n",
       "      <th>head_actual_age_bin</th>\n",
       "      <th>ul_staff_range_bin</th>\n",
       "      <th>ul_capital_sum_bin</th>\n",
       "      <th>ul_founders_cnt_bin</th>\n",
       "    </tr>\n",
       "  </thead>\n",
       "  <tbody>\n",
       "    <tr>\n",
       "      <th>4886</th>\n",
       "      <td>0</td>\n",
       "      <td>0.378404</td>\n",
       "      <td>0.628118</td>\n",
       "      <td>0.056081</td>\n",
       "      <td>0.017748</td>\n",
       "      <td>0.085218</td>\n",
       "      <td>0.193300</td>\n",
       "    </tr>\n",
       "    <tr>\n",
       "      <th>21123</th>\n",
       "      <td>0</td>\n",
       "      <td>-0.524445</td>\n",
       "      <td>-0.276528</td>\n",
       "      <td>0.327551</td>\n",
       "      <td>0.017748</td>\n",
       "      <td>0.085218</td>\n",
       "      <td>-0.296194</td>\n",
       "    </tr>\n",
       "  </tbody>\n",
       "</table>\n",
       "</div>"
      ],
      "text/plain": [
       "       default_12m  bus_age_bin  ogrn_age_bin  head_actual_age_bin  \\\n",
       "4886             0     0.378404      0.628118             0.056081   \n",
       "21123            0    -0.524445     -0.276528             0.327551   \n",
       "\n",
       "       ul_staff_range_bin  ul_capital_sum_bin  ul_founders_cnt_bin  \n",
       "4886             0.017748            0.085218             0.193300  \n",
       "21123            0.017748            0.085218            -0.296194  "
      ]
     },
     "execution_count": 6802,
     "metadata": {},
     "output_type": "execute_result"
    }
   ],
   "source": [
    "X_train1.head(2)"
   ]
  },
  {
   "cell_type": "code",
   "execution_count": 6803,
   "metadata": {},
   "outputs": [
    {
     "data": {
      "text/html": [
       "<div>\n",
       "<style scoped>\n",
       "    .dataframe tbody tr th:only-of-type {\n",
       "        vertical-align: middle;\n",
       "    }\n",
       "\n",
       "    .dataframe tbody tr th {\n",
       "        vertical-align: top;\n",
       "    }\n",
       "\n",
       "    .dataframe thead th {\n",
       "        text-align: right;\n",
       "    }\n",
       "</style>\n",
       "<table border=\"1\" class=\"dataframe\">\n",
       "  <thead>\n",
       "    <tr style=\"text-align: right;\">\n",
       "      <th></th>\n",
       "      <th>bus_age_bin</th>\n",
       "      <th>ogrn_age_bin</th>\n",
       "      <th>head_actual_age_bin</th>\n",
       "      <th>ul_staff_range_bin</th>\n",
       "      <th>ul_capital_sum_bin</th>\n",
       "      <th>ul_founders_cnt_bin</th>\n",
       "    </tr>\n",
       "  </thead>\n",
       "  <tbody>\n",
       "    <tr>\n",
       "      <th>5163</th>\n",
       "      <td>-0.524445</td>\n",
       "      <td>-0.276528</td>\n",
       "      <td>-0.234179</td>\n",
       "      <td>0.017748</td>\n",
       "      <td>0.085218</td>\n",
       "      <td>-0.296194</td>\n",
       "    </tr>\n",
       "    <tr>\n",
       "      <th>25616</th>\n",
       "      <td>-0.524445</td>\n",
       "      <td>-0.276528</td>\n",
       "      <td>0.056081</td>\n",
       "      <td>0.017748</td>\n",
       "      <td>0.085218</td>\n",
       "      <td>-0.296194</td>\n",
       "    </tr>\n",
       "  </tbody>\n",
       "</table>\n",
       "</div>"
      ],
      "text/plain": [
       "       bus_age_bin  ogrn_age_bin  head_actual_age_bin  ul_staff_range_bin  \\\n",
       "5163     -0.524445     -0.276528            -0.234179            0.017748   \n",
       "25616    -0.524445     -0.276528             0.056081            0.017748   \n",
       "\n",
       "       ul_capital_sum_bin  ul_founders_cnt_bin  \n",
       "5163             0.085218            -0.296194  \n",
       "25616            0.085218            -0.296194  "
      ]
     },
     "execution_count": 6803,
     "metadata": {},
     "output_type": "execute_result"
    }
   ],
   "source": [
    "X_test1.head(2)"
   ]
  },
  {
   "cell_type": "markdown",
   "metadata": {},
   "source": [
    "Далее необходимо обучить модель и отобрать признаки\n",
    "Признаки будем отбирать 2 способами:\n",
    "- корреляция(больще чем 0,75)\n",
    "- отбор признаков RFE\n",
    " - Еще важность признаков можно смотреть по рассчитанному IV"
   ]
  },
  {
   "cell_type": "code",
   "execution_count": 6804,
   "metadata": {},
   "outputs": [
    {
     "data": {
      "text/html": [
       "<div>\n",
       "<style scoped>\n",
       "    .dataframe tbody tr th:only-of-type {\n",
       "        vertical-align: middle;\n",
       "    }\n",
       "\n",
       "    .dataframe tbody tr th {\n",
       "        vertical-align: top;\n",
       "    }\n",
       "\n",
       "    .dataframe thead th {\n",
       "        text-align: right;\n",
       "    }\n",
       "</style>\n",
       "<table border=\"1\" class=\"dataframe\">\n",
       "  <thead>\n",
       "    <tr style=\"text-align: right;\">\n",
       "      <th></th>\n",
       "      <th>default_12m</th>\n",
       "      <th>bus_age_bin</th>\n",
       "      <th>ogrn_age_bin</th>\n",
       "      <th>head_actual_age_bin</th>\n",
       "      <th>ul_staff_range_bin</th>\n",
       "      <th>ul_capital_sum_bin</th>\n",
       "      <th>ul_founders_cnt_bin</th>\n",
       "    </tr>\n",
       "  </thead>\n",
       "  <tbody>\n",
       "    <tr>\n",
       "      <th>default_12m</th>\n",
       "      <td>1.000000</td>\n",
       "      <td>0.177088</td>\n",
       "      <td>0.177230</td>\n",
       "      <td>0.062277</td>\n",
       "      <td>0.029742</td>\n",
       "      <td>0.052312</td>\n",
       "      <td>0.078064</td>\n",
       "    </tr>\n",
       "    <tr>\n",
       "      <th>bus_age_bin</th>\n",
       "      <td>0.177088</td>\n",
       "      <td>1.000000</td>\n",
       "      <td>0.890398</td>\n",
       "      <td>0.154826</td>\n",
       "      <td>0.132938</td>\n",
       "      <td>0.067858</td>\n",
       "      <td>0.040759</td>\n",
       "    </tr>\n",
       "    <tr>\n",
       "      <th>ogrn_age_bin</th>\n",
       "      <td>0.177230</td>\n",
       "      <td>0.890398</td>\n",
       "      <td>1.000000</td>\n",
       "      <td>0.142518</td>\n",
       "      <td>0.145472</td>\n",
       "      <td>0.066502</td>\n",
       "      <td>0.071586</td>\n",
       "    </tr>\n",
       "    <tr>\n",
       "      <th>head_actual_age_bin</th>\n",
       "      <td>0.062277</td>\n",
       "      <td>0.154826</td>\n",
       "      <td>0.142518</td>\n",
       "      <td>1.000000</td>\n",
       "      <td>0.014020</td>\n",
       "      <td>-0.040199</td>\n",
       "      <td>-0.018871</td>\n",
       "    </tr>\n",
       "    <tr>\n",
       "      <th>ul_staff_range_bin</th>\n",
       "      <td>0.029742</td>\n",
       "      <td>0.132938</td>\n",
       "      <td>0.145472</td>\n",
       "      <td>0.014020</td>\n",
       "      <td>1.000000</td>\n",
       "      <td>0.075133</td>\n",
       "      <td>0.071018</td>\n",
       "    </tr>\n",
       "    <tr>\n",
       "      <th>ul_capital_sum_bin</th>\n",
       "      <td>0.052312</td>\n",
       "      <td>0.067858</td>\n",
       "      <td>0.066502</td>\n",
       "      <td>-0.040199</td>\n",
       "      <td>0.075133</td>\n",
       "      <td>1.000000</td>\n",
       "      <td>0.044072</td>\n",
       "    </tr>\n",
       "    <tr>\n",
       "      <th>ul_founders_cnt_bin</th>\n",
       "      <td>0.078064</td>\n",
       "      <td>0.040759</td>\n",
       "      <td>0.071586</td>\n",
       "      <td>-0.018871</td>\n",
       "      <td>0.071018</td>\n",
       "      <td>0.044072</td>\n",
       "      <td>1.000000</td>\n",
       "    </tr>\n",
       "  </tbody>\n",
       "</table>\n",
       "</div>"
      ],
      "text/plain": [
       "                     default_12m  bus_age_bin  ogrn_age_bin  \\\n",
       "default_12m             1.000000     0.177088      0.177230   \n",
       "bus_age_bin             0.177088     1.000000      0.890398   \n",
       "ogrn_age_bin            0.177230     0.890398      1.000000   \n",
       "head_actual_age_bin     0.062277     0.154826      0.142518   \n",
       "ul_staff_range_bin      0.029742     0.132938      0.145472   \n",
       "ul_capital_sum_bin      0.052312     0.067858      0.066502   \n",
       "ul_founders_cnt_bin     0.078064     0.040759      0.071586   \n",
       "\n",
       "                     head_actual_age_bin  ul_staff_range_bin  \\\n",
       "default_12m                     0.062277            0.029742   \n",
       "bus_age_bin                     0.154826            0.132938   \n",
       "ogrn_age_bin                    0.142518            0.145472   \n",
       "head_actual_age_bin             1.000000            0.014020   \n",
       "ul_staff_range_bin              0.014020            1.000000   \n",
       "ul_capital_sum_bin             -0.040199            0.075133   \n",
       "ul_founders_cnt_bin            -0.018871            0.071018   \n",
       "\n",
       "                     ul_capital_sum_bin  ul_founders_cnt_bin  \n",
       "default_12m                    0.052312             0.078064  \n",
       "bus_age_bin                    0.067858             0.040759  \n",
       "ogrn_age_bin                   0.066502             0.071586  \n",
       "head_actual_age_bin           -0.040199            -0.018871  \n",
       "ul_staff_range_bin             0.075133             0.071018  \n",
       "ul_capital_sum_bin             1.000000             0.044072  \n",
       "ul_founders_cnt_bin            0.044072             1.000000  "
      ]
     },
     "execution_count": 6804,
     "metadata": {},
     "output_type": "execute_result"
    }
   ],
   "source": [
    "X_train1.corr()"
   ]
  },
  {
   "cell_type": "code",
   "execution_count": 6805,
   "metadata": {},
   "outputs": [],
   "source": [
    "#bus_age_bin - удалим его коррелирует с ogrn_age_bin\n",
    "features1 = ['ogrn_age_bin', 'head_actual_age_bin', 'ul_capital_sum_bin', 'ul_founders_cnt_bin', 'ul_staff_range_bin'] "
   ]
  },
  {
   "cell_type": "code",
   "execution_count": 6806,
   "metadata": {},
   "outputs": [],
   "source": [
    "features_df1 = X_train1.loc[:,features1]\n",
    "features_df1['default_12m'] = X_train1['default_12m']"
   ]
  },
  {
   "cell_type": "code",
   "execution_count": 6807,
   "metadata": {},
   "outputs": [
    {
     "name": "stdout",
     "output_type": "stream",
     "text": [
      "Num Features: %d\n",
      "4\n",
      "Selected Features: %s\n",
      "[ True  True  True  True False]\n",
      "Feature Ranking: %s\n",
      "[1 1 1 1 2]\n"
     ]
    }
   ],
   "source": [
    "model = LogisticRegression()\n",
    "rfe = RFE(model, 4)\n",
    "\n",
    "fit = rfe.fit(features_df1.drop('default_12m',axis=1), features_df1['default_12m'])\n",
    "\n",
    "print(\"Num Features: %d\")  \n",
    "print(fit.n_features_)\n",
    "\n",
    "print(\"Selected Features: %s\")  \n",
    "print(fit.support_)\n",
    "\n",
    "print(\"Feature Ranking: %s\") \n",
    "print(fit.ranking_)"
   ]
  },
  {
   "cell_type": "markdown",
   "metadata": {},
   "source": [
    "Преобразуем train_df1 и test_df1"
   ]
  },
  {
   "cell_type": "code",
   "execution_count": 6808,
   "metadata": {},
   "outputs": [],
   "source": [
    "change_data_with_nan(train_df1)\n",
    "change_data_with_nan(test_df1)"
   ]
  },
  {
   "cell_type": "code",
   "execution_count": 6809,
   "metadata": {},
   "outputs": [],
   "source": [
    "features1 = [ 'ogrn_age_bin', 'head_actual_age_bin', \n",
    "             'ul_capital_sum_bin', 'ul_founders_cnt_bin', 'ul_staff_range_bin'] \n",
    "features_df1 = train_df1.loc[:,features1]\n",
    "features_df1['default_12m'] = train_df1['default_12m']\n"
   ]
  },
  {
   "cell_type": "code",
   "execution_count": 6810,
   "metadata": {},
   "outputs": [
    {
     "data": {
      "text/plain": [
       "0.6839110456268414"
      ]
     },
     "execution_count": 6810,
     "metadata": {},
     "output_type": "execute_result"
    }
   ],
   "source": [
    "X_train1, X_test1, y_train1, y_test1 = train_test_split(features_df1.drop('default_12m',axis=1),\n",
    "                                                    features_df1['default_12m'],\n",
    "                                                    random_state=42, shuffle=True)\n",
    "\n",
    "logit1 = LogisticRegression(solver='lbfgs',max_iter=1000, penalty = 'l2')\n",
    "cv = cross_val_score(logit1, X_train1, y_train1, cv=5, scoring='roc_auc').mean()\n",
    "cv"
   ]
  },
  {
   "cell_type": "code",
   "execution_count": 6811,
   "metadata": {},
   "outputs": [
    {
     "name": "stdout",
     "output_type": "stream",
     "text": [
      "AUC на обучающей выборке : 0.686\n",
      "AUC на контрольной выборке : 0.682\n"
     ]
    }
   ],
   "source": [
    "logit1 = LogisticRegression(solver='lbfgs',max_iter=1000, penalty = 'l2').fit(X_train1, y_train1)\n",
    "print(\"AUC на обучающей выборке : {:.3f}\".format(roc_auc_score(y_train1, logit1.predict_proba(X_train1)[:, 1])))\n",
    "print(\"AUC на контрольной выборке : {:.3f}\".format(roc_auc_score(y_test1, logit1.predict_proba(X_test1)[:, 1])))"
   ]
  },
  {
   "cell_type": "markdown",
   "metadata": {},
   "source": [
    "строим регрессию c параметром регулизации"
   ]
  },
  {
   "cell_type": "code",
   "execution_count": 6812,
   "metadata": {},
   "outputs": [
    {
     "name": "stdout",
     "output_type": "stream",
     "text": [
      "AUC на обучающей выборке : 0.685\n",
      "AUC на контрольной выборке : 0.684\n"
     ]
    }
   ],
   "source": [
    "logit1 = LogisticRegression(C=0.12, penalty = 'l2',solver='lbfgs', random_state=42).fit(X_train1, y_train1)\n",
    "print(\"AUC на обучающей выборке : {:.3f}\".format(roc_auc_score(y_train1, logit1.predict_proba(X_train1)[:, 1])))\n",
    "print(\"AUC на контрольной выборке : {:.3f}\".format(roc_auc_score(y_test1, logit1.predict_proba(X_test1)[:, 1])))"
   ]
  },
  {
   "cell_type": "markdown",
   "metadata": {},
   "source": [
    "Отбор признаков логистической регрессии с помощью случайного леса(RFE). Лучшее качество модель показала при 4 признаках. Здесь показан процесс отбора признаков, но уже финальный вариант с 4 признаками"
   ]
  },
  {
   "cell_type": "code",
   "execution_count": 6813,
   "metadata": {},
   "outputs": [],
   "source": [
    "select = RFE(RandomForestClassifier(n_estimators=200, max_depth=10, random_state = 42, n_jobs = -1),\n",
    "            n_features_to_select=4)\n",
    "select.fit(X_train1, y_train1)\n",
    "X_train1_rfe = select.transform(X_train1)\n",
    "X_test1_rfe = select.transform(X_test1)"
   ]
  },
  {
   "cell_type": "code",
   "execution_count": 6814,
   "metadata": {},
   "outputs": [
    {
     "name": "stdout",
     "output_type": "stream",
     "text": [
      "ogrn_age_bin True\n",
      "head_actual_age_bin True\n",
      "ul_capital_sum_bin True\n",
      "ul_founders_cnt_bin True\n",
      "ul_staff_range_bin False\n"
     ]
    }
   ],
   "source": [
    "mask = select.get_support()\n",
    "feat_lables = X_train1.columns\n",
    "for c, feature in zip(mask, feat_lables):\n",
    "    print(feature, c)"
   ]
  },
  {
   "cell_type": "code",
   "execution_count": 6815,
   "metadata": {},
   "outputs": [],
   "source": [
    "features1 = [ 'ogrn_age_bin', 'head_actual_age_bin', 'ul_capital_sum_bin', 'ul_founders_cnt_bin'] \n",
    "features_df1 = train_df1.loc[:,features1]\n",
    "features_df1['default_12m'] = train_df1['default_12m']\n",
    "X_train1, X_test1, y_train1, y_test1 = train_test_split(features_df1.drop('default_12m',axis=1),\n",
    "                                                    features_df1['default_12m'],\n",
    "                                                    random_state=42, shuffle=True)"
   ]
  },
  {
   "cell_type": "code",
   "execution_count": 6816,
   "metadata": {},
   "outputs": [
    {
     "name": "stdout",
     "output_type": "stream",
     "text": [
      "AUC на обучающей выборке : 0.686\n",
      "AUC на контрольной выборке : 0.683\n"
     ]
    }
   ],
   "source": [
    "logit1 = LogisticRegression().fit(X_train1, y_train1)\n",
    "print(\"AUC на обучающей выборке : {:.3f}\".format(roc_auc_score(y_train1, logit1.predict_proba(X_train1)[:, 1])))\n",
    "print(\"AUC на контрольной выборке : {:.3f}\".format(roc_auc_score(y_test1, logit1.predict_proba(X_test1)[:, 1])))"
   ]
  },
  {
   "cell_type": "markdown",
   "metadata": {},
   "source": [
    "Настройка гиперпараметров логистической регрессии с помощью класса GRidSearchCV"
   ]
  },
  {
   "cell_type": "code",
   "execution_count": 6817,
   "metadata": {},
   "outputs": [
    {
     "name": "stdout",
     "output_type": "stream",
     "text": [
      "AUC на тестовой выборке : 0.683\n",
      "Наилучшее значение гиперпараметра С\n",
      "{'C': 0.28500000000000003}\n",
      "Наилучшее значение AUC\n",
      "0.685315112893944\n"
     ]
    }
   ],
   "source": [
    "strat = StratifiedKFold(n_splits = 10, shuffle = True, random_state=42)\n",
    "logreg_grid = LogisticRegression( penalty = 'l2', random_state=42)\n",
    "param_grid = {'C': np.arange(0, 1, 0.005)}\n",
    "grid_search = GridSearchCV(logreg_grid, param_grid, scoring = 'roc_auc', return_train_score=True, n_jobs = -1,\n",
    "                           cv=strat)\n",
    "grid_search.fit(X_train1, y_train1)\n",
    "test_score = roc_auc_score(y_test1, grid_search.predict_proba(X_test1)[:, 1])\n",
    "print(\"AUC на тестовой выборке : {:.3f}\".format(test_score))\n",
    "print(\"Наилучшее значение гиперпараметра С\")\n",
    "print(grid_search.best_params_)\n",
    "print(\"Наилучшее значение AUC\")\n",
    "print(grid_search.best_score_)"
   ]
  },
  {
   "cell_type": "markdown",
   "metadata": {},
   "source": [
    "Подбор cutoff: посмотрим при каком значении порога модель дает большую точность"
   ]
  },
  {
   "cell_type": "code",
   "execution_count": 6818,
   "metadata": {},
   "outputs": [],
   "source": [
    "porog = np.arange(0, 1.01, 0.01)\n",
    "roc_auc_scores_test = []\n",
    "roc_auc_scores_train = []\n",
    "for i in porog:\n",
    "    logit1 = LogisticRegression(C= 0.285, max_iter=1000, penalty = 'l2', random_state=17)\n",
    "    logit1.fit(features_df1.drop('default_12m',axis=1), features_df1['default_12m'])\n",
    "    pred_train = (logit1.predict_proba(X_train1)[:,1]>i).astype(int)\n",
    "    pred_test = (logit1.predict_proba(X_test1)[:,1]>i).astype(int)\n",
    "    accu_train = roc_auc_score(y_train1, pred_train)\n",
    "    accu_test = roc_auc_score(y_test1, pred_test)\n",
    "    roc_auc_scores_test.append(accu_test)\n",
    "    roc_auc_scores_train.append(accu_train)"
   ]
  },
  {
   "cell_type": "code",
   "execution_count": 6819,
   "metadata": {},
   "outputs": [
    {
     "data": {
      "image/png": "[encoded data removed]",
      "text/plain": [
       "<Figure size 432x288 with 1 Axes>"
      ]
     },
     "metadata": {},
     "output_type": "display_data"
    }
   ],
   "source": [
    "plt.plot(porog, roc_auc_scores_train, label = 'roc_auc_train')\n",
    "plt.plot(porog, roc_auc_scores_test, label = 'roc_auc_test')\n",
    "plt.legend()\n",
    "plt.title('Зависимость ROC AUC от порог вероятности') \n",
    "plt.xlabel('порог вероятности')\n",
    "plt.ylabel('ROC AUC')\n",
    "plt.show()"
   ]
  },
  {
   "cell_type": "markdown",
   "metadata": {},
   "source": [
    "Смотрим лучшее значение в roc_auc_scores_test и какому порогу оно соответствует"
   ]
  },
  {
   "cell_type": "code",
   "execution_count": 6820,
   "metadata": {},
   "outputs": [],
   "source": [
    "cutoff1 =0.11"
   ]
  },
  {
   "cell_type": "code",
   "execution_count": 6821,
   "metadata": {},
   "outputs": [
    {
     "name": "stdout",
     "output_type": "stream",
     "text": [
      "[1 0 0 ... 0 1 0]\n",
      "0.6774572510116172\n",
      "0.6722787783868441\n"
     ]
    }
   ],
   "source": [
    "logit1 = LogisticRegression(C=0.285,max_iter=1000, penalty = 'l2', random_state=17)\n",
    "logit1.fit(features_df1.drop('default_12m',axis=1), features_df1['default_12m'])\n",
    "pred_train = (logit1.predict_proba(X_train1)[:,1]>cutoff1).astype(int)\n",
    "pred_test = (logit1.predict_proba(X_test1)[:,1]>cutoff1).astype(int)\n",
    "print(pred_train)\n",
    "accu_train = accuracy_score(y_train1, pred_train)\n",
    "accu_test = accuracy_score(y_test1, pred_test)\n",
    "\n",
    "print(accu_train)\n",
    "print(accu_test)"
   ]
  },
  {
   "cell_type": "markdown",
   "metadata": {},
   "source": [
    "Формирование ответов для части данных с пропусками"
   ]
  },
  {
   "cell_type": "code",
   "execution_count": 6822,
   "metadata": {},
   "outputs": [],
   "source": [
    "answ_df1 = test_df1[['record_id']]\n",
    "answ_df1['id'] = answ_df1['record_id']\n",
    "answ_df1.drop('record_id',axis=1, inplace=True)\n",
    "answ_df1['predict'] = (logit1.predict_proba(test_df1.loc[:,features1])[:,1]>cutoff1).astype(int)"
   ]
  },
  {
   "cell_type": "markdown",
   "metadata": {},
   "source": [
    "# df2"
   ]
  },
  {
   "cell_type": "code",
   "execution_count": 6824,
   "metadata": {},
   "outputs": [
    {
     "data": {
      "text/html": [
       "<div>\n",
       "<style scoped>\n",
       "    .dataframe tbody tr th:only-of-type {\n",
       "        vertical-align: middle;\n",
       "    }\n",
       "\n",
       "    .dataframe tbody tr th {\n",
       "        vertical-align: top;\n",
       "    }\n",
       "\n",
       "    .dataframe thead th {\n",
       "        text-align: right;\n",
       "    }\n",
       "</style>\n",
       "<table border=\"1\" class=\"dataframe\">\n",
       "  <thead>\n",
       "    <tr style=\"text-align: right;\">\n",
       "      <th></th>\n",
       "      <th>record_id</th>\n",
       "      <th>ar_revenue</th>\n",
       "      <th>ar_total_expenses</th>\n",
       "      <th>ar_sale_cost</th>\n",
       "      <th>ar_selling_expenses</th>\n",
       "      <th>ar_management_expenses</th>\n",
       "      <th>ar_sale_profit</th>\n",
       "      <th>ar_balance_of_rvns_and_expns</th>\n",
       "      <th>ar_profit_before_tax</th>\n",
       "      <th>ar_taxes</th>\n",
       "      <th>...</th>\n",
       "      <th>ab_short_term_borrowing</th>\n",
       "      <th>ab_accounts_payable</th>\n",
       "      <th>ab_other_borrowings</th>\n",
       "      <th>bus_age</th>\n",
       "      <th>ogrn_age</th>\n",
       "      <th>head_actual_age</th>\n",
       "      <th>ul_staff_range</th>\n",
       "      <th>ul_capital_sum</th>\n",
       "      <th>ul_founders_cnt</th>\n",
       "      <th>default_12m</th>\n",
       "    </tr>\n",
       "  </thead>\n",
       "  <tbody>\n",
       "    <tr>\n",
       "      <th>0</th>\n",
       "      <td>7</td>\n",
       "      <td>52996000.0</td>\n",
       "      <td>48344000.0</td>\n",
       "      <td>48344000.0</td>\n",
       "      <td>0.0</td>\n",
       "      <td>0.0</td>\n",
       "      <td>4652000.0</td>\n",
       "      <td>-2608000.0</td>\n",
       "      <td>2044000.0</td>\n",
       "      <td>846000.0</td>\n",
       "      <td>...</td>\n",
       "      <td>11349000.0</td>\n",
       "      <td>4523000.0</td>\n",
       "      <td>0.0</td>\n",
       "      <td>198</td>\n",
       "      <td>136</td>\n",
       "      <td>3</td>\n",
       "      <td>1</td>\n",
       "      <td>50000.0</td>\n",
       "      <td>2</td>\n",
       "      <td>0</td>\n",
       "    </tr>\n",
       "    <tr>\n",
       "      <th>3</th>\n",
       "      <td>22</td>\n",
       "      <td>32049000.0</td>\n",
       "      <td>29568000.0</td>\n",
       "      <td>29568000.0</td>\n",
       "      <td>0.0</td>\n",
       "      <td>0.0</td>\n",
       "      <td>2481000.0</td>\n",
       "      <td>-260000.0</td>\n",
       "      <td>2221000.0</td>\n",
       "      <td>302000.0</td>\n",
       "      <td>...</td>\n",
       "      <td>3652000.0</td>\n",
       "      <td>0.0</td>\n",
       "      <td>0.0</td>\n",
       "      <td>185</td>\n",
       "      <td>139</td>\n",
       "      <td>8</td>\n",
       "      <td>1</td>\n",
       "      <td>300000.0</td>\n",
       "      <td>1</td>\n",
       "      <td>0</td>\n",
       "    </tr>\n",
       "  </tbody>\n",
       "</table>\n",
       "<p>2 rows × 32 columns</p>\n",
       "</div>"
      ],
      "text/plain": [
       "   record_id  ar_revenue  ar_total_expenses  ar_sale_cost  \\\n",
       "0          7  52996000.0         48344000.0    48344000.0   \n",
       "3         22  32049000.0         29568000.0    29568000.0   \n",
       "\n",
       "   ar_selling_expenses  ar_management_expenses  ar_sale_profit  \\\n",
       "0                  0.0                     0.0       4652000.0   \n",
       "3                  0.0                     0.0       2481000.0   \n",
       "\n",
       "   ar_balance_of_rvns_and_expns  ar_profit_before_tax  ar_taxes  ...  \\\n",
       "0                    -2608000.0             2044000.0  846000.0  ...   \n",
       "3                     -260000.0             2221000.0  302000.0  ...   \n",
       "\n",
       "   ab_short_term_borrowing  ab_accounts_payable  ab_other_borrowings  bus_age  \\\n",
       "0               11349000.0            4523000.0                  0.0      198   \n",
       "3                3652000.0                  0.0                  0.0      185   \n",
       "\n",
       "   ogrn_age  head_actual_age  ul_staff_range  ul_capital_sum  ul_founders_cnt  \\\n",
       "0       136                3               1         50000.0                2   \n",
       "3       139                8               1        300000.0                1   \n",
       "\n",
       "   default_12m  \n",
       "0            0  \n",
       "3            0  \n",
       "\n",
       "[2 rows x 32 columns]"
      ]
     },
     "execution_count": 6824,
     "metadata": {},
     "output_type": "execute_result"
    }
   ],
   "source": [
    "train_df2.head(2)"
   ]
  },
  {
   "cell_type": "code",
   "execution_count": 6825,
   "metadata": {},
   "outputs": [
    {
     "data": {
      "text/html": [
       "<div>\n",
       "<style scoped>\n",
       "    .dataframe tbody tr th:only-of-type {\n",
       "        vertical-align: middle;\n",
       "    }\n",
       "\n",
       "    .dataframe tbody tr th {\n",
       "        vertical-align: top;\n",
       "    }\n",
       "\n",
       "    .dataframe thead th {\n",
       "        text-align: right;\n",
       "    }\n",
       "</style>\n",
       "<table border=\"1\" class=\"dataframe\">\n",
       "  <thead>\n",
       "    <tr style=\"text-align: right;\">\n",
       "      <th></th>\n",
       "      <th>record_id</th>\n",
       "      <th>ar_revenue</th>\n",
       "      <th>ar_total_expenses</th>\n",
       "      <th>ar_sale_cost</th>\n",
       "      <th>ar_selling_expenses</th>\n",
       "      <th>ar_management_expenses</th>\n",
       "      <th>ar_sale_profit</th>\n",
       "      <th>ar_balance_of_rvns_and_expns</th>\n",
       "      <th>ar_profit_before_tax</th>\n",
       "      <th>ar_taxes</th>\n",
       "      <th>...</th>\n",
       "      <th>ab_short_term_borrowing</th>\n",
       "      <th>ab_accounts_payable</th>\n",
       "      <th>ab_other_borrowings</th>\n",
       "      <th>bus_age</th>\n",
       "      <th>ogrn_age</th>\n",
       "      <th>head_actual_age</th>\n",
       "      <th>ul_staff_range</th>\n",
       "      <th>ul_capital_sum</th>\n",
       "      <th>ul_founders_cnt</th>\n",
       "      <th>default_12m</th>\n",
       "    </tr>\n",
       "  </thead>\n",
       "  <tbody>\n",
       "    <tr>\n",
       "      <th>count</th>\n",
       "      <td>16375.000000</td>\n",
       "      <td>1.637500e+04</td>\n",
       "      <td>1.637500e+04</td>\n",
       "      <td>1.637500e+04</td>\n",
       "      <td>1.637500e+04</td>\n",
       "      <td>1.637500e+04</td>\n",
       "      <td>1.637500e+04</td>\n",
       "      <td>1.637500e+04</td>\n",
       "      <td>1.637500e+04</td>\n",
       "      <td>1.637500e+04</td>\n",
       "      <td>...</td>\n",
       "      <td>1.637500e+04</td>\n",
       "      <td>1.637500e+04</td>\n",
       "      <td>1.637500e+04</td>\n",
       "      <td>16375.000000</td>\n",
       "      <td>16375.000000</td>\n",
       "      <td>16375.000000</td>\n",
       "      <td>16375.000000</td>\n",
       "      <td>1.637500e+04</td>\n",
       "      <td>16375.000000</td>\n",
       "      <td>16375.000000</td>\n",
       "    </tr>\n",
       "    <tr>\n",
       "      <th>mean</th>\n",
       "      <td>135111.873466</td>\n",
       "      <td>7.985187e+07</td>\n",
       "      <td>7.522855e+07</td>\n",
       "      <td>7.173804e+07</td>\n",
       "      <td>2.407210e+06</td>\n",
       "      <td>1.083309e+06</td>\n",
       "      <td>4.623314e+06</td>\n",
       "      <td>-6.052549e+05</td>\n",
       "      <td>4.018059e+06</td>\n",
       "      <td>4.152474e+05</td>\n",
       "      <td>...</td>\n",
       "      <td>4.768369e+06</td>\n",
       "      <td>1.459236e+07</td>\n",
       "      <td>8.957845e+05</td>\n",
       "      <td>116.219481</td>\n",
       "      <td>91.547786</td>\n",
       "      <td>15.771725</td>\n",
       "      <td>1.170443</td>\n",
       "      <td>1.895427e+06</td>\n",
       "      <td>17.781313</td>\n",
       "      <td>0.047389</td>\n",
       "    </tr>\n",
       "    <tr>\n",
       "      <th>std</th>\n",
       "      <td>79599.515352</td>\n",
       "      <td>1.250218e+08</td>\n",
       "      <td>1.204088e+08</td>\n",
       "      <td>1.137228e+08</td>\n",
       "      <td>1.198818e+07</td>\n",
       "      <td>7.873977e+06</td>\n",
       "      <td>1.960520e+07</td>\n",
       "      <td>5.815716e+06</td>\n",
       "      <td>1.965486e+07</td>\n",
       "      <td>1.533049e+06</td>\n",
       "      <td>...</td>\n",
       "      <td>1.297287e+07</td>\n",
       "      <td>3.619920e+07</td>\n",
       "      <td>1.489738e+07</td>\n",
       "      <td>76.355291</td>\n",
       "      <td>43.232324</td>\n",
       "      <td>9.806939</td>\n",
       "      <td>0.415241</td>\n",
       "      <td>1.515718e+07</td>\n",
       "      <td>105.410688</td>\n",
       "      <td>0.212477</td>\n",
       "    </tr>\n",
       "    <tr>\n",
       "      <th>min</th>\n",
       "      <td>7.000000</td>\n",
       "      <td>0.000000e+00</td>\n",
       "      <td>-7.019840e+08</td>\n",
       "      <td>-5.072780e+08</td>\n",
       "      <td>-3.542900e+07</td>\n",
       "      <td>-1.921670e+08</td>\n",
       "      <td>-9.210000e+07</td>\n",
       "      <td>-7.581800e+07</td>\n",
       "      <td>-5.946600e+07</td>\n",
       "      <td>-1.681000e+07</td>\n",
       "      <td>...</td>\n",
       "      <td>-2.700000e+06</td>\n",
       "      <td>0.000000e+00</td>\n",
       "      <td>-2.500000e+05</td>\n",
       "      <td>8.000000</td>\n",
       "      <td>2.000000</td>\n",
       "      <td>1.000000</td>\n",
       "      <td>1.000000</td>\n",
       "      <td>0.000000e+00</td>\n",
       "      <td>1.000000</td>\n",
       "      <td>0.000000</td>\n",
       "    </tr>\n",
       "    <tr>\n",
       "      <th>25%</th>\n",
       "      <td>65468.500000</td>\n",
       "      <td>9.705000e+06</td>\n",
       "      <td>8.820000e+06</td>\n",
       "      <td>8.466000e+06</td>\n",
       "      <td>0.000000e+00</td>\n",
       "      <td>0.000000e+00</td>\n",
       "      <td>2.060000e+05</td>\n",
       "      <td>-9.080000e+05</td>\n",
       "      <td>1.350000e+05</td>\n",
       "      <td>0.000000e+00</td>\n",
       "      <td>...</td>\n",
       "      <td>0.000000e+00</td>\n",
       "      <td>6.460000e+05</td>\n",
       "      <td>0.000000e+00</td>\n",
       "      <td>52.000000</td>\n",
       "      <td>51.000000</td>\n",
       "      <td>6.000000</td>\n",
       "      <td>1.000000</td>\n",
       "      <td>1.000000e+04</td>\n",
       "      <td>1.000000</td>\n",
       "      <td>0.000000</td>\n",
       "    </tr>\n",
       "    <tr>\n",
       "      <th>50%</th>\n",
       "      <td>134141.000000</td>\n",
       "      <td>3.129100e+07</td>\n",
       "      <td>2.838600e+07</td>\n",
       "      <td>2.734400e+07</td>\n",
       "      <td>0.000000e+00</td>\n",
       "      <td>0.000000e+00</td>\n",
       "      <td>1.181000e+06</td>\n",
       "      <td>-1.240000e+05</td>\n",
       "      <td>8.050000e+05</td>\n",
       "      <td>4.100000e+04</td>\n",
       "      <td>...</td>\n",
       "      <td>3.310000e+05</td>\n",
       "      <td>3.551000e+06</td>\n",
       "      <td>0.000000e+00</td>\n",
       "      <td>99.000000</td>\n",
       "      <td>97.000000</td>\n",
       "      <td>15.000000</td>\n",
       "      <td>1.000000</td>\n",
       "      <td>1.000000e+04</td>\n",
       "      <td>1.000000</td>\n",
       "      <td>0.000000</td>\n",
       "    </tr>\n",
       "    <tr>\n",
       "      <th>75%</th>\n",
       "      <td>203610.500000</td>\n",
       "      <td>8.669600e+07</td>\n",
       "      <td>8.126950e+07</td>\n",
       "      <td>7.829250e+07</td>\n",
       "      <td>0.000000e+00</td>\n",
       "      <td>0.000000e+00</td>\n",
       "      <td>4.371500e+06</td>\n",
       "      <td>0.000000e+00</td>\n",
       "      <td>3.374000e+06</td>\n",
       "      <td>2.900000e+05</td>\n",
       "      <td>...</td>\n",
       "      <td>3.600000e+06</td>\n",
       "      <td>1.390850e+07</td>\n",
       "      <td>0.000000e+00</td>\n",
       "      <td>161.000000</td>\n",
       "      <td>136.000000</td>\n",
       "      <td>25.000000</td>\n",
       "      <td>1.000000</td>\n",
       "      <td>1.000000e+05</td>\n",
       "      <td>2.000000</td>\n",
       "      <td>0.000000</td>\n",
       "    </tr>\n",
       "    <tr>\n",
       "      <th>max</th>\n",
       "      <td>274623.000000</td>\n",
       "      <td>7.946840e+08</td>\n",
       "      <td>7.949360e+08</td>\n",
       "      <td>7.624930e+08</td>\n",
       "      <td>2.746560e+08</td>\n",
       "      <td>3.023550e+08</td>\n",
       "      <td>1.434511e+09</td>\n",
       "      <td>1.584250e+08</td>\n",
       "      <td>1.481526e+09</td>\n",
       "      <td>5.420200e+07</td>\n",
       "      <td>...</td>\n",
       "      <td>3.223740e+08</td>\n",
       "      <td>1.820521e+09</td>\n",
       "      <td>1.251578e+09</td>\n",
       "      <td>693.000000</td>\n",
       "      <td>149.000000</td>\n",
       "      <td>33.000000</td>\n",
       "      <td>3.000000</td>\n",
       "      <td>8.409151e+08</td>\n",
       "      <td>998.000000</td>\n",
       "      <td>1.000000</td>\n",
       "    </tr>\n",
       "  </tbody>\n",
       "</table>\n",
       "<p>8 rows × 32 columns</p>\n",
       "</div>"
      ],
      "text/plain": [
       "           record_id    ar_revenue  ar_total_expenses  ar_sale_cost  \\\n",
       "count   16375.000000  1.637500e+04       1.637500e+04  1.637500e+04   \n",
       "mean   135111.873466  7.985187e+07       7.522855e+07  7.173804e+07   \n",
       "std     79599.515352  1.250218e+08       1.204088e+08  1.137228e+08   \n",
       "min         7.000000  0.000000e+00      -7.019840e+08 -5.072780e+08   \n",
       "25%     65468.500000  9.705000e+06       8.820000e+06  8.466000e+06   \n",
       "50%    134141.000000  3.129100e+07       2.838600e+07  2.734400e+07   \n",
       "75%    203610.500000  8.669600e+07       8.126950e+07  7.829250e+07   \n",
       "max    274623.000000  7.946840e+08       7.949360e+08  7.624930e+08   \n",
       "\n",
       "       ar_selling_expenses  ar_management_expenses  ar_sale_profit  \\\n",
       "count         1.637500e+04            1.637500e+04    1.637500e+04   \n",
       "mean          2.407210e+06            1.083309e+06    4.623314e+06   \n",
       "std           1.198818e+07            7.873977e+06    1.960520e+07   \n",
       "min          -3.542900e+07           -1.921670e+08   -9.210000e+07   \n",
       "25%           0.000000e+00            0.000000e+00    2.060000e+05   \n",
       "50%           0.000000e+00            0.000000e+00    1.181000e+06   \n",
       "75%           0.000000e+00            0.000000e+00    4.371500e+06   \n",
       "max           2.746560e+08            3.023550e+08    1.434511e+09   \n",
       "\n",
       "       ar_balance_of_rvns_and_expns  ar_profit_before_tax      ar_taxes  ...  \\\n",
       "count                  1.637500e+04          1.637500e+04  1.637500e+04  ...   \n",
       "mean                  -6.052549e+05          4.018059e+06  4.152474e+05  ...   \n",
       "std                    5.815716e+06          1.965486e+07  1.533049e+06  ...   \n",
       "min                   -7.581800e+07         -5.946600e+07 -1.681000e+07  ...   \n",
       "25%                   -9.080000e+05          1.350000e+05  0.000000e+00  ...   \n",
       "50%                   -1.240000e+05          8.050000e+05  4.100000e+04  ...   \n",
       "75%                    0.000000e+00          3.374000e+06  2.900000e+05  ...   \n",
       "max                    1.584250e+08          1.481526e+09  5.420200e+07  ...   \n",
       "\n",
       "       ab_short_term_borrowing  ab_accounts_payable  ab_other_borrowings  \\\n",
       "count             1.637500e+04         1.637500e+04         1.637500e+04   \n",
       "mean              4.768369e+06         1.459236e+07         8.957845e+05   \n",
       "std               1.297287e+07         3.619920e+07         1.489738e+07   \n",
       "min              -2.700000e+06         0.000000e+00        -2.500000e+05   \n",
       "25%               0.000000e+00         6.460000e+05         0.000000e+00   \n",
       "50%               3.310000e+05         3.551000e+06         0.000000e+00   \n",
       "75%               3.600000e+06         1.390850e+07         0.000000e+00   \n",
       "max               3.223740e+08         1.820521e+09         1.251578e+09   \n",
       "\n",
       "            bus_age      ogrn_age  head_actual_age  ul_staff_range  \\\n",
       "count  16375.000000  16375.000000     16375.000000    16375.000000   \n",
       "mean     116.219481     91.547786        15.771725        1.170443   \n",
       "std       76.355291     43.232324         9.806939        0.415241   \n",
       "min        8.000000      2.000000         1.000000        1.000000   \n",
       "25%       52.000000     51.000000         6.000000        1.000000   \n",
       "50%       99.000000     97.000000        15.000000        1.000000   \n",
       "75%      161.000000    136.000000        25.000000        1.000000   \n",
       "max      693.000000    149.000000        33.000000        3.000000   \n",
       "\n",
       "       ul_capital_sum  ul_founders_cnt   default_12m  \n",
       "count    1.637500e+04     16375.000000  16375.000000  \n",
       "mean     1.895427e+06        17.781313      0.047389  \n",
       "std      1.515718e+07       105.410688      0.212477  \n",
       "min      0.000000e+00         1.000000      0.000000  \n",
       "25%      1.000000e+04         1.000000      0.000000  \n",
       "50%      1.000000e+04         1.000000      0.000000  \n",
       "75%      1.000000e+05         2.000000      0.000000  \n",
       "max      8.409151e+08       998.000000      1.000000  \n",
       "\n",
       "[8 rows x 32 columns]"
      ]
     },
     "execution_count": 6825,
     "metadata": {},
     "output_type": "execute_result"
    }
   ],
   "source": [
    "train_df2.describe()"
   ]
  },
  {
   "cell_type": "markdown",
   "metadata": {},
   "source": [
    "## Новые признаки train_df2"
   ]
  },
  {
   "cell_type": "markdown",
   "metadata": {},
   "source": [
    "Создаем новые признаки(здесь есть признаки, которые создавались, но были удалены в процессе отбора признаков)"
   ]
  },
  {
   "cell_type": "code",
   "execution_count": 6826,
   "metadata": {},
   "outputs": [],
   "source": [
    "# отношение доходов к расходам\n",
    "train_df2['rashody'] = (train_df2['ar_total_expenses']+ train_df2['ar_sale_cost'] + \n",
    "                    train_df2['ar_selling_expenses'] + train_df2['ar_management_expenses'] + train_df2['ar_taxes'] \n",
    "                                               + train_df2['ar_revenue'] - train_df2['ar_profit_before_tax'])\n",
    "test_df2['rashody'] = (test_df2['ar_total_expenses']+ test_df2['ar_sale_cost'] + \n",
    "                    test_df2['ar_selling_expenses'] + test_df2['ar_management_expenses'] + test_df2['ar_taxes'] \n",
    "                                               + test_df2['ar_revenue'] - test_df2['ar_profit_before_tax'])\n",
    "train_df2.loc[train_df2['rashody']==0, 'rashody'] =1\n",
    "test_df2.loc[test_df2['rashody']==0, 'rashody'] =1\n",
    "#удалили во время отбора train_df2['new_1'] = train_df2['ar_sale_profit'] / train_df2['rashody']"
   ]
  },
  {
   "cell_type": "code",
   "execution_count": 6827,
   "metadata": {},
   "outputs": [],
   "source": [
    "# оборотные активы\n",
    "train_df2['oborotnie_activy'] = train_df2['ab_inventory'] + train_df2['ab_accounts_receivable'] + train_df2['ab_cash_and_securities'] + train_df2['ab_other_current_assets']\n",
    "test_df2['oborotnie_activy'] = test_df2['ab_inventory'] + test_df2['ab_accounts_receivable'] + test_df2['ab_cash_and_securities'] + test_df2['ab_other_current_assets']\n",
    "#активы всего\n",
    "train_df2['activy_vsego'] = train_df2['oborotnie_activy'] + train_df2['ab_immobilized_assets']\n",
    "test_df2['activy_vsego'] = test_df2['oborotnie_activy'] + test_df2['ab_immobilized_assets']\n",
    "train_df2.loc[train_df2['activy_vsego']==0, 'activy_vsego']== 1\n",
    "test_df2.loc[test_df2['activy_vsego']==0, 'activy_vsego']==1\n",
    "# краткосрочные обязательства\n",
    "train_df2['kratkosrochn_obyazatel'] = train_df2['ab_short_term_borrowing'] + train_df2['ab_accounts_payable']\n",
    "test_df2['kratkosrochn_obyazatel'] = test_df2['ab_short_term_borrowing'] + test_df2['ab_accounts_payable']\n",
    "train_df2.loc[train_df2['kratkosrochn_obyazatel']==0, 'kratkosrochn_obyazatel']=1\n",
    "test_df2.loc[test_df2['kratkosrochn_obyazatel']==0, 'kratkosrochn_obyazatel']=1\n",
    "#ДО — долгосрочные обязательства предприятия\n",
    "train_df2['dolgosrochn_obyazat'] = train_df2['ab_long_term_liabilities'] + train_df2['ab_other_borrowings']\n",
    "test_df2['dolgosrochn_obyazat'] = test_df2['ab_long_term_liabilities'] + test_df2['ab_other_borrowings']\n",
    "train_df2.loc[train_df2['dolgosrochn_obyazat']==0, 'dolgosrochn_obyazat'] = 1\n",
    "test_df2.loc[test_df2['dolgosrochn_obyazat']==0, 'dolgosrochn_obyazat'] = 1"
   ]
  },
  {
   "cell_type": "code",
   "execution_count": 6828,
   "metadata": {},
   "outputs": [],
   "source": [
    "#ОА – оборотные активы , КО – краткосрочные обязательства.\n",
    "# коэффициент ликвидности Ктл = ОА / КО\n",
    "train_df2['coeff_likv'] = train_df2['oborotnie_activy']/train_df2['kratkosrochn_obyazatel']\n",
    "test_df2['coeff_likv'] = test_df2['oborotnie_activy']/test_df2['kratkosrochn_obyazatel']\n",
    "\n",
    "#https://rdv-it.ru/company/press-center/blog/kak-rasschitat-rentabelnost-predpriyatiya/\n",
    "#Rзк=Пр/(ДО+КО)*100,где: \n",
    "#Rзк — рентабельность собственного капитала; Пр — чистая прибыль;   ar_net_profit\n",
    "#ДО — долгосрочные обязательства предприятия;#КО — краткосрочные обязательства. \n",
    "#train_df2['rentab_sobstv_kapit'] = train_df2['ar_net_profit'] /(train_df2['dolgosrochn_obyazat'] + train_df2['kratkosrochn_obyazatel'])\n",
    "#удалили во время отбора"
   ]
  },
  {
   "cell_type": "code",
   "execution_count": 6829,
   "metadata": {},
   "outputs": [],
   "source": [
    "#https://economics.hse.ru/data/2011/11/14/1270200186/оценка%20вероятности%20дефолта%20пром%20комп.PDF\n",
    "#1 Коэффициент текущей ликвидности уже есть выше\n",
    "#2 Коэффициент промежуточного покрытия(срочной ликвидности)\n",
    "train_df2['LIQ_QUIK'] = (train_df2['ab_cash_and_securities'] + train_df2['ab_accounts_receivable']) / train_df2['kratkosrochn_obyazatel']\n",
    "test_df2['LIQ_QUIK'] = (test_df2['ab_cash_and_securities'] + test_df2['ab_accounts_receivable']) / test_df2['kratkosrochn_obyazatel']\n",
    "#3коэффициент абсолютной ликвидности \n",
    "train_df2['LIQ_ABS'] = train_df2['ab_cash_and_securities']/ train_df2['kratkosrochn_obyazatel']\n",
    "test_df2['LIQ_ABS'] = test_df2['ab_cash_and_securities']/ test_df2['kratkosrochn_obyazatel']\n",
    "#4 Доля чистого оборотного капитала в активах - удалили во время отбора\n",
    "#train_df2['NCAP_AS'] = (train_df2['oborotnie_activy'] - train_df2['ab_short_term_borrowing'] - train_df2['ab_accounts_payable'])/train_df2['activy_vsego']\n",
    "\n",
    "#5 доля денежных средств в активах всего удалили в процессе отбора\n",
    "#train_df2['CASH_AS'] = train_df2['ab_cash_and_securities'] / train_df2['activy_vsego']\n",
    "\n",
    "#6 может быть nan в результате работы модели\n",
    "train_df2['CAP_AS'] = train_df2['ab_own_capital']/train_df2['activy_vsego']\n",
    "test_df2['CAP_AS'] = test_df2['ab_own_capital']/test_df2['activy_vsego']\n",
    "train_df2['CAP_AS'].fillna(train_df2['CAP_AS'].median(), inplace = True)\n",
    "test_df2['CAP_AS'].fillna(test_df2['CAP_AS'].median(), inplace = True)\n",
    "train_df2.loc[train_df2['CAP_AS']>20000, 'CAP_AS'] = 20000\n",
    "test_df2.loc[test_df2['CAP_AS']>20000, 'CAP_AS'] = 20000\n",
    "train_df2.loc[train_df2['CAP_AS']<-100,'CAP_AS' ]=-382.5\n",
    "test_df2.loc[test_df2['CAP_AS']<-100,'CAP_AS' ]=-382.5\n",
    "#7 может быть nan в результате работы модели\n",
    "#train_df2['FIN_ST'] = (train_df2['ab_own_capital'] + train_df2['dolgosrochn_obyazat'])/train_df2['activy_vsego']\n",
    "#удалили во время отбора признаков"
   ]
  },
  {
   "cell_type": "code",
   "execution_count": 6830,
   "metadata": {},
   "outputs": [],
   "source": [
    "train_df2.drop(columns = ['record_id'], inplace = True)"
   ]
  },
  {
   "cell_type": "markdown",
   "metadata": {},
   "source": [
    "Разобьем датафрейм train_df2 на тестовую и валидационную часть"
   ]
  },
  {
   "cell_type": "code",
   "execution_count": 6831,
   "metadata": {},
   "outputs": [],
   "source": [
    "X_train2, X_test2, y_train2, y_test2 = train_test_split(train_df2.drop('default_12m',axis=1),\n",
    "                                                    train_df2['default_12m'],\n",
    "                                                    random_state=42, shuffle=True)"
   ]
  },
  {
   "cell_type": "code",
   "execution_count": 6832,
   "metadata": {},
   "outputs": [],
   "source": [
    "train_df2_train = X_train2\n",
    "train_df2_train['default_12m'] = y_train2"
   ]
  },
  {
   "cell_type": "markdown",
   "metadata": {},
   "source": [
    "Произведем рассчет woe, iv и разбиение на бины по всем признакам\n",
    " - оставлю только несколько графиков и таблиц для примера для того, что бы не загружать файл, остальные строила анлогично\n",
    " - таблицы в любой момент можно расскоментировать и посмотреть \n",
    " - графики можно построить по аналогии с другими признаками\n"
   ]
  },
  {
   "cell_type": "code",
   "execution_count": 6833,
   "metadata": {},
   "outputs": [
    {
     "data": {
      "text/html": [
       "<div>\n",
       "<style scoped>\n",
       "    .dataframe tbody tr th:only-of-type {\n",
       "        vertical-align: middle;\n",
       "    }\n",
       "\n",
       "    .dataframe tbody tr th {\n",
       "        vertical-align: top;\n",
       "    }\n",
       "\n",
       "    .dataframe thead th {\n",
       "        text-align: right;\n",
       "    }\n",
       "</style>\n",
       "<table border=\"1\" class=\"dataframe\">\n",
       "  <thead>\n",
       "    <tr style=\"text-align: right;\">\n",
       "      <th></th>\n",
       "      <th>total</th>\n",
       "      <th>good</th>\n",
       "      <th>bad</th>\n",
       "      <th>event_rate</th>\n",
       "      <th>non_event_rate</th>\n",
       "      <th>per_total_events</th>\n",
       "      <th>per_total_non_events</th>\n",
       "      <th>WOE</th>\n",
       "      <th>IV</th>\n",
       "    </tr>\n",
       "    <tr>\n",
       "      <th>values</th>\n",
       "      <th></th>\n",
       "      <th></th>\n",
       "      <th></th>\n",
       "      <th></th>\n",
       "      <th></th>\n",
       "      <th></th>\n",
       "      <th></th>\n",
       "      <th></th>\n",
       "      <th></th>\n",
       "    </tr>\n",
       "  </thead>\n",
       "  <tbody>\n",
       "    <tr>\n",
       "      <th>1</th>\n",
       "      <td>3357</td>\n",
       "      <td>242</td>\n",
       "      <td>3115</td>\n",
       "      <td>0.0720882</td>\n",
       "      <td>0.927912</td>\n",
       "      <td>0.418685</td>\n",
       "      <td>0.266171</td>\n",
       "      <td>0.452980</td>\n",
       "      <td>0.0690858</td>\n",
       "    </tr>\n",
       "    <tr>\n",
       "      <th>3</th>\n",
       "      <td>2200</td>\n",
       "      <td>79</td>\n",
       "      <td>2121</td>\n",
       "      <td>0.0359091</td>\n",
       "      <td>0.964091</td>\n",
       "      <td>0.136678</td>\n",
       "      <td>0.181236</td>\n",
       "      <td>-0.282168</td>\n",
       "      <td>0.0125727</td>\n",
       "    </tr>\n",
       "    <tr>\n",
       "      <th>2</th>\n",
       "      <td>6724</td>\n",
       "      <td>257</td>\n",
       "      <td>6467</td>\n",
       "      <td>0.0382213</td>\n",
       "      <td>0.961779</td>\n",
       "      <td>0.444637</td>\n",
       "      <td>0.552593</td>\n",
       "      <td>-0.217365</td>\n",
       "      <td>0.023466</td>\n",
       "    </tr>\n",
       "  </tbody>\n",
       "</table>\n",
       "</div>"
      ],
      "text/plain": [
       "       total good   bad event_rate non_event_rate per_total_events  \\\n",
       "values                                                               \n",
       "1       3357  242  3115  0.0720882       0.927912         0.418685   \n",
       "3       2200   79  2121  0.0359091       0.964091         0.136678   \n",
       "2       6724  257  6467  0.0382213       0.961779         0.444637   \n",
       "\n",
       "       per_total_non_events       WOE         IV  \n",
       "values                                            \n",
       "1                  0.266171  0.452980  0.0690858  \n",
       "3                  0.181236 -0.282168  0.0125727  \n",
       "2                  0.552593 -0.217365   0.023466  "
      ]
     },
     "execution_count": 6833,
     "metadata": {},
     "output_type": "execute_result"
    }
   ],
   "source": [
    "bins12 = [-np.inf, 0.1,0.9, 100000]\n",
    "labels12 = ['1', '2', '3']\n",
    "train_df2_train['CAP_AS_bin'] = pd.cut(train_df2_train['CAP_AS'], bins = bins12, labels = labels12)\n",
    "d12 =calc_woe_iv(train_df2_train, 'CAP_AS_bin')\n",
    "d12"
   ]
  },
  {
   "cell_type": "code",
   "execution_count": 6834,
   "metadata": {},
   "outputs": [
    {
     "data": {
      "text/plain": [
       "[<matplotlib.lines.Line2D at 0x162fbd3d0>]"
      ]
     },
     "execution_count": 6834,
     "metadata": {},
     "output_type": "execute_result"
    },
    {
     "data": {
      "image/png": "[encoded data removed]",
      "text/plain": [
       "<Figure size 432x288 with 1 Axes>"
      ]
     },
     "metadata": {},
     "output_type": "display_data"
    }
   ],
   "source": [
    "dict12 = {'1': 0.452980, '2': -0.217365, '3':-0.282168}\n",
    "plt.plot([1, 2, 3], [0.452980, -0.217365, -0.282168 ])"
   ]
  },
  {
   "cell_type": "code",
   "execution_count": 6835,
   "metadata": {},
   "outputs": [
    {
     "data": {
      "text/html": [
       "<div>\n",
       "<style scoped>\n",
       "    .dataframe tbody tr th:only-of-type {\n",
       "        vertical-align: middle;\n",
       "    }\n",
       "\n",
       "    .dataframe tbody tr th {\n",
       "        vertical-align: top;\n",
       "    }\n",
       "\n",
       "    .dataframe thead th {\n",
       "        text-align: right;\n",
       "    }\n",
       "</style>\n",
       "<table border=\"1\" class=\"dataframe\">\n",
       "  <thead>\n",
       "    <tr style=\"text-align: right;\">\n",
       "      <th></th>\n",
       "      <th>total</th>\n",
       "      <th>good</th>\n",
       "      <th>bad</th>\n",
       "      <th>event_rate</th>\n",
       "      <th>non_event_rate</th>\n",
       "      <th>per_total_events</th>\n",
       "      <th>per_total_non_events</th>\n",
       "      <th>WOE</th>\n",
       "      <th>IV</th>\n",
       "    </tr>\n",
       "    <tr>\n",
       "      <th>values</th>\n",
       "      <th></th>\n",
       "      <th></th>\n",
       "      <th></th>\n",
       "      <th></th>\n",
       "      <th></th>\n",
       "      <th></th>\n",
       "      <th></th>\n",
       "      <th></th>\n",
       "      <th></th>\n",
       "    </tr>\n",
       "  </thead>\n",
       "  <tbody>\n",
       "    <tr>\n",
       "      <th>3</th>\n",
       "      <td>9016</td>\n",
       "      <td>338</td>\n",
       "      <td>8678</td>\n",
       "      <td>0.0374889</td>\n",
       "      <td>0.962511</td>\n",
       "      <td>0.584775</td>\n",
       "      <td>0.741519</td>\n",
       "      <td>-0.237474</td>\n",
       "      <td>0.0372226</td>\n",
       "    </tr>\n",
       "    <tr>\n",
       "      <th>2</th>\n",
       "      <td>2464</td>\n",
       "      <td>160</td>\n",
       "      <td>2304</td>\n",
       "      <td>0.0649351</td>\n",
       "      <td>0.935065</td>\n",
       "      <td>0.276817</td>\n",
       "      <td>0.196873</td>\n",
       "      <td>0.340798</td>\n",
       "      <td>0.0272448</td>\n",
       "    </tr>\n",
       "    <tr>\n",
       "      <th>1</th>\n",
       "      <td>801</td>\n",
       "      <td>80</td>\n",
       "      <td>721</td>\n",
       "      <td>0.0998752</td>\n",
       "      <td>0.900125</td>\n",
       "      <td>0.138408</td>\n",
       "      <td>0.0616081</td>\n",
       "      <td>0.809414</td>\n",
       "      <td>0.0621631</td>\n",
       "    </tr>\n",
       "  </tbody>\n",
       "</table>\n",
       "</div>"
      ],
      "text/plain": [
       "       total good   bad event_rate non_event_rate per_total_events  \\\n",
       "values                                                               \n",
       "3       9016  338  8678  0.0374889       0.962511         0.584775   \n",
       "2       2464  160  2304  0.0649351       0.935065         0.276817   \n",
       "1        801   80   721  0.0998752       0.900125         0.138408   \n",
       "\n",
       "       per_total_non_events       WOE         IV  \n",
       "values                                            \n",
       "3                  0.741519 -0.237474  0.0372226  \n",
       "2                  0.196873  0.340798  0.0272448  \n",
       "1                 0.0616081  0.809414  0.0621631  "
      ]
     },
     "execution_count": 6835,
     "metadata": {},
     "output_type": "execute_result"
    }
   ],
   "source": [
    "bins15 = [-np.inf, 0, 0.01,np.inf] \n",
    "labels15 = [  '1', '2', '3']\n",
    "train_df2_train['LIQ_ABS_bin'] = pd.cut(train_df2_train['LIQ_ABS'], bins = bins15, labels = labels15)\n",
    "d15 =calc_woe_iv(train_df2_train, 'LIQ_ABS_bin')\n",
    "d15"
   ]
  },
  {
   "cell_type": "code",
   "execution_count": 6836,
   "metadata": {},
   "outputs": [
    {
     "data": {
      "text/plain": [
       "[<matplotlib.lines.Line2D at 0x15fe18af0>]"
      ]
     },
     "execution_count": 6836,
     "metadata": {},
     "output_type": "execute_result"
    },
    {
     "data": {
      "image/png": "[encoded data removed]",
      "text/plain": [
       "<Figure size 432x288 with 1 Axes>"
      ]
     },
     "metadata": {},
     "output_type": "display_data"
    }
   ],
   "source": [
    "dict15 = {'1': 0.809414, '2': 0.340798, '3': -0.237474}\n",
    "plt.plot([1, 2, 3], [0.809414,0.340798, -0.237474])"
   ]
  },
  {
   "cell_type": "code",
   "execution_count": 6837,
   "metadata": {},
   "outputs": [
    {
     "data": {
      "text/html": [
       "<div>\n",
       "<style scoped>\n",
       "    .dataframe tbody tr th:only-of-type {\n",
       "        vertical-align: middle;\n",
       "    }\n",
       "\n",
       "    .dataframe tbody tr th {\n",
       "        vertical-align: top;\n",
       "    }\n",
       "\n",
       "    .dataframe thead th {\n",
       "        text-align: right;\n",
       "    }\n",
       "</style>\n",
       "<table border=\"1\" class=\"dataframe\">\n",
       "  <thead>\n",
       "    <tr style=\"text-align: right;\">\n",
       "      <th></th>\n",
       "      <th>total</th>\n",
       "      <th>good</th>\n",
       "      <th>bad</th>\n",
       "      <th>event_rate</th>\n",
       "      <th>non_event_rate</th>\n",
       "      <th>per_total_events</th>\n",
       "      <th>per_total_non_events</th>\n",
       "      <th>WOE</th>\n",
       "      <th>IV</th>\n",
       "    </tr>\n",
       "    <tr>\n",
       "      <th>values</th>\n",
       "      <th></th>\n",
       "      <th></th>\n",
       "      <th></th>\n",
       "      <th></th>\n",
       "      <th></th>\n",
       "      <th></th>\n",
       "      <th></th>\n",
       "      <th></th>\n",
       "      <th></th>\n",
       "    </tr>\n",
       "  </thead>\n",
       "  <tbody>\n",
       "    <tr>\n",
       "      <th>3</th>\n",
       "      <td>11450</td>\n",
       "      <td>514</td>\n",
       "      <td>10936</td>\n",
       "      <td>0.0448908</td>\n",
       "      <td>0.955109</td>\n",
       "      <td>0.889273</td>\n",
       "      <td>0.934461</td>\n",
       "      <td>-0.049565</td>\n",
       "      <td>0.00223976</td>\n",
       "    </tr>\n",
       "    <tr>\n",
       "      <th>1</th>\n",
       "      <td>561</td>\n",
       "      <td>49</td>\n",
       "      <td>512</td>\n",
       "      <td>0.087344</td>\n",
       "      <td>0.912656</td>\n",
       "      <td>0.0847751</td>\n",
       "      <td>0.0437495</td>\n",
       "      <td>0.661522</td>\n",
       "      <td>0.0271394</td>\n",
       "    </tr>\n",
       "    <tr>\n",
       "      <th>2</th>\n",
       "      <td>270</td>\n",
       "      <td>15</td>\n",
       "      <td>255</td>\n",
       "      <td>0.0555556</td>\n",
       "      <td>0.944444</td>\n",
       "      <td>0.0259516</td>\n",
       "      <td>0.0217893</td>\n",
       "      <td>0.174813</td>\n",
       "      <td>0.00072762</td>\n",
       "    </tr>\n",
       "  </tbody>\n",
       "</table>\n",
       "</div>"
      ],
      "text/plain": [
       "        total good    bad event_rate non_event_rate per_total_events  \\\n",
       "values                                                                 \n",
       "3       11450  514  10936  0.0448908       0.955109         0.889273   \n",
       "1         561   49    512   0.087344       0.912656        0.0847751   \n",
       "2         270   15    255  0.0555556       0.944444        0.0259516   \n",
       "\n",
       "       per_total_non_events       WOE          IV  \n",
       "values                                             \n",
       "3                  0.934461 -0.049565  0.00223976  \n",
       "1                 0.0437495  0.661522   0.0271394  \n",
       "2                 0.0217893  0.174813  0.00072762  "
      ]
     },
     "execution_count": 6837,
     "metadata": {},
     "output_type": "execute_result"
    }
   ],
   "source": [
    "bins16 = [-np.inf, 0.02, 0.045, np.inf]\n",
    "labels16 = [ '1', '2', '3']\n",
    "train_df2_train['LIQ_QUIK_bin'] = pd.cut(train_df2_train['LIQ_QUIK'], bins = bins16, labels = labels16)\n",
    "d16 =calc_woe_iv(train_df2_train, 'LIQ_QUIK_bin')\n",
    "d16"
   ]
  },
  {
   "cell_type": "code",
   "execution_count": 6838,
   "metadata": {},
   "outputs": [],
   "source": [
    "dict16 = {'1': 0.661522, '2': 0.174813, '3': -0.049565}\n",
    "#plt.plot([1, 2, 3], [0.661522,0.174813, -0.049565 ])"
   ]
  },
  {
   "cell_type": "code",
   "execution_count": 6839,
   "metadata": {},
   "outputs": [
    {
     "data": {
      "text/html": [
       "<div>\n",
       "<style scoped>\n",
       "    .dataframe tbody tr th:only-of-type {\n",
       "        vertical-align: middle;\n",
       "    }\n",
       "\n",
       "    .dataframe tbody tr th {\n",
       "        vertical-align: top;\n",
       "    }\n",
       "\n",
       "    .dataframe thead th {\n",
       "        text-align: right;\n",
       "    }\n",
       "</style>\n",
       "<table border=\"1\" class=\"dataframe\">\n",
       "  <thead>\n",
       "    <tr style=\"text-align: right;\">\n",
       "      <th></th>\n",
       "      <th>total</th>\n",
       "      <th>good</th>\n",
       "      <th>bad</th>\n",
       "      <th>event_rate</th>\n",
       "      <th>non_event_rate</th>\n",
       "      <th>per_total_events</th>\n",
       "      <th>per_total_non_events</th>\n",
       "      <th>WOE</th>\n",
       "      <th>IV</th>\n",
       "    </tr>\n",
       "    <tr>\n",
       "      <th>values</th>\n",
       "      <th></th>\n",
       "      <th></th>\n",
       "      <th></th>\n",
       "      <th></th>\n",
       "      <th></th>\n",
       "      <th></th>\n",
       "      <th></th>\n",
       "      <th></th>\n",
       "      <th></th>\n",
       "    </tr>\n",
       "  </thead>\n",
       "  <tbody>\n",
       "    <tr>\n",
       "      <th>1</th>\n",
       "      <td>4494</td>\n",
       "      <td>256</td>\n",
       "      <td>4238</td>\n",
       "      <td>0.0569648</td>\n",
       "      <td>0.943035</td>\n",
       "      <td>0.442907</td>\n",
       "      <td>0.362129</td>\n",
       "      <td>0.201357</td>\n",
       "      <td>0.0162651</td>\n",
       "    </tr>\n",
       "    <tr>\n",
       "      <th>2</th>\n",
       "      <td>7787</td>\n",
       "      <td>322</td>\n",
       "      <td>7465</td>\n",
       "      <td>0.041351</td>\n",
       "      <td>0.958649</td>\n",
       "      <td>0.557093</td>\n",
       "      <td>0.637871</td>\n",
       "      <td>-0.135403</td>\n",
       "      <td>0.0109374</td>\n",
       "    </tr>\n",
       "  </tbody>\n",
       "</table>\n",
       "</div>"
      ],
      "text/plain": [
       "       total good   bad event_rate non_event_rate per_total_events  \\\n",
       "values                                                               \n",
       "1       4494  256  4238  0.0569648       0.943035         0.442907   \n",
       "2       7787  322  7465   0.041351       0.958649         0.557093   \n",
       "\n",
       "       per_total_non_events       WOE         IV  \n",
       "values                                            \n",
       "1                  0.362129  0.201357  0.0162651  \n",
       "2                  0.637871 -0.135403  0.0109374  "
      ]
     },
     "execution_count": 6839,
     "metadata": {},
     "output_type": "execute_result"
    }
   ],
   "source": [
    "bins18 = [-np.inf,1.2, np.inf]\n",
    "labels18 = [ '1', '2']\n",
    "train_df2_train['coeff_likv_bin'] = pd.cut(train_df2_train['coeff_likv'], bins = bins18, labels = labels18)\n",
    "d18 =calc_woe_iv(train_df2_train, 'coeff_likv_bin')\n",
    "d18"
   ]
  },
  {
   "cell_type": "code",
   "execution_count": 6840,
   "metadata": {},
   "outputs": [],
   "source": [
    "dict18 = {'1': 0.201357, '2': -0.135403 }"
   ]
  },
  {
   "cell_type": "code",
   "execution_count": 6841,
   "metadata": {},
   "outputs": [
    {
     "data": {
      "text/plain": [
       "<AxesSubplot:>"
      ]
     },
     "execution_count": 6841,
     "metadata": {},
     "output_type": "execute_result"
    },
    {
     "data": {
      "image/png": "[encoded data removed]",
      "text/plain": [
       "<Figure size 432x288 with 1 Axes>"
      ]
     },
     "metadata": {},
     "output_type": "display_data"
    }
   ],
   "source": [
    "train_df2_train[train_df2_train['default_12m']==0]['ar_revenue'].hist(bins = 20)\n",
    "train_df2_train[train_df2_train['default_12m']==1]['ar_revenue'].hist(bins = 20)"
   ]
  },
  {
   "cell_type": "code",
   "execution_count": 6842,
   "metadata": {},
   "outputs": [
    {
     "data": {
      "text/html": [
       "<div>\n",
       "<style scoped>\n",
       "    .dataframe tbody tr th:only-of-type {\n",
       "        vertical-align: middle;\n",
       "    }\n",
       "\n",
       "    .dataframe tbody tr th {\n",
       "        vertical-align: top;\n",
       "    }\n",
       "\n",
       "    .dataframe thead th {\n",
       "        text-align: right;\n",
       "    }\n",
       "</style>\n",
       "<table border=\"1\" class=\"dataframe\">\n",
       "  <thead>\n",
       "    <tr style=\"text-align: right;\">\n",
       "      <th></th>\n",
       "      <th>total</th>\n",
       "      <th>good</th>\n",
       "      <th>bad</th>\n",
       "      <th>event_rate</th>\n",
       "      <th>non_event_rate</th>\n",
       "      <th>per_total_events</th>\n",
       "      <th>per_total_non_events</th>\n",
       "      <th>WOE</th>\n",
       "      <th>IV</th>\n",
       "    </tr>\n",
       "    <tr>\n",
       "      <th>values</th>\n",
       "      <th></th>\n",
       "      <th></th>\n",
       "      <th></th>\n",
       "      <th></th>\n",
       "      <th></th>\n",
       "      <th></th>\n",
       "      <th></th>\n",
       "      <th></th>\n",
       "      <th></th>\n",
       "    </tr>\n",
       "  </thead>\n",
       "  <tbody>\n",
       "    <tr>\n",
       "      <th>2</th>\n",
       "      <td>10446</td>\n",
       "      <td>412</td>\n",
       "      <td>10034</td>\n",
       "      <td>0.0394409</td>\n",
       "      <td>0.960559</td>\n",
       "      <td>0.712803</td>\n",
       "      <td>0.857387</td>\n",
       "      <td>-0.184685</td>\n",
       "      <td>0.0267025</td>\n",
       "    </tr>\n",
       "    <tr>\n",
       "      <th>1</th>\n",
       "      <td>1565</td>\n",
       "      <td>165</td>\n",
       "      <td>1400</td>\n",
       "      <td>0.105431</td>\n",
       "      <td>0.894569</td>\n",
       "      <td>0.285467</td>\n",
       "      <td>0.119627</td>\n",
       "      <td>0.869745</td>\n",
       "      <td>0.144238</td>\n",
       "    </tr>\n",
       "    <tr>\n",
       "      <th>3</th>\n",
       "      <td>270</td>\n",
       "      <td>1</td>\n",
       "      <td>269</td>\n",
       "      <td>0.0037037</td>\n",
       "      <td>0.996296</td>\n",
       "      <td>0.0017301</td>\n",
       "      <td>0.0229856</td>\n",
       "      <td>-2.586685</td>\n",
       "      <td>0.0549812</td>\n",
       "    </tr>\n",
       "  </tbody>\n",
       "</table>\n",
       "</div>"
      ],
      "text/plain": [
       "        total good    bad event_rate non_event_rate per_total_events  \\\n",
       "values                                                                 \n",
       "2       10446  412  10034  0.0394409       0.960559         0.712803   \n",
       "1        1565  165   1400   0.105431       0.894569         0.285467   \n",
       "3         270    1    269  0.0037037       0.996296        0.0017301   \n",
       "\n",
       "       per_total_non_events       WOE         IV  \n",
       "values                                            \n",
       "2                  0.857387 -0.184685  0.0267025  \n",
       "1                  0.119627  0.869745   0.144238  \n",
       "3                 0.0229856 -2.586685  0.0549812  "
      ]
     },
     "execution_count": 6842,
     "metadata": {},
     "output_type": "execute_result"
    }
   ],
   "source": [
    "bins20 = [-np.inf,3600000, 510000000, np.inf]\n",
    "labels20 = ['1', '2', '3']\n",
    "train_df2_train['ar_revenue_bin'] = pd.cut(train_df2_train['ar_revenue'], bins = bins20, labels = labels20)\n",
    "d20 =calc_woe_iv(train_df2_train, 'ar_revenue_bin')\n",
    "d20"
   ]
  },
  {
   "cell_type": "code",
   "execution_count": 6843,
   "metadata": {},
   "outputs": [],
   "source": [
    "dict20 = {'1': 0.869745, '2': -0.184685, '3': -2.586685 }\n",
    "#plt.plot([1, 2, 3], [0.869745, -0.184685, -2.586685 ])"
   ]
  },
  {
   "cell_type": "code",
   "execution_count": 6844,
   "metadata": {},
   "outputs": [
    {
     "data": {
      "text/html": [
       "<div>\n",
       "<style scoped>\n",
       "    .dataframe tbody tr th:only-of-type {\n",
       "        vertical-align: middle;\n",
       "    }\n",
       "\n",
       "    .dataframe tbody tr th {\n",
       "        vertical-align: top;\n",
       "    }\n",
       "\n",
       "    .dataframe thead th {\n",
       "        text-align: right;\n",
       "    }\n",
       "</style>\n",
       "<table border=\"1\" class=\"dataframe\">\n",
       "  <thead>\n",
       "    <tr style=\"text-align: right;\">\n",
       "      <th></th>\n",
       "      <th>total</th>\n",
       "      <th>good</th>\n",
       "      <th>bad</th>\n",
       "      <th>event_rate</th>\n",
       "      <th>non_event_rate</th>\n",
       "      <th>per_total_events</th>\n",
       "      <th>per_total_non_events</th>\n",
       "      <th>WOE</th>\n",
       "      <th>IV</th>\n",
       "    </tr>\n",
       "    <tr>\n",
       "      <th>values</th>\n",
       "      <th></th>\n",
       "      <th></th>\n",
       "      <th></th>\n",
       "      <th></th>\n",
       "      <th></th>\n",
       "      <th></th>\n",
       "      <th></th>\n",
       "      <th></th>\n",
       "      <th></th>\n",
       "    </tr>\n",
       "  </thead>\n",
       "  <tbody>\n",
       "    <tr>\n",
       "      <th>1</th>\n",
       "      <td>10387</td>\n",
       "      <td>504</td>\n",
       "      <td>9883</td>\n",
       "      <td>0.0485222</td>\n",
       "      <td>0.951478</td>\n",
       "      <td>0.871972</td>\n",
       "      <td>0.844484</td>\n",
       "      <td>0.032032</td>\n",
       "      <td>0.000880482</td>\n",
       "    </tr>\n",
       "    <tr>\n",
       "      <th>2</th>\n",
       "      <td>1686</td>\n",
       "      <td>72</td>\n",
       "      <td>1614</td>\n",
       "      <td>0.0427046</td>\n",
       "      <td>0.957295</td>\n",
       "      <td>0.124567</td>\n",
       "      <td>0.137913</td>\n",
       "      <td>-0.101778</td>\n",
       "      <td>0.00135832</td>\n",
       "    </tr>\n",
       "    <tr>\n",
       "      <th>3</th>\n",
       "      <td>208</td>\n",
       "      <td>2</td>\n",
       "      <td>206</td>\n",
       "      <td>0.00961538</td>\n",
       "      <td>0.990385</td>\n",
       "      <td>0.00346021</td>\n",
       "      <td>0.0176023</td>\n",
       "      <td>-1.626702</td>\n",
       "      <td>0.023005</td>\n",
       "    </tr>\n",
       "  </tbody>\n",
       "</table>\n",
       "</div>"
      ],
      "text/plain": [
       "        total good   bad  event_rate non_event_rate per_total_events  \\\n",
       "values                                                                 \n",
       "1       10387  504  9883   0.0485222       0.951478         0.871972   \n",
       "2        1686   72  1614   0.0427046       0.957295         0.124567   \n",
       "3         208    2   206  0.00961538       0.990385       0.00346021   \n",
       "\n",
       "       per_total_non_events       WOE           IV  \n",
       "values                                              \n",
       "1                  0.844484  0.032032  0.000880482  \n",
       "2                  0.137913 -0.101778   0.00135832  \n",
       "3                 0.0176023 -1.626702     0.023005  "
      ]
     },
     "execution_count": 6844,
     "metadata": {},
     "output_type": "execute_result"
    }
   ],
   "source": [
    "bins23 = [-np.inf,0, 42000000,np.inf]# \n",
    "labels23 = ['1', '2', '3']\n",
    "train_df2_train['ar_selling_expenses_bin'] = pd.cut(train_df2_train['ar_selling_expenses'], bins = bins23, labels = labels23)\n",
    "d23 =calc_woe_iv(train_df2_train, 'ar_selling_expenses_bin')\n",
    "d23"
   ]
  },
  {
   "cell_type": "code",
   "execution_count": 6845,
   "metadata": {},
   "outputs": [],
   "source": [
    "dict23 = {'1': 0.032032, '2':  -0.101778, '3':-1.626702 }\n",
    "#plt.plot([1, 2, 3], [0.032032, -0.101778, -1.626702])"
   ]
  },
  {
   "cell_type": "code",
   "execution_count": 6846,
   "metadata": {},
   "outputs": [
    {
     "data": {
      "text/html": [
       "<div>\n",
       "<style scoped>\n",
       "    .dataframe tbody tr th:only-of-type {\n",
       "        vertical-align: middle;\n",
       "    }\n",
       "\n",
       "    .dataframe tbody tr th {\n",
       "        vertical-align: top;\n",
       "    }\n",
       "\n",
       "    .dataframe thead th {\n",
       "        text-align: right;\n",
       "    }\n",
       "</style>\n",
       "<table border=\"1\" class=\"dataframe\">\n",
       "  <thead>\n",
       "    <tr style=\"text-align: right;\">\n",
       "      <th></th>\n",
       "      <th>total</th>\n",
       "      <th>good</th>\n",
       "      <th>bad</th>\n",
       "      <th>event_rate</th>\n",
       "      <th>non_event_rate</th>\n",
       "      <th>per_total_events</th>\n",
       "      <th>per_total_non_events</th>\n",
       "      <th>WOE</th>\n",
       "      <th>IV</th>\n",
       "    </tr>\n",
       "    <tr>\n",
       "      <th>values</th>\n",
       "      <th></th>\n",
       "      <th></th>\n",
       "      <th></th>\n",
       "      <th></th>\n",
       "      <th></th>\n",
       "      <th></th>\n",
       "      <th></th>\n",
       "      <th></th>\n",
       "      <th></th>\n",
       "    </tr>\n",
       "  </thead>\n",
       "  <tbody>\n",
       "    <tr>\n",
       "      <th>2</th>\n",
       "      <td>4072</td>\n",
       "      <td>247</td>\n",
       "      <td>3825</td>\n",
       "      <td>0.0606582</td>\n",
       "      <td>0.939342</td>\n",
       "      <td>0.427336</td>\n",
       "      <td>0.326839</td>\n",
       "      <td>0.268101</td>\n",
       "      <td>0.0269432</td>\n",
       "    </tr>\n",
       "    <tr>\n",
       "      <th>3</th>\n",
       "      <td>5907</td>\n",
       "      <td>154</td>\n",
       "      <td>5753</td>\n",
       "      <td>0.0260708</td>\n",
       "      <td>0.973929</td>\n",
       "      <td>0.266436</td>\n",
       "      <td>0.491583</td>\n",
       "      <td>-0.612498</td>\n",
       "      <td>0.137902</td>\n",
       "    </tr>\n",
       "    <tr>\n",
       "      <th>1</th>\n",
       "      <td>2302</td>\n",
       "      <td>177</td>\n",
       "      <td>2125</td>\n",
       "      <td>0.0768897</td>\n",
       "      <td>0.92311</td>\n",
       "      <td>0.306228</td>\n",
       "      <td>0.181577</td>\n",
       "      <td>0.522649</td>\n",
       "      <td>0.0651488</td>\n",
       "    </tr>\n",
       "  </tbody>\n",
       "</table>\n",
       "</div>"
      ],
      "text/plain": [
       "       total good   bad event_rate non_event_rate per_total_events  \\\n",
       "values                                                               \n",
       "2       4072  247  3825  0.0606582       0.939342         0.427336   \n",
       "3       5907  154  5753  0.0260708       0.973929         0.266436   \n",
       "1       2302  177  2125  0.0768897        0.92311         0.306228   \n",
       "\n",
       "       per_total_non_events       WOE         IV  \n",
       "values                                            \n",
       "2                  0.326839  0.268101  0.0269432  \n",
       "3                  0.491583 -0.612498   0.137902  \n",
       "1                  0.181577  0.522649  0.0651488  "
      ]
     },
     "execution_count": 6846,
     "metadata": {},
     "output_type": "execute_result"
    }
   ],
   "source": [
    "bins27 = [-np.inf, 60000,900000, np.inf]\n",
    "labels27 = ['1', '2', '3']\n",
    "train_df2_train['ar_profit_before_tax_bin'] = pd.cut(train_df2_train['ar_profit_before_tax'], bins = bins27, labels = labels27)\n",
    "d27 =calc_woe_iv(train_df2_train, 'ar_profit_before_tax_bin')\n",
    "d27"
   ]
  },
  {
   "cell_type": "code",
   "execution_count": 6847,
   "metadata": {},
   "outputs": [],
   "source": [
    "dict27 = {'1': 0.522649, '2': 0.268101 , '3': -0.612498 }\n",
    "#plt.plot([1, 2, 3], [0.522649, 0.268101, -0.612498])"
   ]
  },
  {
   "cell_type": "code",
   "execution_count": 6848,
   "metadata": {},
   "outputs": [
    {
     "data": {
      "text/html": [
       "<div>\n",
       "<style scoped>\n",
       "    .dataframe tbody tr th:only-of-type {\n",
       "        vertical-align: middle;\n",
       "    }\n",
       "\n",
       "    .dataframe tbody tr th {\n",
       "        vertical-align: top;\n",
       "    }\n",
       "\n",
       "    .dataframe thead th {\n",
       "        text-align: right;\n",
       "    }\n",
       "</style>\n",
       "<table border=\"1\" class=\"dataframe\">\n",
       "  <thead>\n",
       "    <tr style=\"text-align: right;\">\n",
       "      <th></th>\n",
       "      <th>total</th>\n",
       "      <th>good</th>\n",
       "      <th>bad</th>\n",
       "      <th>event_rate</th>\n",
       "      <th>non_event_rate</th>\n",
       "      <th>per_total_events</th>\n",
       "      <th>per_total_non_events</th>\n",
       "      <th>WOE</th>\n",
       "      <th>IV</th>\n",
       "    </tr>\n",
       "    <tr>\n",
       "      <th>values</th>\n",
       "      <th></th>\n",
       "      <th></th>\n",
       "      <th></th>\n",
       "      <th></th>\n",
       "      <th></th>\n",
       "      <th></th>\n",
       "      <th></th>\n",
       "      <th></th>\n",
       "      <th></th>\n",
       "    </tr>\n",
       "  </thead>\n",
       "  <tbody>\n",
       "    <tr>\n",
       "      <th>2</th>\n",
       "      <td>3860</td>\n",
       "      <td>160</td>\n",
       "      <td>3700</td>\n",
       "      <td>0.0414508</td>\n",
       "      <td>0.958549</td>\n",
       "      <td>0.276817</td>\n",
       "      <td>0.316158</td>\n",
       "      <td>-0.132888</td>\n",
       "      <td>0.00522802</td>\n",
       "    </tr>\n",
       "    <tr>\n",
       "      <th>1</th>\n",
       "      <td>6879</td>\n",
       "      <td>403</td>\n",
       "      <td>6476</td>\n",
       "      <td>0.0585841</td>\n",
       "      <td>0.941416</td>\n",
       "      <td>0.697232</td>\n",
       "      <td>0.553362</td>\n",
       "      <td>0.231105</td>\n",
       "      <td>0.0332489</td>\n",
       "    </tr>\n",
       "    <tr>\n",
       "      <th>3</th>\n",
       "      <td>1542</td>\n",
       "      <td>15</td>\n",
       "      <td>1527</td>\n",
       "      <td>0.00972763</td>\n",
       "      <td>0.990272</td>\n",
       "      <td>0.0259516</td>\n",
       "      <td>0.130479</td>\n",
       "      <td>-1.614983</td>\n",
       "      <td>0.168811</td>\n",
       "    </tr>\n",
       "  </tbody>\n",
       "</table>\n",
       "</div>"
      ],
      "text/plain": [
       "       total good   bad  event_rate non_event_rate per_total_events  \\\n",
       "values                                                                \n",
       "2       3860  160  3700   0.0414508       0.958549         0.276817   \n",
       "1       6879  403  6476   0.0585841       0.941416         0.697232   \n",
       "3       1542   15  1527  0.00972763       0.990272        0.0259516   \n",
       "\n",
       "       per_total_non_events       WOE          IV  \n",
       "values                                             \n",
       "2                  0.316158 -0.132888  0.00522802  \n",
       "1                  0.553362  0.231105   0.0332489  \n",
       "3                  0.130479 -1.614983    0.168811  "
      ]
     },
     "execution_count": 6848,
     "metadata": {},
     "output_type": "execute_result"
    }
   ],
   "source": [
    "bins28 = [-np.inf,70000, 750000, np.inf]\n",
    "labels28 = ['1', '2', '3']\n",
    "train_df2_train['ar_taxes_bin'] = pd.cut(train_df2_train['ar_taxes'], bins = bins28, labels = labels28)\n",
    "d28 =calc_woe_iv(train_df2_train, 'ar_taxes_bin')\n",
    "d28"
   ]
  },
  {
   "cell_type": "code",
   "execution_count": 6849,
   "metadata": {},
   "outputs": [],
   "source": [
    "dict28 = {'1': 0.231105, '2':-0.132888 , '3': -1.614983 }\n",
    "#plt.plot([1, 2, 3], [0.231105,-0.132888,-1.614983])"
   ]
  },
  {
   "cell_type": "code",
   "execution_count": 6850,
   "metadata": {},
   "outputs": [
    {
     "data": {
      "text/plain": [
       "<AxesSubplot:>"
      ]
     },
     "execution_count": 6850,
     "metadata": {},
     "output_type": "execute_result"
    },
    {
     "data": {
      "image/png": "[encoded data removed]",
      "text/plain": [
       "<Figure size 432x288 with 1 Axes>"
      ]
     },
     "metadata": {},
     "output_type": "display_data"
    }
   ],
   "source": [
    "train_df2_train[train_df2_train['default_12m']==0]['bus_age'].hist(bins = 5)\n",
    "train_df2_train[train_df2_train['default_12m']==1]['bus_age'].hist(bins = 5)"
   ]
  },
  {
   "cell_type": "code",
   "execution_count": 6851,
   "metadata": {},
   "outputs": [
    {
     "data": {
      "text/html": [
       "<div>\n",
       "<style scoped>\n",
       "    .dataframe tbody tr th:only-of-type {\n",
       "        vertical-align: middle;\n",
       "    }\n",
       "\n",
       "    .dataframe tbody tr th {\n",
       "        vertical-align: top;\n",
       "    }\n",
       "\n",
       "    .dataframe thead th {\n",
       "        text-align: right;\n",
       "    }\n",
       "</style>\n",
       "<table border=\"1\" class=\"dataframe\">\n",
       "  <thead>\n",
       "    <tr style=\"text-align: right;\">\n",
       "      <th></th>\n",
       "      <th>total</th>\n",
       "      <th>good</th>\n",
       "      <th>bad</th>\n",
       "      <th>event_rate</th>\n",
       "      <th>non_event_rate</th>\n",
       "      <th>per_total_events</th>\n",
       "      <th>per_total_non_events</th>\n",
       "      <th>WOE</th>\n",
       "      <th>IV</th>\n",
       "    </tr>\n",
       "    <tr>\n",
       "      <th>values</th>\n",
       "      <th></th>\n",
       "      <th></th>\n",
       "      <th></th>\n",
       "      <th></th>\n",
       "      <th></th>\n",
       "      <th></th>\n",
       "      <th></th>\n",
       "      <th></th>\n",
       "      <th></th>\n",
       "    </tr>\n",
       "  </thead>\n",
       "  <tbody>\n",
       "    <tr>\n",
       "      <th>2</th>\n",
       "      <td>6582</td>\n",
       "      <td>266</td>\n",
       "      <td>6316</td>\n",
       "      <td>0.0404132</td>\n",
       "      <td>0.959587</td>\n",
       "      <td>0.460208</td>\n",
       "      <td>0.539691</td>\n",
       "      <td>-0.159318</td>\n",
       "      <td>0.0126631</td>\n",
       "    </tr>\n",
       "    <tr>\n",
       "      <th>1</th>\n",
       "      <td>3433</td>\n",
       "      <td>268</td>\n",
       "      <td>3165</td>\n",
       "      <td>0.0780658</td>\n",
       "      <td>0.921934</td>\n",
       "      <td>0.463668</td>\n",
       "      <td>0.270443</td>\n",
       "      <td>0.539105</td>\n",
       "      <td>0.104168</td>\n",
       "    </tr>\n",
       "    <tr>\n",
       "      <th>3</th>\n",
       "      <td>2266</td>\n",
       "      <td>44</td>\n",
       "      <td>2222</td>\n",
       "      <td>0.0194175</td>\n",
       "      <td>0.980583</td>\n",
       "      <td>0.0761246</td>\n",
       "      <td>0.189866</td>\n",
       "      <td>-0.913947</td>\n",
       "      <td>0.103953</td>\n",
       "    </tr>\n",
       "  </tbody>\n",
       "</table>\n",
       "</div>"
      ],
      "text/plain": [
       "       total good   bad event_rate non_event_rate per_total_events  \\\n",
       "values                                                               \n",
       "2       6582  266  6316  0.0404132       0.959587         0.460208   \n",
       "1       3433  268  3165  0.0780658       0.921934         0.463668   \n",
       "3       2266   44  2222  0.0194175       0.980583        0.0761246   \n",
       "\n",
       "       per_total_non_events       WOE         IV  \n",
       "values                                            \n",
       "2                  0.539691 -0.159318  0.0126631  \n",
       "1                  0.270443  0.539105   0.104168  \n",
       "3                  0.189866 -0.913947   0.103953  "
      ]
     },
     "execution_count": 6851,
     "metadata": {},
     "output_type": "execute_result"
    }
   ],
   "source": [
    "bins44 = [-np.inf, 57, 200, np.inf]\n",
    "labels44 = ['1', '2', '3']\n",
    "train_df2_train['bus_age_bin'] = pd.cut(train_df2_train['bus_age'], bins = bins44, labels = labels44)\n",
    "d44 =calc_woe_iv(train_df2_train, 'bus_age_bin')\n",
    "d44"
   ]
  },
  {
   "cell_type": "code",
   "execution_count": 6852,
   "metadata": {},
   "outputs": [],
   "source": [
    "dict44 = {'1':0.539105, '2':-0.159318, '3':-0.913947}\n",
    "#plt.plot([1, 2, 3], [0.539105, -0.159318,-0.913947])"
   ]
  },
  {
   "cell_type": "code",
   "execution_count": 6853,
   "metadata": {},
   "outputs": [
    {
     "data": {
      "text/html": [
       "<div>\n",
       "<style scoped>\n",
       "    .dataframe tbody tr th:only-of-type {\n",
       "        vertical-align: middle;\n",
       "    }\n",
       "\n",
       "    .dataframe tbody tr th {\n",
       "        vertical-align: top;\n",
       "    }\n",
       "\n",
       "    .dataframe thead th {\n",
       "        text-align: right;\n",
       "    }\n",
       "</style>\n",
       "<table border=\"1\" class=\"dataframe\">\n",
       "  <thead>\n",
       "    <tr style=\"text-align: right;\">\n",
       "      <th></th>\n",
       "      <th>total</th>\n",
       "      <th>good</th>\n",
       "      <th>bad</th>\n",
       "      <th>event_rate</th>\n",
       "      <th>non_event_rate</th>\n",
       "      <th>per_total_events</th>\n",
       "      <th>per_total_non_events</th>\n",
       "      <th>WOE</th>\n",
       "      <th>IV</th>\n",
       "    </tr>\n",
       "    <tr>\n",
       "      <th>values</th>\n",
       "      <th></th>\n",
       "      <th></th>\n",
       "      <th></th>\n",
       "      <th></th>\n",
       "      <th></th>\n",
       "      <th></th>\n",
       "      <th></th>\n",
       "      <th></th>\n",
       "      <th></th>\n",
       "    </tr>\n",
       "  </thead>\n",
       "  <tbody>\n",
       "    <tr>\n",
       "      <th>2</th>\n",
       "      <td>6084</td>\n",
       "      <td>261</td>\n",
       "      <td>5823</td>\n",
       "      <td>0.0428994</td>\n",
       "      <td>0.957101</td>\n",
       "      <td>0.451557</td>\n",
       "      <td>0.497565</td>\n",
       "      <td>-0.097024</td>\n",
       "      <td>0.00446384</td>\n",
       "    </tr>\n",
       "    <tr>\n",
       "      <th>1</th>\n",
       "      <td>6197</td>\n",
       "      <td>317</td>\n",
       "      <td>5880</td>\n",
       "      <td>0.0511538</td>\n",
       "      <td>0.948846</td>\n",
       "      <td>0.548443</td>\n",
       "      <td>0.502435</td>\n",
       "      <td>0.087616</td>\n",
       "      <td>0.00403102</td>\n",
       "    </tr>\n",
       "  </tbody>\n",
       "</table>\n",
       "</div>"
      ],
      "text/plain": [
       "       total good   bad event_rate non_event_rate per_total_events  \\\n",
       "values                                                               \n",
       "2       6084  261  5823  0.0428994       0.957101         0.451557   \n",
       "1       6197  317  5880  0.0511538       0.948846         0.548443   \n",
       "\n",
       "       per_total_non_events       WOE          IV  \n",
       "values                                             \n",
       "2                  0.497565 -0.097024  0.00446384  \n",
       "1                  0.502435  0.087616  0.00403102  "
      ]
     },
     "execution_count": 6853,
     "metadata": {},
     "output_type": "execute_result"
    }
   ],
   "source": [
    "bins46 = [-np.inf,15, np.inf]\n",
    "labels46 = ['1', '2']\n",
    "train_df2_train['head_actual_age_bin'] = pd.cut(train_df2_train['head_actual_age'], bins = bins46, labels = labels46)\n",
    "d46 =calc_woe_iv(train_df2_train, 'head_actual_age_bin')\n",
    "d46"
   ]
  },
  {
   "cell_type": "code",
   "execution_count": 6854,
   "metadata": {},
   "outputs": [],
   "source": [
    "dict46 = {'1': 0.087616, '2':-0.097024}"
   ]
  },
  {
   "cell_type": "code",
   "execution_count": 6855,
   "metadata": {},
   "outputs": [],
   "source": [
    "bins48 = [-np.inf,21000, np.inf]\n",
    "labels48 = ['1', '2']\n",
    "train_df2_train['ul_capital_sum_bin'] = pd.cut(train_df2_train['ul_capital_sum'], bins = bins48, labels = labels48)\n",
    "d48 =calc_woe_iv(train_df2_train, 'ul_capital_sum_bin')\n",
    "#d48"
   ]
  },
  {
   "cell_type": "code",
   "execution_count": 6856,
   "metadata": {},
   "outputs": [],
   "source": [
    "dict48 = {'1': 0.110026, '2':-0.260274}"
   ]
  },
  {
   "cell_type": "code",
   "execution_count": 6857,
   "metadata": {},
   "outputs": [
    {
     "data": {
      "text/html": [
       "<div>\n",
       "<style scoped>\n",
       "    .dataframe tbody tr th:only-of-type {\n",
       "        vertical-align: middle;\n",
       "    }\n",
       "\n",
       "    .dataframe tbody tr th {\n",
       "        vertical-align: top;\n",
       "    }\n",
       "\n",
       "    .dataframe thead th {\n",
       "        text-align: right;\n",
       "    }\n",
       "</style>\n",
       "<table border=\"1\" class=\"dataframe\">\n",
       "  <thead>\n",
       "    <tr style=\"text-align: right;\">\n",
       "      <th></th>\n",
       "      <th>total</th>\n",
       "      <th>good</th>\n",
       "      <th>bad</th>\n",
       "      <th>event_rate</th>\n",
       "      <th>non_event_rate</th>\n",
       "      <th>per_total_events</th>\n",
       "      <th>per_total_non_events</th>\n",
       "      <th>WOE</th>\n",
       "      <th>IV</th>\n",
       "    </tr>\n",
       "    <tr>\n",
       "      <th>values</th>\n",
       "      <th></th>\n",
       "      <th></th>\n",
       "      <th></th>\n",
       "      <th></th>\n",
       "      <th></th>\n",
       "      <th></th>\n",
       "      <th></th>\n",
       "      <th></th>\n",
       "      <th></th>\n",
       "    </tr>\n",
       "  </thead>\n",
       "  <tbody>\n",
       "    <tr>\n",
       "      <th>2</th>\n",
       "      <td>4830</td>\n",
       "      <td>172</td>\n",
       "      <td>4658</td>\n",
       "      <td>0.0356108</td>\n",
       "      <td>0.964389</td>\n",
       "      <td>0.297578</td>\n",
       "      <td>0.398018</td>\n",
       "      <td>-0.290820</td>\n",
       "      <td>0.0292099</td>\n",
       "    </tr>\n",
       "    <tr>\n",
       "      <th>1</th>\n",
       "      <td>6821</td>\n",
       "      <td>394</td>\n",
       "      <td>6427</td>\n",
       "      <td>0.0577628</td>\n",
       "      <td>0.942237</td>\n",
       "      <td>0.681661</td>\n",
       "      <td>0.549175</td>\n",
       "      <td>0.216114</td>\n",
       "      <td>0.028632</td>\n",
       "    </tr>\n",
       "    <tr>\n",
       "      <th>3</th>\n",
       "      <td>630</td>\n",
       "      <td>12</td>\n",
       "      <td>618</td>\n",
       "      <td>0.0190476</td>\n",
       "      <td>0.980952</td>\n",
       "      <td>0.0207612</td>\n",
       "      <td>0.052807</td>\n",
       "      <td>-0.933555</td>\n",
       "      <td>0.0299165</td>\n",
       "    </tr>\n",
       "  </tbody>\n",
       "</table>\n",
       "</div>"
      ],
      "text/plain": [
       "       total good   bad event_rate non_event_rate per_total_events  \\\n",
       "values                                                               \n",
       "2       4830  172  4658  0.0356108       0.964389         0.297578   \n",
       "1       6821  394  6427  0.0577628       0.942237         0.681661   \n",
       "3        630   12   618  0.0190476       0.980952        0.0207612   \n",
       "\n",
       "       per_total_non_events       WOE         IV  \n",
       "values                                            \n",
       "2                  0.398018 -0.290820  0.0292099  \n",
       "1                  0.549175  0.216114   0.028632  \n",
       "3                  0.052807 -0.933555  0.0299165  "
      ]
     },
     "execution_count": 6857,
     "metadata": {},
     "output_type": "execute_result"
    }
   ],
   "source": [
    "bins49 = [-np.inf,1,15, np.inf]\n",
    "labels49 = ['1', '2', '3']\n",
    "train_df2_train['ul_founders_cnt_bin'] = pd.cut(train_df2_train['ul_founders_cnt'], bins = bins49, labels = labels49)\n",
    "\n",
    "d49 =calc_woe_iv(train_df2_train, 'ul_founders_cnt_bin')\n",
    "d49"
   ]
  },
  {
   "cell_type": "code",
   "execution_count": 6858,
   "metadata": {},
   "outputs": [],
   "source": [
    "dict49 = {'1':0.216114, '2':-0.290820, '3':-0.933555}\n",
    "#plt.plot([1, 2, 3], [0.216114,-0.290820, -0.933555 ])"
   ]
  },
  {
   "cell_type": "markdown",
   "metadata": {},
   "source": [
    "Применим функцию биннинга и замены значений на woe для тренировочного и валидационного датафреймов"
   ]
  },
  {
   "cell_type": "code",
   "execution_count": 6859,
   "metadata": {},
   "outputs": [],
   "source": [
    "change_data(X_train2)\n",
    "change_data(X_test2)"
   ]
  },
  {
   "cell_type": "code",
   "execution_count": 6860,
   "metadata": {},
   "outputs": [
    {
     "data": {
      "text/html": [
       "<div>\n",
       "<style scoped>\n",
       "    .dataframe tbody tr th:only-of-type {\n",
       "        vertical-align: middle;\n",
       "    }\n",
       "\n",
       "    .dataframe tbody tr th {\n",
       "        vertical-align: top;\n",
       "    }\n",
       "\n",
       "    .dataframe thead th {\n",
       "        text-align: right;\n",
       "    }\n",
       "</style>\n",
       "<table border=\"1\" class=\"dataframe\">\n",
       "  <thead>\n",
       "    <tr style=\"text-align: right;\">\n",
       "      <th></th>\n",
       "      <th>default_12m</th>\n",
       "      <th>CAP_AS_bin</th>\n",
       "      <th>LIQ_ABS_bin</th>\n",
       "      <th>LIQ_QUIK_bin</th>\n",
       "      <th>coeff_likv_bin</th>\n",
       "      <th>ar_revenue_bin</th>\n",
       "      <th>ar_selling_expenses_bin</th>\n",
       "      <th>ar_profit_before_tax_bin</th>\n",
       "      <th>ar_taxes_bin</th>\n",
       "      <th>bus_age_bin</th>\n",
       "      <th>head_actual_age_bin</th>\n",
       "      <th>ul_capital_sum_bin</th>\n",
       "      <th>ul_founders_cnt_bin</th>\n",
       "    </tr>\n",
       "  </thead>\n",
       "  <tbody>\n",
       "    <tr>\n",
       "      <th>8493</th>\n",
       "      <td>0</td>\n",
       "      <td>0.45298</td>\n",
       "      <td>-0.237474</td>\n",
       "      <td>-0.049565</td>\n",
       "      <td>0.201357</td>\n",
       "      <td>-0.184685</td>\n",
       "      <td>0.032032</td>\n",
       "      <td>0.268101</td>\n",
       "      <td>-0.132888</td>\n",
       "      <td>-0.159318</td>\n",
       "      <td>-0.097024</td>\n",
       "      <td>0.110026</td>\n",
       "      <td>-0.290820</td>\n",
       "    </tr>\n",
       "    <tr>\n",
       "      <th>12209</th>\n",
       "      <td>0</td>\n",
       "      <td>0.45298</td>\n",
       "      <td>-0.237474</td>\n",
       "      <td>-0.049565</td>\n",
       "      <td>0.201357</td>\n",
       "      <td>-0.184685</td>\n",
       "      <td>0.032032</td>\n",
       "      <td>0.268101</td>\n",
       "      <td>-0.132888</td>\n",
       "      <td>0.539105</td>\n",
       "      <td>0.087616</td>\n",
       "      <td>0.110026</td>\n",
       "      <td>0.216114</td>\n",
       "    </tr>\n",
       "  </tbody>\n",
       "</table>\n",
       "</div>"
      ],
      "text/plain": [
       "       default_12m  CAP_AS_bin  LIQ_ABS_bin  LIQ_QUIK_bin  coeff_likv_bin  \\\n",
       "8493             0     0.45298    -0.237474     -0.049565        0.201357   \n",
       "12209            0     0.45298    -0.237474     -0.049565        0.201357   \n",
       "\n",
       "       ar_revenue_bin  ar_selling_expenses_bin  ar_profit_before_tax_bin  \\\n",
       "8493        -0.184685                 0.032032                  0.268101   \n",
       "12209       -0.184685                 0.032032                  0.268101   \n",
       "\n",
       "       ar_taxes_bin  bus_age_bin  head_actual_age_bin  ul_capital_sum_bin  \\\n",
       "8493      -0.132888    -0.159318            -0.097024            0.110026   \n",
       "12209     -0.132888     0.539105             0.087616            0.110026   \n",
       "\n",
       "       ul_founders_cnt_bin  \n",
       "8493             -0.290820  \n",
       "12209             0.216114  "
      ]
     },
     "execution_count": 6860,
     "metadata": {},
     "output_type": "execute_result"
    }
   ],
   "source": [
    "X_train2.head(2)"
   ]
  },
  {
   "cell_type": "code",
   "execution_count": 6861,
   "metadata": {},
   "outputs": [
    {
     "data": {
      "text/html": [
       "<div>\n",
       "<style scoped>\n",
       "    .dataframe tbody tr th:only-of-type {\n",
       "        vertical-align: middle;\n",
       "    }\n",
       "\n",
       "    .dataframe tbody tr th {\n",
       "        vertical-align: top;\n",
       "    }\n",
       "\n",
       "    .dataframe thead th {\n",
       "        text-align: right;\n",
       "    }\n",
       "</style>\n",
       "<table border=\"1\" class=\"dataframe\">\n",
       "  <thead>\n",
       "    <tr style=\"text-align: right;\">\n",
       "      <th></th>\n",
       "      <th>CAP_AS_bin</th>\n",
       "      <th>LIQ_ABS_bin</th>\n",
       "      <th>LIQ_QUIK_bin</th>\n",
       "      <th>coeff_likv_bin</th>\n",
       "      <th>ar_revenue_bin</th>\n",
       "      <th>ar_selling_expenses_bin</th>\n",
       "      <th>ar_profit_before_tax_bin</th>\n",
       "      <th>ar_taxes_bin</th>\n",
       "      <th>bus_age_bin</th>\n",
       "      <th>ul_capital_sum_bin</th>\n",
       "      <th>ul_founders_cnt_bin</th>\n",
       "      <th>head_actual_age_bin</th>\n",
       "    </tr>\n",
       "  </thead>\n",
       "  <tbody>\n",
       "    <tr>\n",
       "      <th>3142</th>\n",
       "      <td>-0.217365</td>\n",
       "      <td>-0.237474</td>\n",
       "      <td>-0.049565</td>\n",
       "      <td>-0.135403</td>\n",
       "      <td>-0.184685</td>\n",
       "      <td>-0.101778</td>\n",
       "      <td>-0.612498</td>\n",
       "      <td>-0.132888</td>\n",
       "      <td>0.539105</td>\n",
       "      <td>0.110026</td>\n",
       "      <td>-0.290820</td>\n",
       "      <td>0.087616</td>\n",
       "    </tr>\n",
       "    <tr>\n",
       "      <th>30400</th>\n",
       "      <td>-0.217365</td>\n",
       "      <td>0.340798</td>\n",
       "      <td>-0.049565</td>\n",
       "      <td>-0.135403</td>\n",
       "      <td>-0.184685</td>\n",
       "      <td>0.032032</td>\n",
       "      <td>0.522649</td>\n",
       "      <td>0.231105</td>\n",
       "      <td>-0.159318</td>\n",
       "      <td>0.110026</td>\n",
       "      <td>0.216114</td>\n",
       "      <td>0.087616</td>\n",
       "    </tr>\n",
       "  </tbody>\n",
       "</table>\n",
       "</div>"
      ],
      "text/plain": [
       "       CAP_AS_bin  LIQ_ABS_bin  LIQ_QUIK_bin  coeff_likv_bin  ar_revenue_bin  \\\n",
       "3142    -0.217365    -0.237474     -0.049565       -0.135403       -0.184685   \n",
       "30400   -0.217365     0.340798     -0.049565       -0.135403       -0.184685   \n",
       "\n",
       "       ar_selling_expenses_bin  ar_profit_before_tax_bin  ar_taxes_bin  \\\n",
       "3142                 -0.101778                 -0.612498     -0.132888   \n",
       "30400                 0.032032                  0.522649      0.231105   \n",
       "\n",
       "       bus_age_bin  ul_capital_sum_bin  ul_founders_cnt_bin  \\\n",
       "3142      0.539105            0.110026            -0.290820   \n",
       "30400    -0.159318            0.110026             0.216114   \n",
       "\n",
       "       head_actual_age_bin  \n",
       "3142              0.087616  \n",
       "30400             0.087616  "
      ]
     },
     "execution_count": 6861,
     "metadata": {},
     "output_type": "execute_result"
    }
   ],
   "source": [
    "X_test2.head(2)"
   ]
  },
  {
   "cell_type": "markdown",
   "metadata": {},
   "source": [
    "Аналогично с первым датафреймом\n",
    "обучим модель и отберем признаки\n",
    "Признаки будем отбирать 2 способами:\n",
    "- корреляция(больще чем 0,75)\n",
    "- отбор признаков RFE\n",
    "(Еще важность признаков можно смотреть по рассчитанному IV)"
   ]
  },
  {
   "cell_type": "markdown",
   "metadata": {},
   "source": [
    "Cильно коррелируют(больше 0.75)\n",
    "(уже убрали)\n",
    "coeff_likv_bin \n",
    "bus_age_bin "
   ]
  },
  {
   "cell_type": "code",
   "execution_count": 6862,
   "metadata": {},
   "outputs": [
    {
     "data": {
      "text/html": [
       "<div>\n",
       "<style scoped>\n",
       "    .dataframe tbody tr th:only-of-type {\n",
       "        vertical-align: middle;\n",
       "    }\n",
       "\n",
       "    .dataframe tbody tr th {\n",
       "        vertical-align: top;\n",
       "    }\n",
       "\n",
       "    .dataframe thead th {\n",
       "        text-align: right;\n",
       "    }\n",
       "</style>\n",
       "<table border=\"1\" class=\"dataframe\">\n",
       "  <thead>\n",
       "    <tr style=\"text-align: right;\">\n",
       "      <th></th>\n",
       "      <th>default_12m</th>\n",
       "      <th>CAP_AS_bin</th>\n",
       "      <th>LIQ_ABS_bin</th>\n",
       "      <th>LIQ_QUIK_bin</th>\n",
       "      <th>coeff_likv_bin</th>\n",
       "      <th>ar_revenue_bin</th>\n",
       "      <th>ar_selling_expenses_bin</th>\n",
       "      <th>ar_profit_before_tax_bin</th>\n",
       "      <th>ar_taxes_bin</th>\n",
       "      <th>bus_age_bin</th>\n",
       "      <th>head_actual_age_bin</th>\n",
       "      <th>ul_capital_sum_bin</th>\n",
       "      <th>ul_founders_cnt_bin</th>\n",
       "    </tr>\n",
       "  </thead>\n",
       "  <tbody>\n",
       "    <tr>\n",
       "      <th>default_12m</th>\n",
       "      <td>1.000000</td>\n",
       "      <td>0.072564</td>\n",
       "      <td>0.082916</td>\n",
       "      <td>0.042221</td>\n",
       "      <td>0.035514</td>\n",
       "      <td>0.093495</td>\n",
       "      <td>0.024686</td>\n",
       "      <td>0.098632</td>\n",
       "      <td>0.074234</td>\n",
       "      <td>0.095784</td>\n",
       "      <td>0.019488</td>\n",
       "      <td>0.034667</td>\n",
       "      <td>0.058156</td>\n",
       "    </tr>\n",
       "    <tr>\n",
       "      <th>CAP_AS_bin</th>\n",
       "      <td>0.072564</td>\n",
       "      <td>1.000000</td>\n",
       "      <td>0.057987</td>\n",
       "      <td>-0.050122</td>\n",
       "      <td>0.543740</td>\n",
       "      <td>0.048112</td>\n",
       "      <td>-0.008663</td>\n",
       "      <td>0.346239</td>\n",
       "      <td>0.137722</td>\n",
       "      <td>0.348376</td>\n",
       "      <td>-0.018111</td>\n",
       "      <td>0.217292</td>\n",
       "      <td>0.159786</td>\n",
       "    </tr>\n",
       "    <tr>\n",
       "      <th>LIQ_ABS_bin</th>\n",
       "      <td>0.082916</td>\n",
       "      <td>0.057987</td>\n",
       "      <td>1.000000</td>\n",
       "      <td>0.394089</td>\n",
       "      <td>0.098761</td>\n",
       "      <td>0.111362</td>\n",
       "      <td>0.002744</td>\n",
       "      <td>0.120514</td>\n",
       "      <td>0.075898</td>\n",
       "      <td>0.051693</td>\n",
       "      <td>0.015699</td>\n",
       "      <td>0.005633</td>\n",
       "      <td>0.059220</td>\n",
       "    </tr>\n",
       "    <tr>\n",
       "      <th>LIQ_QUIK_bin</th>\n",
       "      <td>0.042221</td>\n",
       "      <td>-0.050122</td>\n",
       "      <td>0.394089</td>\n",
       "      <td>1.000000</td>\n",
       "      <td>0.000111</td>\n",
       "      <td>0.169195</td>\n",
       "      <td>0.034632</td>\n",
       "      <td>0.136288</td>\n",
       "      <td>0.118607</td>\n",
       "      <td>0.017545</td>\n",
       "      <td>0.029746</td>\n",
       "      <td>-0.046094</td>\n",
       "      <td>0.063601</td>\n",
       "    </tr>\n",
       "    <tr>\n",
       "      <th>coeff_likv_bin</th>\n",
       "      <td>0.035514</td>\n",
       "      <td>0.543740</td>\n",
       "      <td>0.098761</td>\n",
       "      <td>0.000111</td>\n",
       "      <td>1.000000</td>\n",
       "      <td>0.021916</td>\n",
       "      <td>-0.040184</td>\n",
       "      <td>0.247480</td>\n",
       "      <td>0.057967</td>\n",
       "      <td>0.220021</td>\n",
       "      <td>0.002477</td>\n",
       "      <td>0.156977</td>\n",
       "      <td>0.088932</td>\n",
       "    </tr>\n",
       "    <tr>\n",
       "      <th>ar_revenue_bin</th>\n",
       "      <td>0.093495</td>\n",
       "      <td>0.048112</td>\n",
       "      <td>0.111362</td>\n",
       "      <td>0.169195</td>\n",
       "      <td>0.021916</td>\n",
       "      <td>1.000000</td>\n",
       "      <td>0.255221</td>\n",
       "      <td>0.349588</td>\n",
       "      <td>0.317878</td>\n",
       "      <td>0.171688</td>\n",
       "      <td>-0.003240</td>\n",
       "      <td>0.108441</td>\n",
       "      <td>0.090345</td>\n",
       "    </tr>\n",
       "    <tr>\n",
       "      <th>ar_selling_expenses_bin</th>\n",
       "      <td>0.024686</td>\n",
       "      <td>-0.008663</td>\n",
       "      <td>0.002744</td>\n",
       "      <td>0.034632</td>\n",
       "      <td>-0.040184</td>\n",
       "      <td>0.255221</td>\n",
       "      <td>1.000000</td>\n",
       "      <td>0.099844</td>\n",
       "      <td>0.176668</td>\n",
       "      <td>0.063431</td>\n",
       "      <td>-0.018670</td>\n",
       "      <td>0.060612</td>\n",
       "      <td>0.055309</td>\n",
       "    </tr>\n",
       "    <tr>\n",
       "      <th>ar_profit_before_tax_bin</th>\n",
       "      <td>0.098632</td>\n",
       "      <td>0.346239</td>\n",
       "      <td>0.120514</td>\n",
       "      <td>0.136288</td>\n",
       "      <td>0.247480</td>\n",
       "      <td>0.349588</td>\n",
       "      <td>0.099844</td>\n",
       "      <td>1.000000</td>\n",
       "      <td>0.427282</td>\n",
       "      <td>0.246474</td>\n",
       "      <td>-0.022195</td>\n",
       "      <td>0.145970</td>\n",
       "      <td>0.178206</td>\n",
       "    </tr>\n",
       "    <tr>\n",
       "      <th>ar_taxes_bin</th>\n",
       "      <td>0.074234</td>\n",
       "      <td>0.137722</td>\n",
       "      <td>0.075898</td>\n",
       "      <td>0.118607</td>\n",
       "      <td>0.057967</td>\n",
       "      <td>0.317878</td>\n",
       "      <td>0.176668</td>\n",
       "      <td>0.427282</td>\n",
       "      <td>1.000000</td>\n",
       "      <td>0.139880</td>\n",
       "      <td>-0.000958</td>\n",
       "      <td>0.073068</td>\n",
       "      <td>0.081976</td>\n",
       "    </tr>\n",
       "    <tr>\n",
       "      <th>bus_age_bin</th>\n",
       "      <td>0.095784</td>\n",
       "      <td>0.348376</td>\n",
       "      <td>0.051693</td>\n",
       "      <td>0.017545</td>\n",
       "      <td>0.220021</td>\n",
       "      <td>0.171688</td>\n",
       "      <td>0.063431</td>\n",
       "      <td>0.246474</td>\n",
       "      <td>0.139880</td>\n",
       "      <td>1.000000</td>\n",
       "      <td>-0.066368</td>\n",
       "      <td>0.281637</td>\n",
       "      <td>0.311599</td>\n",
       "    </tr>\n",
       "    <tr>\n",
       "      <th>head_actual_age_bin</th>\n",
       "      <td>0.019488</td>\n",
       "      <td>-0.018111</td>\n",
       "      <td>0.015699</td>\n",
       "      <td>0.029746</td>\n",
       "      <td>0.002477</td>\n",
       "      <td>-0.003240</td>\n",
       "      <td>-0.018670</td>\n",
       "      <td>-0.022195</td>\n",
       "      <td>-0.000958</td>\n",
       "      <td>-0.066368</td>\n",
       "      <td>1.000000</td>\n",
       "      <td>-0.115134</td>\n",
       "      <td>-0.034491</td>\n",
       "    </tr>\n",
       "    <tr>\n",
       "      <th>ul_capital_sum_bin</th>\n",
       "      <td>0.034667</td>\n",
       "      <td>0.217292</td>\n",
       "      <td>0.005633</td>\n",
       "      <td>-0.046094</td>\n",
       "      <td>0.156977</td>\n",
       "      <td>0.108441</td>\n",
       "      <td>0.060612</td>\n",
       "      <td>0.145970</td>\n",
       "      <td>0.073068</td>\n",
       "      <td>0.281637</td>\n",
       "      <td>-0.115134</td>\n",
       "      <td>1.000000</td>\n",
       "      <td>0.202287</td>\n",
       "    </tr>\n",
       "    <tr>\n",
       "      <th>ul_founders_cnt_bin</th>\n",
       "      <td>0.058156</td>\n",
       "      <td>0.159786</td>\n",
       "      <td>0.059220</td>\n",
       "      <td>0.063601</td>\n",
       "      <td>0.088932</td>\n",
       "      <td>0.090345</td>\n",
       "      <td>0.055309</td>\n",
       "      <td>0.178206</td>\n",
       "      <td>0.081976</td>\n",
       "      <td>0.311599</td>\n",
       "      <td>-0.034491</td>\n",
       "      <td>0.202287</td>\n",
       "      <td>1.000000</td>\n",
       "    </tr>\n",
       "  </tbody>\n",
       "</table>\n",
       "</div>"
      ],
      "text/plain": [
       "                          default_12m  CAP_AS_bin  LIQ_ABS_bin  LIQ_QUIK_bin  \\\n",
       "default_12m                  1.000000    0.072564     0.082916      0.042221   \n",
       "CAP_AS_bin                   0.072564    1.000000     0.057987     -0.050122   \n",
       "LIQ_ABS_bin                  0.082916    0.057987     1.000000      0.394089   \n",
       "LIQ_QUIK_bin                 0.042221   -0.050122     0.394089      1.000000   \n",
       "coeff_likv_bin               0.035514    0.543740     0.098761      0.000111   \n",
       "ar_revenue_bin               0.093495    0.048112     0.111362      0.169195   \n",
       "ar_selling_expenses_bin      0.024686   -0.008663     0.002744      0.034632   \n",
       "ar_profit_before_tax_bin     0.098632    0.346239     0.120514      0.136288   \n",
       "ar_taxes_bin                 0.074234    0.137722     0.075898      0.118607   \n",
       "bus_age_bin                  0.095784    0.348376     0.051693      0.017545   \n",
       "head_actual_age_bin          0.019488   -0.018111     0.015699      0.029746   \n",
       "ul_capital_sum_bin           0.034667    0.217292     0.005633     -0.046094   \n",
       "ul_founders_cnt_bin          0.058156    0.159786     0.059220      0.063601   \n",
       "\n",
       "                          coeff_likv_bin  ar_revenue_bin  \\\n",
       "default_12m                     0.035514        0.093495   \n",
       "CAP_AS_bin                      0.543740        0.048112   \n",
       "LIQ_ABS_bin                     0.098761        0.111362   \n",
       "LIQ_QUIK_bin                    0.000111        0.169195   \n",
       "coeff_likv_bin                  1.000000        0.021916   \n",
       "ar_revenue_bin                  0.021916        1.000000   \n",
       "ar_selling_expenses_bin        -0.040184        0.255221   \n",
       "ar_profit_before_tax_bin        0.247480        0.349588   \n",
       "ar_taxes_bin                    0.057967        0.317878   \n",
       "bus_age_bin                     0.220021        0.171688   \n",
       "head_actual_age_bin             0.002477       -0.003240   \n",
       "ul_capital_sum_bin              0.156977        0.108441   \n",
       "ul_founders_cnt_bin             0.088932        0.090345   \n",
       "\n",
       "                          ar_selling_expenses_bin  ar_profit_before_tax_bin  \\\n",
       "default_12m                              0.024686                  0.098632   \n",
       "CAP_AS_bin                              -0.008663                  0.346239   \n",
       "LIQ_ABS_bin                              0.002744                  0.120514   \n",
       "LIQ_QUIK_bin                             0.034632                  0.136288   \n",
       "coeff_likv_bin                          -0.040184                  0.247480   \n",
       "ar_revenue_bin                           0.255221                  0.349588   \n",
       "ar_selling_expenses_bin                  1.000000                  0.099844   \n",
       "ar_profit_before_tax_bin                 0.099844                  1.000000   \n",
       "ar_taxes_bin                             0.176668                  0.427282   \n",
       "bus_age_bin                              0.063431                  0.246474   \n",
       "head_actual_age_bin                     -0.018670                 -0.022195   \n",
       "ul_capital_sum_bin                       0.060612                  0.145970   \n",
       "ul_founders_cnt_bin                      0.055309                  0.178206   \n",
       "\n",
       "                          ar_taxes_bin  bus_age_bin  head_actual_age_bin  \\\n",
       "default_12m                   0.074234     0.095784             0.019488   \n",
       "CAP_AS_bin                    0.137722     0.348376            -0.018111   \n",
       "LIQ_ABS_bin                   0.075898     0.051693             0.015699   \n",
       "LIQ_QUIK_bin                  0.118607     0.017545             0.029746   \n",
       "coeff_likv_bin                0.057967     0.220021             0.002477   \n",
       "ar_revenue_bin                0.317878     0.171688            -0.003240   \n",
       "ar_selling_expenses_bin       0.176668     0.063431            -0.018670   \n",
       "ar_profit_before_tax_bin      0.427282     0.246474            -0.022195   \n",
       "ar_taxes_bin                  1.000000     0.139880            -0.000958   \n",
       "bus_age_bin                   0.139880     1.000000            -0.066368   \n",
       "head_actual_age_bin          -0.000958    -0.066368             1.000000   \n",
       "ul_capital_sum_bin            0.073068     0.281637            -0.115134   \n",
       "ul_founders_cnt_bin           0.081976     0.311599            -0.034491   \n",
       "\n",
       "                          ul_capital_sum_bin  ul_founders_cnt_bin  \n",
       "default_12m                         0.034667             0.058156  \n",
       "CAP_AS_bin                          0.217292             0.159786  \n",
       "LIQ_ABS_bin                         0.005633             0.059220  \n",
       "LIQ_QUIK_bin                       -0.046094             0.063601  \n",
       "coeff_likv_bin                      0.156977             0.088932  \n",
       "ar_revenue_bin                      0.108441             0.090345  \n",
       "ar_selling_expenses_bin             0.060612             0.055309  \n",
       "ar_profit_before_tax_bin            0.145970             0.178206  \n",
       "ar_taxes_bin                        0.073068             0.081976  \n",
       "bus_age_bin                         0.281637             0.311599  \n",
       "head_actual_age_bin                -0.115134            -0.034491  \n",
       "ul_capital_sum_bin                  1.000000             0.202287  \n",
       "ul_founders_cnt_bin                 0.202287             1.000000  "
      ]
     },
     "execution_count": 6862,
     "metadata": {},
     "output_type": "execute_result"
    }
   ],
   "source": [
    "X_train2.corr()"
   ]
  },
  {
   "cell_type": "code",
   "execution_count": 6863,
   "metadata": {},
   "outputs": [
    {
     "data": {
      "text/plain": [
       "Index(['default_12m', 'CAP_AS_bin', 'LIQ_ABS_bin', 'LIQ_QUIK_bin',\n",
       "       'coeff_likv_bin', 'ar_revenue_bin', 'ar_selling_expenses_bin',\n",
       "       'ar_profit_before_tax_bin', 'ar_taxes_bin', 'bus_age_bin',\n",
       "       'head_actual_age_bin', 'ul_capital_sum_bin', 'ul_founders_cnt_bin'],\n",
       "      dtype='object')"
      ]
     },
     "execution_count": 6863,
     "metadata": {},
     "output_type": "execute_result"
    }
   ],
   "source": [
    "X_train2.columns"
   ]
  },
  {
   "cell_type": "markdown",
   "metadata": {},
   "source": [
    "Здесь, так же как и в случае первого датафрейма показан процесс отбора признаков, параметров и обучения модели на финальных признаках. Признаки, которые были отсеяны тут не используются"
   ]
  },
  {
   "cell_type": "code",
   "execution_count": 6864,
   "metadata": {},
   "outputs": [],
   "source": [
    "features2 = ['CAP_AS_bin', 'LIQ_ABS_bin', 'LIQ_QUIK_bin',\n",
    "       'coeff_likv_bin', 'ar_revenue_bin','ar_selling_expenses_bin','ar_profit_before_tax_bin',\n",
    "       'ar_taxes_bin','bus_age_bin','ul_capital_sum_bin',\n",
    "       'ul_founders_cnt_bin', 'head_actual_age_bin']"
   ]
  },
  {
   "cell_type": "markdown",
   "metadata": {},
   "source": [
    "Преобразуем train_df2 и test_df2"
   ]
  },
  {
   "cell_type": "code",
   "execution_count": 6865,
   "metadata": {},
   "outputs": [],
   "source": [
    "change_data(train_df2)\n",
    "change_data(test_df2)"
   ]
  },
  {
   "cell_type": "code",
   "execution_count": 6866,
   "metadata": {},
   "outputs": [],
   "source": [
    "features_df2 = train_df2.loc[:,features2]\n",
    "features_df2['default_12m'] = train_df2['default_12m']"
   ]
  },
  {
   "cell_type": "code",
   "execution_count": 6867,
   "metadata": {},
   "outputs": [
    {
     "data": {
      "text/plain": [
       "0.6983578926056857"
      ]
     },
     "execution_count": 6867,
     "metadata": {},
     "output_type": "execute_result"
    }
   ],
   "source": [
    "X_train2, X_test2, y_train2, y_test2 = train_test_split(features_df2.drop('default_12m',axis=1),\n",
    "                                                    features_df2['default_12m'],\n",
    "                                                    random_state=42, shuffle=True)\n",
    "\n",
    "logit2 = LogisticRegression(solver='lbfgs',max_iter=1000, penalty = 'l2', random_state=42)\n",
    "cv = cross_val_score(logit2, X_train2, y_train2, cv=5, scoring='roc_auc').mean()\n",
    "cv"
   ]
  },
  {
   "cell_type": "code",
   "execution_count": 6868,
   "metadata": {},
   "outputs": [
    {
     "name": "stdout",
     "output_type": "stream",
     "text": [
      "AUC на обучающей выборке : 0.706\n",
      "AUC на контрольной выборке : 0.707\n"
     ]
    }
   ],
   "source": [
    "logit2 = LogisticRegression(solver='lbfgs',max_iter=100, penalty = 'l2', random_state=42).fit(X_train2, y_train2)\n",
    "print(\"AUC на обучающей выборке : {:.3f}\".format(roc_auc_score(y_train2, logit2.predict_proba(X_train2)[:, 1])))\n",
    "print(\"AUC на контрольной выборке : {:.3f}\".format(roc_auc_score(y_test2, logit2.predict_proba(X_test2)[:, 1])))"
   ]
  },
  {
   "cell_type": "markdown",
   "metadata": {},
   "source": [
    "строим регрессию c параметром регулизации"
   ]
  },
  {
   "cell_type": "code",
   "execution_count": 6869,
   "metadata": {},
   "outputs": [
    {
     "name": "stdout",
     "output_type": "stream",
     "text": [
      "AUC на обучающей выборке : 0.705\n",
      "AUC на контрольной выборке : 0.706\n"
     ]
    }
   ],
   "source": [
    "logit2 = LogisticRegression(C=0.12, penalty = 'l2',solver='lbfgs', random_state=42).fit(X_train2, y_train2)\n",
    "print(\"AUC на обучающей выборке : {:.3f}\".format(roc_auc_score(y_train2, logit2.predict_proba(X_train2)[:, 1])))\n",
    "print(\"AUC на контрольной выборке : {:.3f}\".format(roc_auc_score(y_test2, logit2.predict_proba(X_test2)[:, 1])))"
   ]
  },
  {
   "cell_type": "markdown",
   "metadata": {},
   "source": [
    "Отбор признаков логистической регрессии с помощью случайного леса(RFE). Лучшее качество модель показала при _ признаках"
   ]
  },
  {
   "cell_type": "code",
   "execution_count": 6870,
   "metadata": {},
   "outputs": [],
   "source": [
    "n = 12"
   ]
  },
  {
   "cell_type": "code",
   "execution_count": 6871,
   "metadata": {},
   "outputs": [
    {
     "name": "stdout",
     "output_type": "stream",
     "text": [
      "CAP_AS_bin True\n",
      "LIQ_ABS_bin True\n",
      "LIQ_QUIK_bin True\n",
      "coeff_likv_bin True\n",
      "ar_revenue_bin True\n",
      "ar_selling_expenses_bin True\n",
      "ar_profit_before_tax_bin True\n",
      "ar_taxes_bin True\n",
      "bus_age_bin True\n",
      "ul_capital_sum_bin True\n",
      "ul_founders_cnt_bin True\n",
      "head_actual_age_bin True\n"
     ]
    }
   ],
   "source": [
    "select2 = RFE(RandomForestClassifier(n_estimators=200, max_depth=10, random_state = 42, n_jobs = -1),\n",
    "            n_features_to_select=n)\n",
    "select2.fit(X_train2, y_train2)\n",
    "\n",
    "mask2 = select2.get_support()\n",
    "feat_lables2 = X_train2.columns\n",
    "for c, feature in zip(mask2, feat_lables2):\n",
    "    print(feature, c)"
   ]
  },
  {
   "cell_type": "code",
   "execution_count": 6874,
   "metadata": {},
   "outputs": [],
   "source": [
    "features2 = ['CAP_AS_bin', 'LIQ_ABS_bin', 'LIQ_QUIK_bin',\n",
    "       'coeff_likv_bin', 'ar_revenue_bin','ar_selling_expenses_bin','ar_profit_before_tax_bin',\n",
    "       'ar_taxes_bin','bus_age_bin','ul_capital_sum_bin',\n",
    "       'ul_founders_cnt_bin', 'head_actual_age_bin'] \n",
    "features_df2 = train_df2.loc[:,features2]\n",
    "features_df2['default_12m'] = train_df2['default_12m']\n",
    "X_train2, X_test2, y_train2, y_test2 = train_test_split(features_df2.drop('default_12m',axis=1),\n",
    "                                                    features_df2['default_12m'],\n",
    "                                                    random_state=42, shuffle=True)"
   ]
  },
  {
   "cell_type": "code",
   "execution_count": 6876,
   "metadata": {},
   "outputs": [
    {
     "name": "stdout",
     "output_type": "stream",
     "text": [
      "AUC на обучающей выборке : 0.706\n",
      "AUC на контрольной выборке : 0.707\n"
     ]
    }
   ],
   "source": [
    "logit2 = LogisticRegression().fit(X_train2, y_train2)\n",
    "print(\"AUC на обучающей выборке : {:.3f}\".format(roc_auc_score(y_train2, logit2.predict_proba(X_train2)[:, 1])))\n",
    "print(\"AUC на контрольной выборке : {:.3f}\".format(roc_auc_score(y_test2, logit2.predict_proba(X_test2)[:, 1])))"
   ]
  },
  {
   "cell_type": "markdown",
   "metadata": {},
   "source": [
    "Настройка гиперпараметров логистической регрессии с помощью класса GRidSearchCV"
   ]
  },
  {
   "cell_type": "code",
   "execution_count": 6877,
   "metadata": {
    "scrolled": true
   },
   "outputs": [
    {
     "name": "stdout",
     "output_type": "stream",
     "text": [
      "AUC на тестовой выборке : 0.706\n",
      "Наилучшее значение гиперпараметра С\n",
      "{'C': 0.16}\n",
      "Наилучшее значение AUC\n",
      "0.7003258377368798\n"
     ]
    }
   ],
   "source": [
    "strat2 = StratifiedKFold(n_splits = 10, shuffle = True, random_state=42)\n",
    "logreg_grid2 = LogisticRegression( penalty = 'l2', random_state=42)\n",
    "param_grid2 = {'C': np.arange(0, 1, 0.005)}\n",
    "grid_search2 = GridSearchCV(logreg_grid2, param_grid2, scoring = 'roc_auc', return_train_score=True, n_jobs = -1,\n",
    "                           cv=strat2)\n",
    "grid_search2.fit(X_train2, y_train2)\n",
    "test_score2 = roc_auc_score(y_test2, grid_search2.predict_proba(X_test2)[:, 1])\n",
    "print(\"AUC на тестовой выборке : {:.3f}\".format(test_score2))\n",
    "print(\"Наилучшее значение гиперпараметра С\")\n",
    "print(grid_search2.best_params_)\n",
    "print(\"Наилучшее значение AUC\")\n",
    "print(grid_search2.best_score_)"
   ]
  },
  {
   "cell_type": "markdown",
   "metadata": {},
   "source": [
    "Подбор cutoff: посмотрим при каком значении порога модель дает большую точ"
   ]
  },
  {
   "cell_type": "code",
   "execution_count": 6878,
   "metadata": {},
   "outputs": [],
   "source": [
    "C2 = 0.16"
   ]
  },
  {
   "cell_type": "code",
   "execution_count": 6879,
   "metadata": {},
   "outputs": [],
   "source": [
    "porog = np.arange(0, 1.01, 0.01)\n",
    "roc_auc_scores_test = []\n",
    "roc_auc_scores_train = []\n",
    "for i in porog:\n",
    "    logit2 = LogisticRegression(C= C2, max_iter=1000, penalty = 'l2', random_state=17)\n",
    "    logit2.fit(features_df2.drop('default_12m',axis=1), features_df2['default_12m'])\n",
    "    pred_train = (logit2.predict_proba(X_train2)[:,1]>i).astype(int)\n",
    "    pred_test = (logit2.predict_proba(X_test2)[:,1]>i).astype(int)\n",
    "    accu_train = roc_auc_score(y_train2, pred_train)\n",
    "    accu_test = roc_auc_score(y_test2, pred_test)\n",
    "    roc_auc_scores_test.append(accu_test)\n",
    "    roc_auc_scores_train.append(accu_train)"
   ]
  },
  {
   "cell_type": "code",
   "execution_count": 6880,
   "metadata": {},
   "outputs": [
    {
     "data": {
      "image/png": "[encoded data removed]",
      "text/plain": [
       "<Figure size 432x288 with 1 Axes>"
      ]
     },
     "metadata": {},
     "output_type": "display_data"
    }
   ],
   "source": [
    "plt.plot(porog, roc_auc_scores_train, label = 'roc_auc_train')\n",
    "plt.plot(porog, roc_auc_scores_test, label = 'roc_auc_test')\n",
    "plt.legend()\n",
    "plt.title('Зависимость ROC AUC от порог вероятности') \n",
    "plt.xlabel('порог вероятности')\n",
    "plt.ylabel('ROC AUC')\n",
    "plt.show()"
   ]
  },
  {
   "cell_type": "code",
   "execution_count": 6883,
   "metadata": {},
   "outputs": [],
   "source": [
    "#roc_auc_scores_test"
   ]
  },
  {
   "cell_type": "code",
   "execution_count": 6557,
   "metadata": {},
   "outputs": [
    {
     "data": {
      "text/plain": [
       "array([0.  , 0.01, 0.02, 0.03, 0.04, 0.05, 0.06, 0.07, 0.08, 0.09, 0.1 ,\n",
       "       0.11, 0.12, 0.13, 0.14, 0.15, 0.16, 0.17, 0.18, 0.19, 0.2 , 0.21,\n",
       "       0.22, 0.23, 0.24, 0.25, 0.26, 0.27, 0.28, 0.29, 0.3 , 0.31, 0.32,\n",
       "       0.33, 0.34, 0.35, 0.36, 0.37, 0.38, 0.39, 0.4 , 0.41, 0.42, 0.43,\n",
       "       0.44, 0.45, 0.46, 0.47, 0.48, 0.49, 0.5 , 0.51, 0.52, 0.53, 0.54,\n",
       "       0.55, 0.56, 0.57, 0.58, 0.59, 0.6 , 0.61, 0.62, 0.63, 0.64, 0.65,\n",
       "       0.66, 0.67, 0.68, 0.69, 0.7 , 0.71, 0.72, 0.73, 0.74, 0.75, 0.76,\n",
       "       0.77, 0.78, 0.79, 0.8 , 0.81, 0.82, 0.83, 0.84, 0.85, 0.86, 0.87,\n",
       "       0.88, 0.89, 0.9 , 0.91, 0.92, 0.93, 0.94, 0.95, 0.96, 0.97, 0.98,\n",
       "       0.99, 1.  ])"
      ]
     },
     "execution_count": 6557,
     "metadata": {},
     "output_type": "execute_result"
    }
   ],
   "source": [
    "porog"
   ]
  },
  {
   "cell_type": "markdown",
   "metadata": {},
   "source": [
    "максимальный roc_auc_scores_test при пороге 0.05"
   ]
  },
  {
   "cell_type": "code",
   "execution_count": 6882,
   "metadata": {},
   "outputs": [],
   "source": [
    "cutoff2 =0.05"
   ]
  },
  {
   "cell_type": "code",
   "execution_count": 6884,
   "metadata": {},
   "outputs": [
    {
     "name": "stdout",
     "output_type": "stream",
     "text": [
      "[0 1 0 ... 1 0 1]\n",
      "0.6606139565181989\n",
      "0.6607230092818759\n"
     ]
    }
   ],
   "source": [
    "logit2 = LogisticRegression(C=C2,max_iter=1000, penalty = 'l2', random_state=17)\n",
    "logit2.fit(features_df2.drop('default_12m',axis=1), features_df2['default_12m'])\n",
    "pred_train = (logit2.predict_proba(X_train2)[:,1]>cutoff2).astype(int)\n",
    "pred_test = (logit2.predict_proba(X_test2)[:,1]>cutoff2).astype(int)\n",
    "print(pred_train)\n",
    "accu_train = accuracy_score(y_train2, pred_train)\n",
    "accu_test = accuracy_score(y_test2, pred_test)\n",
    "\n",
    "print(accu_train)\n",
    "print(accu_test)"
   ]
  },
  {
   "cell_type": "code",
   "execution_count": 6885,
   "metadata": {},
   "outputs": [],
   "source": [
    "answ_df2 = test_df2[['record_id']]\n",
    "answ_df2['id'] = answ_df2['record_id']\n",
    "\n",
    "answ_df2.drop('record_id',axis=1, inplace=True)\n",
    "answ_df2['predict'] = (logit2.predict_proba(test_df2.loc[:,features2])[:,1]>cutoff2).astype(int)"
   ]
  },
  {
   "cell_type": "markdown",
   "metadata": {
    "id": "OQ1Y1r6E9bvN"
   },
   "source": [
    "### Формирование файла с ответом"
   ]
  },
  {
   "cell_type": "code",
   "execution_count": 6886,
   "metadata": {},
   "outputs": [],
   "source": [
    "answ_df = pd.concat([answ_df1, answ_df2], ignore_index = True)\n",
    "test_df = pd.read_csv('https://raw.githubusercontent.com/BKHV/ds-test/master/PD-data-test.csv', sep=';')\n",
    "answ_df['id']=test_df['record_id']\n",
    "answ_df.to_csv('PD-submit23-3.csv',index=False, sep=';')"
   ]
  },
  {
   "cell_type": "code",
   "execution_count": 6887,
   "metadata": {},
   "outputs": [
    {
     "data": {
      "text/html": [
       "<div>\n",
       "<style scoped>\n",
       "    .dataframe tbody tr th:only-of-type {\n",
       "        vertical-align: middle;\n",
       "    }\n",
       "\n",
       "    .dataframe tbody tr th {\n",
       "        vertical-align: top;\n",
       "    }\n",
       "\n",
       "    .dataframe thead th {\n",
       "        text-align: right;\n",
       "    }\n",
       "</style>\n",
       "<table border=\"1\" class=\"dataframe\">\n",
       "  <thead>\n",
       "    <tr style=\"text-align: right;\">\n",
       "      <th></th>\n",
       "      <th>id</th>\n",
       "      <th>predict</th>\n",
       "    </tr>\n",
       "  </thead>\n",
       "  <tbody>\n",
       "    <tr>\n",
       "      <th>0</th>\n",
       "      <td>196</td>\n",
       "      <td>0</td>\n",
       "    </tr>\n",
       "    <tr>\n",
       "      <th>1</th>\n",
       "      <td>1196</td>\n",
       "      <td>0</td>\n",
       "    </tr>\n",
       "    <tr>\n",
       "      <th>2</th>\n",
       "      <td>2813</td>\n",
       "      <td>1</td>\n",
       "    </tr>\n",
       "    <tr>\n",
       "      <th>3</th>\n",
       "      <td>4385</td>\n",
       "      <td>1</td>\n",
       "    </tr>\n",
       "    <tr>\n",
       "      <th>4</th>\n",
       "      <td>6479</td>\n",
       "      <td>1</td>\n",
       "    </tr>\n",
       "    <tr>\n",
       "      <th>...</th>\n",
       "      <td>...</td>\n",
       "      <td>...</td>\n",
       "    </tr>\n",
       "    <tr>\n",
       "      <th>195</th>\n",
       "      <td>265577</td>\n",
       "      <td>0</td>\n",
       "    </tr>\n",
       "    <tr>\n",
       "      <th>196</th>\n",
       "      <td>266648</td>\n",
       "      <td>0</td>\n",
       "    </tr>\n",
       "    <tr>\n",
       "      <th>197</th>\n",
       "      <td>266849</td>\n",
       "      <td>1</td>\n",
       "    </tr>\n",
       "    <tr>\n",
       "      <th>198</th>\n",
       "      <td>267566</td>\n",
       "      <td>0</td>\n",
       "    </tr>\n",
       "    <tr>\n",
       "      <th>199</th>\n",
       "      <td>271584</td>\n",
       "      <td>0</td>\n",
       "    </tr>\n",
       "  </tbody>\n",
       "</table>\n",
       "<p>200 rows × 2 columns</p>\n",
       "</div>"
      ],
      "text/plain": [
       "         id  predict\n",
       "0       196        0\n",
       "1      1196        0\n",
       "2      2813        1\n",
       "3      4385        1\n",
       "4      6479        1\n",
       "..      ...      ...\n",
       "195  265577        0\n",
       "196  266648        0\n",
       "197  266849        1\n",
       "198  267566        0\n",
       "199  271584        0\n",
       "\n",
       "[200 rows x 2 columns]"
      ]
     },
     "execution_count": 6887,
     "metadata": {},
     "output_type": "execute_result"
    }
   ],
   "source": [
    "answ_df"
   ]
  },
  {
   "cell_type": "code",
   "execution_count": null,
   "metadata": {},
   "outputs": [],
   "source": []
  },
  {
   "cell_type": "code",
   "execution_count": null,
   "metadata": {},
   "outputs": [],
   "source": []
  },
  {
   "cell_type": "markdown",
   "metadata": {},
   "source": [
    "Комментарии.\n",
    "Качество модели можно улучшить, добавив новые признаки.\n",
    "Новые признаки можно сделать следующим образом:\n",
    " - простыми операциями - деление, умножение, сложение и вычитание (возможно сразу несколько признаков одновоременно)\n",
    " - возведение в степень\n",
    "\n",
    "Но в силу того, что не смогла найти библиотеку, которая делает binning/woe преобразования, то оценивать качество разбиения приходилось вручную.\n",
    "Поэтому сами признаки могут обладать на столь высоким качеством предсказания\n",
    "\n",
    "Так как целевая переменная имеет несбалансированные классы, попробовала еще сдлеать балансировку классов с помощью BorderlineSMOTE(код ниже), но прироста качества модели не было"
   ]
  },
  {
   "cell_type": "code",
   "execution_count": null,
   "metadata": {},
   "outputs": [],
   "source": []
  },
  {
   "cell_type": "code",
   "execution_count": null,
   "metadata": {},
   "outputs": [],
   "source": [
    "#smote\n",
    "from imblearn.over_sampling import BorderlineSMOTE\n",
    "bs = BorderlineSMOTE(random_state=152, n_jobs = -1)\n",
    "X_smote, y_smote = bs.fit_sample(X_train1,y_train1 )\n",
    "logit1 = LogisticRegression().fit(X_smote, y_smote)\n",
    "print(\"AUC на обучающей выборке : {:.3f}\".format(roc_auc_score(y_smote, logit1.predict_proba(X_smote)[:, 1])))\n",
    "print(\"AUC на контрольной выборке : {:.3f}\".format(roc_auc_score(y_test1, logit1.predict_proba(X_test1)[:, 1])))"
   ]
  }
 ],
 "metadata": {
  "colab": {
   "collapsed_sections": [],
   "name": "PD_jun_ds",
   "provenance": [],
   "toc_visible": true
  },
  "kernelspec": {
   "display_name": "Python 3",
   "language": "python",
   "name": "python3"
  },
  "language_info": {
   "codemirror_mode": {
    "name": "ipython",
    "version": 3
   },
   "file_extension": ".py",
   "mimetype": "text/x-python",
   "name": "python",
   "nbconvert_exporter": "python",
   "pygments_lexer": "ipython3",
   "version": "3.8.5"
  }
 },
 "nbformat": 4,
 "nbformat_minor": 1
}
